{
 "cells": [
  {
   "cell_type": "markdown",
   "metadata": {},
   "source": [
    "# Table of Contents\n",
    " <p><div class=\"lev1\"><a href=\"#Task-1.-Compiling-Ebola-Data\"><span class=\"toc-item-num\">Task 1.&nbsp;&nbsp;</span>Compiling Ebola Data</a></div>\n",
    " <div class=\"lev1\"><a href=\"#Task-2.-RNA-Sequences\"><span class=\"toc-item-num\">Task 2.&nbsp;&nbsp;</span>RNA Sequences</a></div>\n",
    " <div class=\"lev1\"><a href=\"#Task-3.-Class-War-in-Titanic\"><span class=\"toc-item-num\">Task 3.&nbsp;&nbsp;</span>Class War in Titanic</a></div></p>"
   ]
  },
  {
   "cell_type": "code",
   "execution_count": 2,
   "metadata": {
    "collapsed": true
   },
   "outputs": [],
   "source": [
    "DATA_FOLDER = './Data' # Use the data folder provided in Tutorial 02 - Intro to Pandas."
   ]
  },
  {
   "cell_type": "markdown",
   "metadata": {},
   "source": [
    "## Task 1. Compiling Ebola Data\n",
    "\n",
    "The `DATA_FOLDER/ebola` folder contains summarized reports of Ebola cases from three countries (Guinea, Liberia and Sierra Leone) during the recent outbreak of the disease in West Africa. For each country, there are daily reports that contain various information about the outbreak in several cities in each country.\n",
    "\n",
    "Use pandas to import these data files into a single `Dataframe`.\n",
    "Using this `DataFrame`, calculate for *each country*, the *daily average per month* of *new cases* and *deaths*.\n",
    "Make sure you handle all the different expressions for *new cases* and *deaths* that are used in the reports."
   ]
  },
  {
   "cell_type": "code",
   "execution_count": 36,
   "metadata": {
    "collapsed": true
   },
   "outputs": [],
   "source": [
    "import pandas as pd\n",
    "from pylab import *\n",
    "import math\n",
    "import numpy as np\n",
    "import matplotlib.pyplot as plt\n",
    "import glob\n",
    "%matplotlib inline"
   ]
  },
  {
   "cell_type": "markdown",
   "metadata": {},
   "source": [
    "First a function was created to concatenate all the ebola datasets of a given country. This function iterates over all files in the data directory that is provided as a parameter of the function. The function returns a dataframe of all datasets with only the columns provided in column_names parameter which we will need to do this task. We will only need the dates, the description/variable and the totals/national columns."
   ]
  },
  {
   "cell_type": "code",
   "execution_count": 4,
   "metadata": {
    "collapsed": true
   },
   "outputs": [],
   "source": [
    "#a function to collect data from all days recorded\n",
    "def concatenate(directory_path,column_names):\n",
    "    directory = glob.glob(directory_path + \"/*.csv\")\n",
    "    frame = pd.DataFrame()\n",
    "    list_ = []\n",
    "    for file in directory:\n",
    "        df = pd.read_csv(file,usecols=column_names) # we only need the date, the variable/description and the totals/national for this task\n",
    "        list_.append(df)\n",
    "    frame = pd.concat(list_)\n",
    "    return frame"
   ]
  },
  {
   "cell_type": "markdown",
   "metadata": {},
   "source": [
    "Then, as shown below the concatenate function was applied to all 3 directories of guinea, liberia and sierra leone."
   ]
  },
  {
   "cell_type": "code",
   "execution_count": 5,
   "metadata": {
    "collapsed": false
   },
   "outputs": [],
   "source": [
    "#importing data\n",
    "guinea_data=concatenate(DATA_FOLDER + '/ebola/guinea_data',['Date','Description','Totals'])\n",
    "liberia_data=concatenate(DATA_FOLDER + '/ebola/liberia_data',['Date','Variable','National'])\n",
    "sl_data=concatenate(DATA_FOLDER + '/ebola/sl_data',['date','variable','National'])"
   ]
  },
  {
   "cell_type": "markdown",
   "metadata": {},
   "source": [
    "The function below takes a dataset and turns the date column to a column containing only the corresponding month. This function was adapted to all the ways the date was expressed in the datasets. For example the dates in the liberia datasets was expressed as mm/day/year while the other two datasets are written like so : day.month.year or day/month/year."
   ]
  },
  {
   "cell_type": "code",
   "execution_count": 6,
   "metadata": {
    "collapsed": true
   },
   "outputs": [],
   "source": [
    "#take a date written as in our datasets and returns only the month\n",
    "def dateToMonth(date,liberia) :\n",
    "    months=['01 January','02 February','03 March','04 April','05 May','06 June',\n",
    "            '07 July','08 August','09 September','10 October','11 November','12 December']\n",
    "    if(not(liberia)): \n",
    "        return months[int(date.replace('.','-').split('-')[1])-1]\n",
    "    else : \n",
    "        return months[int(date.split('/')[0])-1]"
   ]
  },
  {
   "cell_type": "markdown",
   "metadata": {},
   "source": [
    "In the code below, all 3 datasets are transformed with the function dateToMonth."
   ]
  },
  {
   "cell_type": "code",
   "execution_count": 7,
   "metadata": {
    "collapsed": false
   },
   "outputs": [],
   "source": [
    "#transform date to month in dataframes\n",
    "guinea_data['Date']=guinea_data['Date'].apply(lambda x : dateToMonth(x,False))\n",
    "liberia_data['Date']=liberia_data['Date'].apply(lambda x : dateToMonth(x,True))\n",
    "sl_data['date']=sl_data['date'].apply(lambda x : dateToMonth(x,False))"
   ]
  },
  {
   "cell_type": "markdown",
   "metadata": {},
   "source": [
    "Below, all useless rows in guinea data are filtered out and only rows giving new cases and new deaths were kept. Then, the numbers were casted to integers to get them ready to be used for the calculation of the mean. Also, the descriptions were modified to be 'Average daily deaths' and 'Average daily new cases'. "
   ]
  },
  {
   "cell_type": "code",
   "execution_count": 8,
   "metadata": {
    "collapsed": false
   },
   "outputs": [],
   "source": [
    "guinea_data=guinea_data[[description=='New cases of suspects' \n",
    "                         or description=='New cases of probables' \n",
    "                         or description=='New cases of confirmed' \n",
    "                         or description=='New deaths registered today' \n",
    "                         or description=='New deaths registered' \n",
    "                         or description=='New deaths registered today (probables)'\n",
    "                         or description=='New deaths registered today (suspects)'\n",
    "                         or description=='New deaths registered today (confirmed)'\n",
    "                         for description in guinea_data['Description'] ]]\n",
    "guinea_data=guinea_data.dropna()\n",
    "guinea_data['Totals']=guinea_data['Totals'].apply(lambda x : int(x))\n",
    "\n",
    "guinea_data['Description']=guinea_data['Description'].apply(lambda x :'Average daily deaths' \n",
    "                                                            if x=='New deaths registered today' or x=='New deaths registered' else'Average ' + x)"
   ]
  },
  {
   "cell_type": "markdown",
   "metadata": {},
   "source": [
    "Finally, below the mean is calculated by grouping by description and date."
   ]
  },
  {
   "cell_type": "code",
   "execution_count": 9,
   "metadata": {
    "collapsed": false
   },
   "outputs": [],
   "source": [
    "guinea_data=guinea_data.groupby(['Date','Description'])['Totals'].mean()"
   ]
  },
  {
   "cell_type": "code",
   "execution_count": 10,
   "metadata": {
    "collapsed": false
   },
   "outputs": [
    {
     "name": "stdout",
     "output_type": "stream",
     "text": [
      "Date          Description                                    \n",
      "08 August     Average New cases of confirmed                     12.4000\n",
      "              Average New cases of probables                      2.0000\n",
      "              Average New cases of suspects                      11.8000\n",
      "              Average New deaths registered today (confirmed)     2.0000\n",
      "              Average New deaths registered today (probables)     0.0000\n",
      "              Average New deaths registered today (suspects)      0.0000\n",
      "              Average daily deaths                                3.4000\n",
      "09 September  Average New cases of confirmed                     13.0000\n",
      "              Average New cases of probables                      1.1875\n",
      "              Average New cases of suspects                       5.4375\n",
      "              Average daily deaths                                3.5625\n",
      "10 October    Average New cases of confirmed                      6.0000\n",
      "              Average New cases of probables                      0.0000\n",
      "              Average New cases of suspects                      28.0000\n",
      "              Average daily deaths                               15.0000\n",
      "Name: Totals, dtype: float64\n"
     ]
    }
   ],
   "source": [
    "print(guinea_data)"
   ]
  },
  {
   "cell_type": "markdown",
   "metadata": {},
   "source": [
    "Same steps as for guinea are performed."
   ]
  },
  {
   "cell_type": "code",
   "execution_count": 11,
   "metadata": {
    "collapsed": false,
    "scrolled": false
   },
   "outputs": [],
   "source": [
    "sl_data=sl_data[[description=='new_confirmed' \n",
    "                 or description=='new_probable' \n",
    "                 or description=='new_suspected'\n",
    "                 or description=='death_confirmed'\n",
    "                 or description=='death_suspected'\n",
    "                 or description=='death_probable'\n",
    "                 for description in sl_data['variable'] ]]\n",
    "sl_data=sl_data.dropna()\n",
    "sl_data['National']=sl_data['National'].apply(lambda x : int(x))\n",
    "sl_data['variable']=sl_data['variable'].apply(lambda x :'Average daily '+x)"
   ]
  },
  {
   "cell_type": "code",
   "execution_count": 12,
   "metadata": {
    "collapsed": false
   },
   "outputs": [],
   "source": [
    "sl_data=sl_data.groupby(['date','variable'])['National'].mean()"
   ]
  },
  {
   "cell_type": "code",
   "execution_count": 13,
   "metadata": {
    "collapsed": false
   },
   "outputs": [
    {
     "name": "stdout",
     "output_type": "stream",
     "text": [
      "date          variable                     \n",
      "08 August     Average daily death_confirmed     326.500000\n",
      "              Average daily death_probable       35.166667\n",
      "              Average daily death_suspected       7.166667\n",
      "              Average daily new_confirmed        20.611111\n",
      "              Average daily new_probable          1.277778\n",
      "              Average daily new_suspected         6.055556\n",
      "09 September  Average daily death_confirmed     476.148148\n",
      "              Average daily death_probable       37.000000\n",
      "              Average daily death_suspected      11.000000\n",
      "              Average daily new_confirmed        36.962963\n",
      "              Average daily new_probable          0.000000\n",
      "              Average daily new_suspected         7.000000\n",
      "10 October    Average daily death_confirmed     905.464286\n",
      "              Average daily death_probable      159.500000\n",
      "              Average daily death_suspected      97.392857\n",
      "              Average daily new_confirmed        56.714286\n",
      "              Average daily new_probable          0.888889\n",
      "              Average daily new_suspected        13.851852\n",
      "11 November   Average daily death_confirmed    1241.105263\n",
      "              Average daily death_probable      208.000000\n",
      "              Average daily death_suspected     157.368421\n",
      "              Average daily new_confirmed        66.210526\n",
      "              Average daily new_probable          0.000000\n",
      "              Average daily new_suspected        23.000000\n",
      "12 December   Average daily death_confirmed    1643.500000\n",
      "              Average daily death_probable      208.000000\n",
      "              Average daily death_suspected     158.000000\n",
      "              Average daily new_confirmed        54.333333\n",
      "              Average daily new_probable          0.000000\n",
      "              Average daily new_suspected        14.000000\n",
      "Name: National, dtype: float64\n"
     ]
    }
   ],
   "source": [
    "print(sl_data)"
   ]
  },
  {
   "cell_type": "markdown",
   "metadata": {},
   "source": [
    "Same steps as for guinea and sierra leone are performed."
   ]
  },
  {
   "cell_type": "code",
   "execution_count": 14,
   "metadata": {
    "collapsed": false
   },
   "outputs": [],
   "source": [
    "liberia_data=liberia_data[[description=='New case/s (confirmed)' \n",
    "                           or description=='New Case/s (Probable)'\n",
    "                           or description=='New Case/s (Suspected)'\n",
    "                           or description=='Newly reported deaths' for description in liberia_data['Variable'] ]]\n",
    "liberia_data=liberia_data.dropna()\n",
    "liberia_data['National']=liberia_data['National'].apply(lambda x : int(x))\n",
    "liberia_data['Variable']=liberia_data['Variable'].apply(lambda x :'Average daily deaths' \n",
    "                                                            if x=='Newly reported deaths'else\n",
    "                                                            'Average '+x)"
   ]
  },
  {
   "cell_type": "code",
   "execution_count": 15,
   "metadata": {
    "collapsed": false
   },
   "outputs": [],
   "source": [
    "liberia_data=liberia_data.groupby(['Date','Variable'])['National'].mean()"
   ]
  },
  {
   "cell_type": "code",
   "execution_count": 16,
   "metadata": {
    "collapsed": false
   },
   "outputs": [
    {
     "name": "stdout",
     "output_type": "stream",
     "text": [
      "Date          Variable                      \n",
      "06 June       Average New Case/s (Probable)        1.142857\n",
      "              Average New Case/s (Suspected)       2.428571\n",
      "              Average New case/s (confirmed)       2.142857\n",
      "              Average daily deaths                 2.000000\n",
      "07 July       Average New Case/s (Probable)        3.727273\n",
      "              Average New Case/s (Suspected)       3.000000\n",
      "              Average New case/s (confirmed)       1.818182\n",
      "              Average daily deaths                 4.272727\n",
      "08 August     Average New Case/s (Probable)       19.777778\n",
      "              Average New Case/s (Suspected)      12.000000\n",
      "              Average New case/s (confirmed)       5.444444\n",
      "              Average daily deaths                23.222222\n",
      "09 September  Average New Case/s (Probable)       29.333333\n",
      "              Average New Case/s (Suspected)      28.333333\n",
      "              Average New case/s (confirmed)       6.166667\n",
      "              Average daily deaths                37.608696\n",
      "10 October    Average New Case/s (Probable)       17.760000\n",
      "              Average New Case/s (Suspected)      26.440000\n",
      "              Average New case/s (confirmed)       1.619048\n",
      "              Average daily deaths                28.040000\n",
      "11 November   Average New Case/s (Probable)        8.076923\n",
      "              Average New Case/s (Suspected)      19.461538\n",
      "              Average New case/s (confirmed)       7.800000\n",
      "              Average daily deaths                15.538462\n",
      "12 December   Average New Case/s (Probable)     1359.000000\n",
      "              Average New Case/s (Suspected)    2297.500000\n",
      "              Average New case/s (confirmed)    2169.375000\n",
      "Name: National, dtype: float64\n"
     ]
    }
   ],
   "source": [
    "print(liberia_data)"
   ]
  },
  {
   "cell_type": "markdown",
   "metadata": {},
   "source": [
    "## Task 2. RNA Sequences\n",
    "\n",
    "In the `DATA_FOLDER/microbiome` subdirectory, there are 9 spreadsheets of microbiome data that was acquired from high-throughput RNA sequencing procedures, along with a 10<sup>th</sup> file that describes the content of each. \n",
    "\n",
    "Use pandas to import the first 9 spreadsheets into a single `DataFrame`.\n",
    "Then, add the metadata information from the 10<sup>th</sup> spreadsheet as columns in the combined `DataFrame`.\n",
    "Make sure that the final `DataFrame` has a unique index and all the `NaN` values have been replaced by the tag `unknown`."
   ]
  },
  {
   "cell_type": "markdown",
   "metadata": {},
   "source": [
    "First the metadata is read and stored in a dataframe objet."
   ]
  },
  {
   "cell_type": "code",
   "execution_count": 17,
   "metadata": {
    "collapsed": false
   },
   "outputs": [],
   "source": [
    "#Reading the metadata\n",
    "metadata=pd.read_excel(DATA_FOLDER + \"/microbiome/metadata.xls\")\n",
    "metadata['SAMPLE']=metadata['SAMPLE'].apply(lambda x : 'unknown' if str(x)=='nan' else x)"
   ]
  },
  {
   "cell_type": "markdown",
   "metadata": {},
   "source": [
    "Below, The files MID1,MID2,...,MID9 are read and concatenated into a single dataframe. \n",
    "Also, the column called BARCODE is added and the corresponding file name is stored in that column. Meaning that, all rows from MID1's BARCODE column contain 'MID1' and all the rows from MID2's contain 'MID2' and so on. "
   ]
  },
  {
   "cell_type": "code",
   "execution_count": 18,
   "metadata": {
    "collapsed": false
   },
   "outputs": [],
   "source": [
    "MID=[]\n",
    "def read_and_prepare_file(filename): \n",
    "    file=pd.read_excel(DATA_FOLDER + \"/microbiome/\"+filename+\".xls\",header=None)\n",
    "    #add barcode as the first column and contains the filename. \n",
    "    file.insert(0,'BARCODE',filename)\n",
    "    return file\n",
    "frame=pd.DataFrame()\n",
    "for i in range(9):\n",
    "    df=read_and_prepare_file('MID'+str(i+1))\n",
    "    MID.append(df)\n",
    "frame=pd.concat(MID)"
   ]
  },
  {
   "cell_type": "markdown",
   "metadata": {},
   "source": [
    "Below, the dataframe's indices are made unique."
   ]
  },
  {
   "cell_type": "code",
   "execution_count": 19,
   "metadata": {
    "collapsed": false
   },
   "outputs": [],
   "source": [
    "frame = frame.reset_index(drop=True)"
   ]
  },
  {
   "cell_type": "markdown",
   "metadata": {},
   "source": [
    "Here, a merge is performed using the column 'BARCODE' and therefore giving us the desired resulting dataframe."
   ]
  },
  {
   "cell_type": "code",
   "execution_count": 20,
   "metadata": {
    "collapsed": false
   },
   "outputs": [],
   "source": [
    "frame=pd.merge(frame,metadata,on='BARCODE')"
   ]
  },
  {
   "cell_type": "code",
   "execution_count": 21,
   "metadata": {
    "collapsed": false
   },
   "outputs": [
    {
     "data": {
      "text/html": [
       "<div>\n",
       "<table border=\"1\" class=\"dataframe\">\n",
       "  <thead>\n",
       "    <tr style=\"text-align: right;\">\n",
       "      <th></th>\n",
       "      <th>BARCODE</th>\n",
       "      <th>0</th>\n",
       "      <th>1</th>\n",
       "      <th>GROUP</th>\n",
       "      <th>SAMPLE</th>\n",
       "    </tr>\n",
       "  </thead>\n",
       "  <tbody>\n",
       "    <tr>\n",
       "      <th>0</th>\n",
       "      <td>MID1</td>\n",
       "      <td>Archaea \"Crenarchaeota\" Thermoprotei Desulfuro...</td>\n",
       "      <td>7</td>\n",
       "      <td>EXTRACTION CONTROL</td>\n",
       "      <td>unknown</td>\n",
       "    </tr>\n",
       "    <tr>\n",
       "      <th>1</th>\n",
       "      <td>MID1</td>\n",
       "      <td>Archaea \"Crenarchaeota\" Thermoprotei Desulfuro...</td>\n",
       "      <td>2</td>\n",
       "      <td>EXTRACTION CONTROL</td>\n",
       "      <td>unknown</td>\n",
       "    </tr>\n",
       "    <tr>\n",
       "      <th>2</th>\n",
       "      <td>MID1</td>\n",
       "      <td>Archaea \"Crenarchaeota\" Thermoprotei Sulfoloba...</td>\n",
       "      <td>3</td>\n",
       "      <td>EXTRACTION CONTROL</td>\n",
       "      <td>unknown</td>\n",
       "    </tr>\n",
       "    <tr>\n",
       "      <th>3</th>\n",
       "      <td>MID1</td>\n",
       "      <td>Archaea \"Crenarchaeota\" Thermoprotei Thermopro...</td>\n",
       "      <td>3</td>\n",
       "      <td>EXTRACTION CONTROL</td>\n",
       "      <td>unknown</td>\n",
       "    </tr>\n",
       "    <tr>\n",
       "      <th>4</th>\n",
       "      <td>MID1</td>\n",
       "      <td>Archaea \"Euryarchaeota\" \"Methanomicrobia\" Meth...</td>\n",
       "      <td>7</td>\n",
       "      <td>EXTRACTION CONTROL</td>\n",
       "      <td>unknown</td>\n",
       "    </tr>\n",
       "    <tr>\n",
       "      <th>5</th>\n",
       "      <td>MID1</td>\n",
       "      <td>Archaea \"Euryarchaeota\" \"Methanomicrobia\" Meth...</td>\n",
       "      <td>1</td>\n",
       "      <td>EXTRACTION CONTROL</td>\n",
       "      <td>unknown</td>\n",
       "    </tr>\n",
       "    <tr>\n",
       "      <th>6</th>\n",
       "      <td>MID1</td>\n",
       "      <td>Archaea \"Euryarchaeota\" \"Methanomicrobia\" Meth...</td>\n",
       "      <td>1</td>\n",
       "      <td>EXTRACTION CONTROL</td>\n",
       "      <td>unknown</td>\n",
       "    </tr>\n",
       "    <tr>\n",
       "      <th>7</th>\n",
       "      <td>MID1</td>\n",
       "      <td>Archaea \"Euryarchaeota\" Archaeoglobi Archaeogl...</td>\n",
       "      <td>1</td>\n",
       "      <td>EXTRACTION CONTROL</td>\n",
       "      <td>unknown</td>\n",
       "    </tr>\n",
       "    <tr>\n",
       "      <th>8</th>\n",
       "      <td>MID1</td>\n",
       "      <td>Archaea \"Euryarchaeota\" Archaeoglobi Archaeogl...</td>\n",
       "      <td>1</td>\n",
       "      <td>EXTRACTION CONTROL</td>\n",
       "      <td>unknown</td>\n",
       "    </tr>\n",
       "    <tr>\n",
       "      <th>9</th>\n",
       "      <td>MID1</td>\n",
       "      <td>Archaea \"Euryarchaeota\" Halobacteria Halobacte...</td>\n",
       "      <td>1</td>\n",
       "      <td>EXTRACTION CONTROL</td>\n",
       "      <td>unknown</td>\n",
       "    </tr>\n",
       "    <tr>\n",
       "      <th>10</th>\n",
       "      <td>MID1</td>\n",
       "      <td>Archaea \"Euryarchaeota\" Halobacteria Halobacte...</td>\n",
       "      <td>4</td>\n",
       "      <td>EXTRACTION CONTROL</td>\n",
       "      <td>unknown</td>\n",
       "    </tr>\n",
       "    <tr>\n",
       "      <th>11</th>\n",
       "      <td>MID1</td>\n",
       "      <td>Archaea \"Euryarchaeota\" Halobacteria Halobacte...</td>\n",
       "      <td>1</td>\n",
       "      <td>EXTRACTION CONTROL</td>\n",
       "      <td>unknown</td>\n",
       "    </tr>\n",
       "    <tr>\n",
       "      <th>12</th>\n",
       "      <td>MID1</td>\n",
       "      <td>Archaea \"Euryarchaeota\" Halobacteria Halobacte...</td>\n",
       "      <td>2</td>\n",
       "      <td>EXTRACTION CONTROL</td>\n",
       "      <td>unknown</td>\n",
       "    </tr>\n",
       "    <tr>\n",
       "      <th>13</th>\n",
       "      <td>MID1</td>\n",
       "      <td>Archaea \"Euryarchaeota\" Halobacteria Halobacte...</td>\n",
       "      <td>4</td>\n",
       "      <td>EXTRACTION CONTROL</td>\n",
       "      <td>unknown</td>\n",
       "    </tr>\n",
       "    <tr>\n",
       "      <th>14</th>\n",
       "      <td>MID1</td>\n",
       "      <td>Archaea \"Euryarchaeota\" Methanococci Methanoco...</td>\n",
       "      <td>1</td>\n",
       "      <td>EXTRACTION CONTROL</td>\n",
       "      <td>unknown</td>\n",
       "    </tr>\n",
       "    <tr>\n",
       "      <th>15</th>\n",
       "      <td>MID1</td>\n",
       "      <td>Archaea \"Euryarchaeota\" Methanopyri Methanopyr...</td>\n",
       "      <td>12</td>\n",
       "      <td>EXTRACTION CONTROL</td>\n",
       "      <td>unknown</td>\n",
       "    </tr>\n",
       "    <tr>\n",
       "      <th>16</th>\n",
       "      <td>MID1</td>\n",
       "      <td>Archaea \"Euryarchaeota\" Thermoplasmata Thermop...</td>\n",
       "      <td>2</td>\n",
       "      <td>EXTRACTION CONTROL</td>\n",
       "      <td>unknown</td>\n",
       "    </tr>\n",
       "    <tr>\n",
       "      <th>17</th>\n",
       "      <td>MID1</td>\n",
       "      <td>Bacteria \"Actinobacteria\" Actinobacteria Actin...</td>\n",
       "      <td>2</td>\n",
       "      <td>EXTRACTION CONTROL</td>\n",
       "      <td>unknown</td>\n",
       "    </tr>\n",
       "    <tr>\n",
       "      <th>18</th>\n",
       "      <td>MID1</td>\n",
       "      <td>Bacteria \"Actinobacteria\" Actinobacteria Actin...</td>\n",
       "      <td>1</td>\n",
       "      <td>EXTRACTION CONTROL</td>\n",
       "      <td>unknown</td>\n",
       "    </tr>\n",
       "    <tr>\n",
       "      <th>19</th>\n",
       "      <td>MID1</td>\n",
       "      <td>Bacteria \"Actinobacteria\" Actinobacteria Actin...</td>\n",
       "      <td>1</td>\n",
       "      <td>EXTRACTION CONTROL</td>\n",
       "      <td>unknown</td>\n",
       "    </tr>\n",
       "    <tr>\n",
       "      <th>20</th>\n",
       "      <td>MID1</td>\n",
       "      <td>Bacteria \"Actinobacteria\" Actinobacteria Actin...</td>\n",
       "      <td>1</td>\n",
       "      <td>EXTRACTION CONTROL</td>\n",
       "      <td>unknown</td>\n",
       "    </tr>\n",
       "    <tr>\n",
       "      <th>21</th>\n",
       "      <td>MID1</td>\n",
       "      <td>Bacteria \"Actinobacteria\" Actinobacteria Actin...</td>\n",
       "      <td>2</td>\n",
       "      <td>EXTRACTION CONTROL</td>\n",
       "      <td>unknown</td>\n",
       "    </tr>\n",
       "    <tr>\n",
       "      <th>22</th>\n",
       "      <td>MID1</td>\n",
       "      <td>Bacteria \"Actinobacteria\" Actinobacteria Actin...</td>\n",
       "      <td>53</td>\n",
       "      <td>EXTRACTION CONTROL</td>\n",
       "      <td>unknown</td>\n",
       "    </tr>\n",
       "    <tr>\n",
       "      <th>23</th>\n",
       "      <td>MID1</td>\n",
       "      <td>Bacteria \"Actinobacteria\" Actinobacteria Actin...</td>\n",
       "      <td>1</td>\n",
       "      <td>EXTRACTION CONTROL</td>\n",
       "      <td>unknown</td>\n",
       "    </tr>\n",
       "    <tr>\n",
       "      <th>24</th>\n",
       "      <td>MID1</td>\n",
       "      <td>Bacteria \"Actinobacteria\" Actinobacteria Actin...</td>\n",
       "      <td>2</td>\n",
       "      <td>EXTRACTION CONTROL</td>\n",
       "      <td>unknown</td>\n",
       "    </tr>\n",
       "    <tr>\n",
       "      <th>25</th>\n",
       "      <td>MID1</td>\n",
       "      <td>Bacteria \"Actinobacteria\" Actinobacteria Actin...</td>\n",
       "      <td>3</td>\n",
       "      <td>EXTRACTION CONTROL</td>\n",
       "      <td>unknown</td>\n",
       "    </tr>\n",
       "    <tr>\n",
       "      <th>26</th>\n",
       "      <td>MID1</td>\n",
       "      <td>Bacteria \"Actinobacteria\" Actinobacteria Actin...</td>\n",
       "      <td>1</td>\n",
       "      <td>EXTRACTION CONTROL</td>\n",
       "      <td>unknown</td>\n",
       "    </tr>\n",
       "    <tr>\n",
       "      <th>27</th>\n",
       "      <td>MID1</td>\n",
       "      <td>Bacteria \"Actinobacteria\" Actinobacteria Actin...</td>\n",
       "      <td>99</td>\n",
       "      <td>EXTRACTION CONTROL</td>\n",
       "      <td>unknown</td>\n",
       "    </tr>\n",
       "    <tr>\n",
       "      <th>28</th>\n",
       "      <td>MID1</td>\n",
       "      <td>Bacteria \"Actinobacteria\" Actinobacteria Actin...</td>\n",
       "      <td>17</td>\n",
       "      <td>EXTRACTION CONTROL</td>\n",
       "      <td>unknown</td>\n",
       "    </tr>\n",
       "    <tr>\n",
       "      <th>29</th>\n",
       "      <td>MID1</td>\n",
       "      <td>Bacteria \"Actinobacteria\" Actinobacteria Actin...</td>\n",
       "      <td>2</td>\n",
       "      <td>EXTRACTION CONTROL</td>\n",
       "      <td>unknown</td>\n",
       "    </tr>\n",
       "    <tr>\n",
       "      <th>...</th>\n",
       "      <td>...</td>\n",
       "      <td>...</td>\n",
       "      <td>...</td>\n",
       "      <td>...</td>\n",
       "      <td>...</td>\n",
       "    </tr>\n",
       "    <tr>\n",
       "      <th>2366</th>\n",
       "      <td>MID9</td>\n",
       "      <td>Bacteria \"Proteobacteria\" Gammaproteobacteria ...</td>\n",
       "      <td>10</td>\n",
       "      <td>Control 2</td>\n",
       "      <td>stool</td>\n",
       "    </tr>\n",
       "    <tr>\n",
       "      <th>2367</th>\n",
       "      <td>MID9</td>\n",
       "      <td>Bacteria \"Proteobacteria\" Gammaproteobacteria ...</td>\n",
       "      <td>1</td>\n",
       "      <td>Control 2</td>\n",
       "      <td>stool</td>\n",
       "    </tr>\n",
       "    <tr>\n",
       "      <th>2368</th>\n",
       "      <td>MID9</td>\n",
       "      <td>Bacteria \"Proteobacteria\" Gammaproteobacteria ...</td>\n",
       "      <td>1</td>\n",
       "      <td>Control 2</td>\n",
       "      <td>stool</td>\n",
       "    </tr>\n",
       "    <tr>\n",
       "      <th>2369</th>\n",
       "      <td>MID9</td>\n",
       "      <td>Bacteria \"Proteobacteria\" Gammaproteobacteria ...</td>\n",
       "      <td>1</td>\n",
       "      <td>Control 2</td>\n",
       "      <td>stool</td>\n",
       "    </tr>\n",
       "    <tr>\n",
       "      <th>2370</th>\n",
       "      <td>MID9</td>\n",
       "      <td>Bacteria \"Proteobacteria\" Gammaproteobacteria ...</td>\n",
       "      <td>12</td>\n",
       "      <td>Control 2</td>\n",
       "      <td>stool</td>\n",
       "    </tr>\n",
       "    <tr>\n",
       "      <th>2371</th>\n",
       "      <td>MID9</td>\n",
       "      <td>Bacteria \"Proteobacteria\" Gammaproteobacteria ...</td>\n",
       "      <td>4</td>\n",
       "      <td>Control 2</td>\n",
       "      <td>stool</td>\n",
       "    </tr>\n",
       "    <tr>\n",
       "      <th>2372</th>\n",
       "      <td>MID9</td>\n",
       "      <td>Bacteria \"Proteobacteria\" Gammaproteobacteria ...</td>\n",
       "      <td>805</td>\n",
       "      <td>Control 2</td>\n",
       "      <td>stool</td>\n",
       "    </tr>\n",
       "    <tr>\n",
       "      <th>2373</th>\n",
       "      <td>MID9</td>\n",
       "      <td>Bacteria \"Proteobacteria\" Gammaproteobacteria ...</td>\n",
       "      <td>862</td>\n",
       "      <td>Control 2</td>\n",
       "      <td>stool</td>\n",
       "    </tr>\n",
       "    <tr>\n",
       "      <th>2374</th>\n",
       "      <td>MID9</td>\n",
       "      <td>Bacteria \"Proteobacteria\" Gammaproteobacteria ...</td>\n",
       "      <td>12</td>\n",
       "      <td>Control 2</td>\n",
       "      <td>stool</td>\n",
       "    </tr>\n",
       "    <tr>\n",
       "      <th>2375</th>\n",
       "      <td>MID9</td>\n",
       "      <td>Bacteria \"Proteobacteria\" Gammaproteobacteria ...</td>\n",
       "      <td>3534</td>\n",
       "      <td>Control 2</td>\n",
       "      <td>stool</td>\n",
       "    </tr>\n",
       "    <tr>\n",
       "      <th>2376</th>\n",
       "      <td>MID9</td>\n",
       "      <td>Bacteria \"Proteobacteria\" Gammaproteobacteria ...</td>\n",
       "      <td>4</td>\n",
       "      <td>Control 2</td>\n",
       "      <td>stool</td>\n",
       "    </tr>\n",
       "    <tr>\n",
       "      <th>2377</th>\n",
       "      <td>MID9</td>\n",
       "      <td>Bacteria \"Proteobacteria\" Gammaproteobacteria ...</td>\n",
       "      <td>1</td>\n",
       "      <td>Control 2</td>\n",
       "      <td>stool</td>\n",
       "    </tr>\n",
       "    <tr>\n",
       "      <th>2378</th>\n",
       "      <td>MID9</td>\n",
       "      <td>Bacteria \"Proteobacteria\" Gammaproteobacteria ...</td>\n",
       "      <td>25</td>\n",
       "      <td>Control 2</td>\n",
       "      <td>stool</td>\n",
       "    </tr>\n",
       "    <tr>\n",
       "      <th>2379</th>\n",
       "      <td>MID9</td>\n",
       "      <td>Bacteria \"Proteobacteria\" Gammaproteobacteria ...</td>\n",
       "      <td>2</td>\n",
       "      <td>Control 2</td>\n",
       "      <td>stool</td>\n",
       "    </tr>\n",
       "    <tr>\n",
       "      <th>2380</th>\n",
       "      <td>MID9</td>\n",
       "      <td>Bacteria \"Proteobacteria\" Gammaproteobacteria ...</td>\n",
       "      <td>3</td>\n",
       "      <td>Control 2</td>\n",
       "      <td>stool</td>\n",
       "    </tr>\n",
       "    <tr>\n",
       "      <th>2381</th>\n",
       "      <td>MID9</td>\n",
       "      <td>Bacteria \"Proteobacteria\" Gammaproteobacteria ...</td>\n",
       "      <td>2</td>\n",
       "      <td>Control 2</td>\n",
       "      <td>stool</td>\n",
       "    </tr>\n",
       "    <tr>\n",
       "      <th>2382</th>\n",
       "      <td>MID9</td>\n",
       "      <td>Bacteria \"Proteobacteria\" Gammaproteobacteria ...</td>\n",
       "      <td>1</td>\n",
       "      <td>Control 2</td>\n",
       "      <td>stool</td>\n",
       "    </tr>\n",
       "    <tr>\n",
       "      <th>2383</th>\n",
       "      <td>MID9</td>\n",
       "      <td>Bacteria \"Proteobacteria\" Gammaproteobacteria ...</td>\n",
       "      <td>3</td>\n",
       "      <td>Control 2</td>\n",
       "      <td>stool</td>\n",
       "    </tr>\n",
       "    <tr>\n",
       "      <th>2384</th>\n",
       "      <td>MID9</td>\n",
       "      <td>Bacteria \"Proteobacteria\" Gammaproteobacteria ...</td>\n",
       "      <td>2</td>\n",
       "      <td>Control 2</td>\n",
       "      <td>stool</td>\n",
       "    </tr>\n",
       "    <tr>\n",
       "      <th>2385</th>\n",
       "      <td>MID9</td>\n",
       "      <td>Bacteria \"Proteobacteria\" Gammaproteobacteria ...</td>\n",
       "      <td>1</td>\n",
       "      <td>Control 2</td>\n",
       "      <td>stool</td>\n",
       "    </tr>\n",
       "    <tr>\n",
       "      <th>2386</th>\n",
       "      <td>MID9</td>\n",
       "      <td>Bacteria \"Synergistetes\" Synergistia Synergist...</td>\n",
       "      <td>3</td>\n",
       "      <td>Control 2</td>\n",
       "      <td>stool</td>\n",
       "    </tr>\n",
       "    <tr>\n",
       "      <th>2387</th>\n",
       "      <td>MID9</td>\n",
       "      <td>Bacteria \"Tenericutes\" Mollicutes Anaeroplasma...</td>\n",
       "      <td>1</td>\n",
       "      <td>Control 2</td>\n",
       "      <td>stool</td>\n",
       "    </tr>\n",
       "    <tr>\n",
       "      <th>2388</th>\n",
       "      <td>MID9</td>\n",
       "      <td>Bacteria \"Tenericutes\" Mollicutes Haloplasmata...</td>\n",
       "      <td>11</td>\n",
       "      <td>Control 2</td>\n",
       "      <td>stool</td>\n",
       "    </tr>\n",
       "    <tr>\n",
       "      <th>2389</th>\n",
       "      <td>MID9</td>\n",
       "      <td>Bacteria \"Thermodesulfobacteria\" Thermodesulfo...</td>\n",
       "      <td>1</td>\n",
       "      <td>Control 2</td>\n",
       "      <td>stool</td>\n",
       "    </tr>\n",
       "    <tr>\n",
       "      <th>2390</th>\n",
       "      <td>MID9</td>\n",
       "      <td>Bacteria \"Thermodesulfobacteria\" Thermodesulfo...</td>\n",
       "      <td>1</td>\n",
       "      <td>Control 2</td>\n",
       "      <td>stool</td>\n",
       "    </tr>\n",
       "    <tr>\n",
       "      <th>2391</th>\n",
       "      <td>MID9</td>\n",
       "      <td>Bacteria \"Thermotogae\" Thermotogae Thermotogal...</td>\n",
       "      <td>43</td>\n",
       "      <td>Control 2</td>\n",
       "      <td>stool</td>\n",
       "    </tr>\n",
       "    <tr>\n",
       "      <th>2392</th>\n",
       "      <td>MID9</td>\n",
       "      <td>Bacteria \"Thermotogae\" Thermotogae Thermotogal...</td>\n",
       "      <td>16</td>\n",
       "      <td>Control 2</td>\n",
       "      <td>stool</td>\n",
       "    </tr>\n",
       "    <tr>\n",
       "      <th>2393</th>\n",
       "      <td>MID9</td>\n",
       "      <td>Bacteria \"Verrucomicrobia\" Opitutae Opitutales...</td>\n",
       "      <td>1</td>\n",
       "      <td>Control 2</td>\n",
       "      <td>stool</td>\n",
       "    </tr>\n",
       "    <tr>\n",
       "      <th>2394</th>\n",
       "      <td>MID9</td>\n",
       "      <td>Bacteria Cyanobacteria Cyanobacteria  Chloropl...</td>\n",
       "      <td>1</td>\n",
       "      <td>Control 2</td>\n",
       "      <td>stool</td>\n",
       "    </tr>\n",
       "    <tr>\n",
       "      <th>2395</th>\n",
       "      <td>MID9</td>\n",
       "      <td>Bacteria Cyanobacteria Cyanobacteria  Chloropl...</td>\n",
       "      <td>10</td>\n",
       "      <td>Control 2</td>\n",
       "      <td>stool</td>\n",
       "    </tr>\n",
       "  </tbody>\n",
       "</table>\n",
       "<p>2396 rows × 5 columns</p>\n",
       "</div>"
      ],
      "text/plain": [
       "     BARCODE                                                  0     1  \\\n",
       "0       MID1  Archaea \"Crenarchaeota\" Thermoprotei Desulfuro...     7   \n",
       "1       MID1  Archaea \"Crenarchaeota\" Thermoprotei Desulfuro...     2   \n",
       "2       MID1  Archaea \"Crenarchaeota\" Thermoprotei Sulfoloba...     3   \n",
       "3       MID1  Archaea \"Crenarchaeota\" Thermoprotei Thermopro...     3   \n",
       "4       MID1  Archaea \"Euryarchaeota\" \"Methanomicrobia\" Meth...     7   \n",
       "5       MID1  Archaea \"Euryarchaeota\" \"Methanomicrobia\" Meth...     1   \n",
       "6       MID1  Archaea \"Euryarchaeota\" \"Methanomicrobia\" Meth...     1   \n",
       "7       MID1  Archaea \"Euryarchaeota\" Archaeoglobi Archaeogl...     1   \n",
       "8       MID1  Archaea \"Euryarchaeota\" Archaeoglobi Archaeogl...     1   \n",
       "9       MID1  Archaea \"Euryarchaeota\" Halobacteria Halobacte...     1   \n",
       "10      MID1  Archaea \"Euryarchaeota\" Halobacteria Halobacte...     4   \n",
       "11      MID1  Archaea \"Euryarchaeota\" Halobacteria Halobacte...     1   \n",
       "12      MID1  Archaea \"Euryarchaeota\" Halobacteria Halobacte...     2   \n",
       "13      MID1  Archaea \"Euryarchaeota\" Halobacteria Halobacte...     4   \n",
       "14      MID1  Archaea \"Euryarchaeota\" Methanococci Methanoco...     1   \n",
       "15      MID1  Archaea \"Euryarchaeota\" Methanopyri Methanopyr...    12   \n",
       "16      MID1  Archaea \"Euryarchaeota\" Thermoplasmata Thermop...     2   \n",
       "17      MID1  Bacteria \"Actinobacteria\" Actinobacteria Actin...     2   \n",
       "18      MID1  Bacteria \"Actinobacteria\" Actinobacteria Actin...     1   \n",
       "19      MID1  Bacteria \"Actinobacteria\" Actinobacteria Actin...     1   \n",
       "20      MID1  Bacteria \"Actinobacteria\" Actinobacteria Actin...     1   \n",
       "21      MID1  Bacteria \"Actinobacteria\" Actinobacteria Actin...     2   \n",
       "22      MID1  Bacteria \"Actinobacteria\" Actinobacteria Actin...    53   \n",
       "23      MID1  Bacteria \"Actinobacteria\" Actinobacteria Actin...     1   \n",
       "24      MID1  Bacteria \"Actinobacteria\" Actinobacteria Actin...     2   \n",
       "25      MID1  Bacteria \"Actinobacteria\" Actinobacteria Actin...     3   \n",
       "26      MID1  Bacteria \"Actinobacteria\" Actinobacteria Actin...     1   \n",
       "27      MID1  Bacteria \"Actinobacteria\" Actinobacteria Actin...    99   \n",
       "28      MID1  Bacteria \"Actinobacteria\" Actinobacteria Actin...    17   \n",
       "29      MID1  Bacteria \"Actinobacteria\" Actinobacteria Actin...     2   \n",
       "...      ...                                                ...   ...   \n",
       "2366    MID9  Bacteria \"Proteobacteria\" Gammaproteobacteria ...    10   \n",
       "2367    MID9  Bacteria \"Proteobacteria\" Gammaproteobacteria ...     1   \n",
       "2368    MID9  Bacteria \"Proteobacteria\" Gammaproteobacteria ...     1   \n",
       "2369    MID9  Bacteria \"Proteobacteria\" Gammaproteobacteria ...     1   \n",
       "2370    MID9  Bacteria \"Proteobacteria\" Gammaproteobacteria ...    12   \n",
       "2371    MID9  Bacteria \"Proteobacteria\" Gammaproteobacteria ...     4   \n",
       "2372    MID9  Bacteria \"Proteobacteria\" Gammaproteobacteria ...   805   \n",
       "2373    MID9  Bacteria \"Proteobacteria\" Gammaproteobacteria ...   862   \n",
       "2374    MID9  Bacteria \"Proteobacteria\" Gammaproteobacteria ...    12   \n",
       "2375    MID9  Bacteria \"Proteobacteria\" Gammaproteobacteria ...  3534   \n",
       "2376    MID9  Bacteria \"Proteobacteria\" Gammaproteobacteria ...     4   \n",
       "2377    MID9  Bacteria \"Proteobacteria\" Gammaproteobacteria ...     1   \n",
       "2378    MID9  Bacteria \"Proteobacteria\" Gammaproteobacteria ...    25   \n",
       "2379    MID9  Bacteria \"Proteobacteria\" Gammaproteobacteria ...     2   \n",
       "2380    MID9  Bacteria \"Proteobacteria\" Gammaproteobacteria ...     3   \n",
       "2381    MID9  Bacteria \"Proteobacteria\" Gammaproteobacteria ...     2   \n",
       "2382    MID9  Bacteria \"Proteobacteria\" Gammaproteobacteria ...     1   \n",
       "2383    MID9  Bacteria \"Proteobacteria\" Gammaproteobacteria ...     3   \n",
       "2384    MID9  Bacteria \"Proteobacteria\" Gammaproteobacteria ...     2   \n",
       "2385    MID9  Bacteria \"Proteobacteria\" Gammaproteobacteria ...     1   \n",
       "2386    MID9  Bacteria \"Synergistetes\" Synergistia Synergist...     3   \n",
       "2387    MID9  Bacteria \"Tenericutes\" Mollicutes Anaeroplasma...     1   \n",
       "2388    MID9  Bacteria \"Tenericutes\" Mollicutes Haloplasmata...    11   \n",
       "2389    MID9  Bacteria \"Thermodesulfobacteria\" Thermodesulfo...     1   \n",
       "2390    MID9  Bacteria \"Thermodesulfobacteria\" Thermodesulfo...     1   \n",
       "2391    MID9  Bacteria \"Thermotogae\" Thermotogae Thermotogal...    43   \n",
       "2392    MID9  Bacteria \"Thermotogae\" Thermotogae Thermotogal...    16   \n",
       "2393    MID9  Bacteria \"Verrucomicrobia\" Opitutae Opitutales...     1   \n",
       "2394    MID9  Bacteria Cyanobacteria Cyanobacteria  Chloropl...     1   \n",
       "2395    MID9  Bacteria Cyanobacteria Cyanobacteria  Chloropl...    10   \n",
       "\n",
       "                   GROUP   SAMPLE  \n",
       "0     EXTRACTION CONTROL  unknown  \n",
       "1     EXTRACTION CONTROL  unknown  \n",
       "2     EXTRACTION CONTROL  unknown  \n",
       "3     EXTRACTION CONTROL  unknown  \n",
       "4     EXTRACTION CONTROL  unknown  \n",
       "5     EXTRACTION CONTROL  unknown  \n",
       "6     EXTRACTION CONTROL  unknown  \n",
       "7     EXTRACTION CONTROL  unknown  \n",
       "8     EXTRACTION CONTROL  unknown  \n",
       "9     EXTRACTION CONTROL  unknown  \n",
       "10    EXTRACTION CONTROL  unknown  \n",
       "11    EXTRACTION CONTROL  unknown  \n",
       "12    EXTRACTION CONTROL  unknown  \n",
       "13    EXTRACTION CONTROL  unknown  \n",
       "14    EXTRACTION CONTROL  unknown  \n",
       "15    EXTRACTION CONTROL  unknown  \n",
       "16    EXTRACTION CONTROL  unknown  \n",
       "17    EXTRACTION CONTROL  unknown  \n",
       "18    EXTRACTION CONTROL  unknown  \n",
       "19    EXTRACTION CONTROL  unknown  \n",
       "20    EXTRACTION CONTROL  unknown  \n",
       "21    EXTRACTION CONTROL  unknown  \n",
       "22    EXTRACTION CONTROL  unknown  \n",
       "23    EXTRACTION CONTROL  unknown  \n",
       "24    EXTRACTION CONTROL  unknown  \n",
       "25    EXTRACTION CONTROL  unknown  \n",
       "26    EXTRACTION CONTROL  unknown  \n",
       "27    EXTRACTION CONTROL  unknown  \n",
       "28    EXTRACTION CONTROL  unknown  \n",
       "29    EXTRACTION CONTROL  unknown  \n",
       "...                  ...      ...  \n",
       "2366           Control 2    stool  \n",
       "2367           Control 2    stool  \n",
       "2368           Control 2    stool  \n",
       "2369           Control 2    stool  \n",
       "2370           Control 2    stool  \n",
       "2371           Control 2    stool  \n",
       "2372           Control 2    stool  \n",
       "2373           Control 2    stool  \n",
       "2374           Control 2    stool  \n",
       "2375           Control 2    stool  \n",
       "2376           Control 2    stool  \n",
       "2377           Control 2    stool  \n",
       "2378           Control 2    stool  \n",
       "2379           Control 2    stool  \n",
       "2380           Control 2    stool  \n",
       "2381           Control 2    stool  \n",
       "2382           Control 2    stool  \n",
       "2383           Control 2    stool  \n",
       "2384           Control 2    stool  \n",
       "2385           Control 2    stool  \n",
       "2386           Control 2    stool  \n",
       "2387           Control 2    stool  \n",
       "2388           Control 2    stool  \n",
       "2389           Control 2    stool  \n",
       "2390           Control 2    stool  \n",
       "2391           Control 2    stool  \n",
       "2392           Control 2    stool  \n",
       "2393           Control 2    stool  \n",
       "2394           Control 2    stool  \n",
       "2395           Control 2    stool  \n",
       "\n",
       "[2396 rows x 5 columns]"
      ]
     },
     "execution_count": 21,
     "metadata": {},
     "output_type": "execute_result"
    }
   ],
   "source": [
    "frame"
   ]
  },
  {
   "cell_type": "markdown",
   "metadata": {},
   "source": [
    "## Task 3. Class War in Titanic\n",
    "\n",
    "Use pandas to import the data file `Data/titanic.xls`. It contains data on all the passengers that travelled on the Titanic."
   ]
  },
  {
   "cell_type": "code",
   "execution_count": 22,
   "metadata": {
    "collapsed": false
   },
   "outputs": [
    {
     "data": {
      "text/html": [
       "<hr><h2>Data frame:titanic3</h2>1309 observations and 14 variables, maximum # NAs:1188<hr>\n",
       "<TABLE BORDER>\n",
       "<tr><td>Name</td><td>Labels</td><td>Units</td><td>Levels</td><td>Storage</td><td>NAs</td></tr>\n",
       "<tr><td>pclass</td><td></td><td></td><td><a href=\"#pclass\"><div align=right>  3</div></a></td><td>integer</td><td><div align=right>   0</div></td></tr>\n",
       "<tr><td>survived</td><td>Survived</td><td></td><td><div align=right></div></td><td>double</td><td><div align=right>   0</div></td></tr>\n",
       "<tr><td>name</td><td>Name</td><td></td><td><div align=right></div></td><td>character</td><td><div align=right>   0</div></td></tr>\n",
       "<tr><td>sex</td><td></td><td></td><td><a href=\"#sex\"><div align=right>  2</div></a></td><td>integer</td><td><div align=right>   0</div></td></tr>\n",
       "<tr><td>age</td><td>Age</td><td>Year</td><td><div align=right></div></td><td>double</td><td><div align=right> 263</div></td></tr>\n",
       "<tr><td>sibsp</td><td>Number of Siblings/Spouses Aboard</td><td></td><td><div align=right></div></td><td>double</td><td><div align=right>   0</div></td></tr>\n",
       "<tr><td>parch</td><td>Number of Parents/Children Aboard</td><td></td><td><div align=right></div></td><td>double</td><td><div align=right>   0</div></td></tr>\n",
       "<tr><td>ticket</td><td>Ticket Number</td><td></td><td><div align=right></div></td><td>character</td><td><div align=right>   0</div></td></tr>\n",
       "<tr><td>fare</td><td>Passenger Fare</td><td>British Pound (\\243)</td><td><div align=right></div></td><td>double</td><td><div align=right>   1</div></td></tr>\n",
       "<tr><td>cabin</td><td></td><td></td><td><a href=\"#cabin\"><div align=right>187</div></a></td><td>integer</td><td><div align=right>   0</div></td></tr>\n",
       "<tr><td>embarked</td><td></td><td></td><td><a href=\"#embarked\"><div align=right>  3</div></a></td><td>integer</td><td><div align=right>   2</div></td></tr>\n",
       "<tr><td>boat</td><td></td><td></td><td><a href=\"#boat\"><div align=right> 28</div></a></td><td>integer</td><td><div align=right>   0</div></td></tr>\n",
       "<tr><td>body</td><td>Body Identification Number</td><td></td><td><div align=right></div></td><td>double</td><td><div align=right>1188</div></td></tr>\n",
       "<tr><td>home.dest</td><td>Home/Destination</td><td></td><td><div align=right></div></td><td>character</td><td><div align=right>   0</div></td></tr>\n",
       "</TABLE>\n",
       "<hr>\n",
       "<TABLE BORDER>\n",
       "<tr><td>Variable</td><td>Levels</td></tr>\n",
       "<tr><td><a name=\"pclass\">pclass</a></td><td>1st</td></tr>\n",
       "<tr><td></td><td>2nd</td></tr>\n",
       "<tr><td></td><td>3rd</td></tr>\n",
       "<tr><td><a name=\"sex\">sex</a></td><td>female</td></tr>\n",
       "<tr><td></td><td>male</td></tr>\n",
       "<tr><td><a name=\"cabin\">cabin</a></td><td></td></tr>\n",
       "<tr><td></td><td>A10</td></tr>\n",
       "<tr><td></td><td>A11</td></tr>\n",
       "<tr><td></td><td>A14</td></tr>\n",
       "<tr><td></td><td>A16</td></tr>\n",
       "<tr><td></td><td>A18</td></tr>\n",
       "<tr><td></td><td>A19</td></tr>\n",
       "<tr><td></td><td>A20</td></tr>\n",
       "<tr><td></td><td>A21</td></tr>\n",
       "<tr><td></td><td>A23</td></tr>\n",
       "<tr><td></td><td>A24</td></tr>\n",
       "<tr><td></td><td>A26</td></tr>\n",
       "<tr><td></td><td>A29</td></tr>\n",
       "<tr><td></td><td>A31</td></tr>\n",
       "<tr><td></td><td>A32</td></tr>\n",
       "<tr><td></td><td>A34</td></tr>\n",
       "<tr><td></td><td>A36</td></tr>\n",
       "<tr><td></td><td>A5</td></tr>\n",
       "<tr><td></td><td>A6</td></tr>\n",
       "<tr><td></td><td>A7</td></tr>\n",
       "<tr><td></td><td>A9</td></tr>\n",
       "<tr><td></td><td>B10</td></tr>\n",
       "<tr><td></td><td>B101</td></tr>\n",
       "<tr><td></td><td>B102</td></tr>\n",
       "<tr><td></td><td>B11</td></tr>\n",
       "<tr><td></td><td>B18</td></tr>\n",
       "<tr><td></td><td>B19</td></tr>\n",
       "<tr><td></td><td>B20</td></tr>\n",
       "<tr><td></td><td>B22</td></tr>\n",
       "<tr><td></td><td>B24</td></tr>\n",
       "<tr><td></td><td>B26</td></tr>\n",
       "<tr><td></td><td>B28</td></tr>\n",
       "<tr><td></td><td>B3</td></tr>\n",
       "<tr><td></td><td>B30</td></tr>\n",
       "<tr><td></td><td>B35</td></tr>\n",
       "<tr><td></td><td>B36</td></tr>\n",
       "<tr><td></td><td>B37</td></tr>\n",
       "<tr><td></td><td>B38</td></tr>\n",
       "<tr><td></td><td>B39</td></tr>\n",
       "<tr><td></td><td>B4</td></tr>\n",
       "<tr><td></td><td>B41</td></tr>\n",
       "<tr><td></td><td>B42</td></tr>\n",
       "<tr><td></td><td>B45</td></tr>\n",
       "<tr><td></td><td>B49</td></tr>\n",
       "<tr><td></td><td>B5</td></tr>\n",
       "<tr><td></td><td>B50</td></tr>\n",
       "<tr><td></td><td>B51 B53 B55</td></tr>\n",
       "<tr><td></td><td>B52 B54 B56</td></tr>\n",
       "<tr><td></td><td>B57 B59 B63 B66</td></tr>\n",
       "<tr><td></td><td>B58 B60</td></tr>\n",
       "<tr><td></td><td>B61</td></tr>\n",
       "<tr><td></td><td>B69</td></tr>\n",
       "<tr><td></td><td>B71</td></tr>\n",
       "<tr><td></td><td>B73</td></tr>\n",
       "<tr><td></td><td>B77</td></tr>\n",
       "<tr><td></td><td>B78</td></tr>\n",
       "<tr><td></td><td>B79</td></tr>\n",
       "<tr><td></td><td>B80</td></tr>\n",
       "<tr><td></td><td>B82 B84</td></tr>\n",
       "<tr><td></td><td>B86</td></tr>\n",
       "<tr><td></td><td>B94</td></tr>\n",
       "<tr><td></td><td>B96 B98</td></tr>\n",
       "<tr><td></td><td>C101</td></tr>\n",
       "<tr><td></td><td>C103</td></tr>\n",
       "<tr><td></td><td>C104</td></tr>\n",
       "<tr><td></td><td>C105</td></tr>\n",
       "<tr><td></td><td>C106</td></tr>\n",
       "<tr><td></td><td>C110</td></tr>\n",
       "<tr><td></td><td>C111</td></tr>\n",
       "<tr><td></td><td>C116</td></tr>\n",
       "<tr><td></td><td>C118</td></tr>\n",
       "<tr><td></td><td>C123</td></tr>\n",
       "<tr><td></td><td>C124</td></tr>\n",
       "<tr><td></td><td>C125</td></tr>\n",
       "<tr><td></td><td>C126</td></tr>\n",
       "<tr><td></td><td>C128</td></tr>\n",
       "<tr><td></td><td>C130</td></tr>\n",
       "<tr><td></td><td>C132</td></tr>\n",
       "<tr><td></td><td>C148</td></tr>\n",
       "<tr><td></td><td>C2</td></tr>\n",
       "<tr><td></td><td>C22 C26</td></tr>\n",
       "<tr><td></td><td>C23 C25 C27</td></tr>\n",
       "<tr><td></td><td>C28</td></tr>\n",
       "<tr><td></td><td>C30</td></tr>\n",
       "<tr><td></td><td>C31</td></tr>\n",
       "<tr><td></td><td>C32</td></tr>\n",
       "<tr><td></td><td>C39</td></tr>\n",
       "<tr><td></td><td>C45</td></tr>\n",
       "<tr><td></td><td>C46</td></tr>\n",
       "<tr><td></td><td>C47</td></tr>\n",
       "<tr><td></td><td>C49</td></tr>\n",
       "<tr><td></td><td>C50</td></tr>\n",
       "<tr><td></td><td>C51</td></tr>\n",
       "<tr><td></td><td>C52</td></tr>\n",
       "<tr><td></td><td>C53</td></tr>\n",
       "<tr><td></td><td>C54</td></tr>\n",
       "<tr><td></td><td>C55 C57</td></tr>\n",
       "<tr><td></td><td>C6</td></tr>\n",
       "<tr><td></td><td>C62 C64</td></tr>\n",
       "<tr><td></td><td>C65</td></tr>\n",
       "<tr><td></td><td>C68</td></tr>\n",
       "<tr><td></td><td>C7</td></tr>\n",
       "<tr><td></td><td>C70</td></tr>\n",
       "<tr><td></td><td>C78</td></tr>\n",
       "<tr><td></td><td>C80</td></tr>\n",
       "<tr><td></td><td>C82</td></tr>\n",
       "<tr><td></td><td>C83</td></tr>\n",
       "<tr><td></td><td>C85</td></tr>\n",
       "<tr><td></td><td>C86</td></tr>\n",
       "<tr><td></td><td>C87</td></tr>\n",
       "<tr><td></td><td>C89</td></tr>\n",
       "<tr><td></td><td>C90</td></tr>\n",
       "<tr><td></td><td>C91</td></tr>\n",
       "<tr><td></td><td>C92</td></tr>\n",
       "<tr><td></td><td>C93</td></tr>\n",
       "<tr><td></td><td>C95</td></tr>\n",
       "<tr><td></td><td>C97</td></tr>\n",
       "<tr><td></td><td>C99</td></tr>\n",
       "<tr><td></td><td>D</td></tr>\n",
       "<tr><td></td><td>D10 D12</td></tr>\n",
       "<tr><td></td><td>D11</td></tr>\n",
       "<tr><td></td><td>D15</td></tr>\n",
       "<tr><td></td><td>D17</td></tr>\n",
       "<tr><td></td><td>D19</td></tr>\n",
       "<tr><td></td><td>D20</td></tr>\n",
       "<tr><td></td><td>D21</td></tr>\n",
       "<tr><td></td><td>D22</td></tr>\n",
       "<tr><td></td><td>D26</td></tr>\n",
       "<tr><td></td><td>D28</td></tr>\n",
       "<tr><td></td><td>D30</td></tr>\n",
       "<tr><td></td><td>D33</td></tr>\n",
       "<tr><td></td><td>D34</td></tr>\n",
       "<tr><td></td><td>D35</td></tr>\n",
       "<tr><td></td><td>D36</td></tr>\n",
       "<tr><td></td><td>D37</td></tr>\n",
       "<tr><td></td><td>D38</td></tr>\n",
       "<tr><td></td><td>D40</td></tr>\n",
       "<tr><td></td><td>D43</td></tr>\n",
       "<tr><td></td><td>D45</td></tr>\n",
       "<tr><td></td><td>D46</td></tr>\n",
       "<tr><td></td><td>D47</td></tr>\n",
       "<tr><td></td><td>D48</td></tr>\n",
       "<tr><td></td><td>D49</td></tr>\n",
       "<tr><td></td><td>D50</td></tr>\n",
       "<tr><td></td><td>D56</td></tr>\n",
       "<tr><td></td><td>D6</td></tr>\n",
       "<tr><td></td><td>D7</td></tr>\n",
       "<tr><td></td><td>D9</td></tr>\n",
       "<tr><td></td><td>E10</td></tr>\n",
       "<tr><td></td><td>E101</td></tr>\n",
       "<tr><td></td><td>E12</td></tr>\n",
       "<tr><td></td><td>E121</td></tr>\n",
       "<tr><td></td><td>E17</td></tr>\n",
       "<tr><td></td><td>E24</td></tr>\n",
       "<tr><td></td><td>E25</td></tr>\n",
       "<tr><td></td><td>E31</td></tr>\n",
       "<tr><td></td><td>E33</td></tr>\n",
       "<tr><td></td><td>E34</td></tr>\n",
       "<tr><td></td><td>E36</td></tr>\n",
       "<tr><td></td><td>E38</td></tr>\n",
       "<tr><td></td><td>E39 E41</td></tr>\n",
       "<tr><td></td><td>E40</td></tr>\n",
       "<tr><td></td><td>E44</td></tr>\n",
       "<tr><td></td><td>E45</td></tr>\n",
       "<tr><td></td><td>E46</td></tr>\n",
       "<tr><td></td><td>E49</td></tr>\n",
       "<tr><td></td><td>E50</td></tr>\n",
       "<tr><td></td><td>E52</td></tr>\n",
       "<tr><td></td><td>E58</td></tr>\n",
       "<tr><td></td><td>E60</td></tr>\n",
       "<tr><td></td><td>E63</td></tr>\n",
       "<tr><td></td><td>E67</td></tr>\n",
       "<tr><td></td><td>E68</td></tr>\n",
       "<tr><td></td><td>E77</td></tr>\n",
       "<tr><td></td><td>E8</td></tr>\n",
       "<tr><td></td><td>F</td></tr>\n",
       "<tr><td></td><td>F E46</td></tr>\n",
       "<tr><td></td><td>F E57</td></tr>\n",
       "<tr><td></td><td>F E69</td></tr>\n",
       "<tr><td></td><td>F G63</td></tr>\n",
       "<tr><td></td><td>F G73</td></tr>\n",
       "<tr><td></td><td>F2</td></tr>\n",
       "<tr><td></td><td>F33</td></tr>\n",
       "<tr><td></td><td>F38</td></tr>\n",
       "<tr><td></td><td>F4</td></tr>\n",
       "<tr><td></td><td>G6</td></tr>\n",
       "<tr><td></td><td>T</td></tr>\n",
       "<tr><td><a name=\"embarked\">embarked</a></td><td>Cherbourg</td></tr>\n",
       "<tr><td></td><td>Queenstown</td></tr>\n",
       "<tr><td></td><td>Southampton</td></tr>\n",
       "<tr><td><a name=\"boat\">boat</a></td><td></td></tr>\n",
       "<tr><td></td><td>1</td></tr>\n",
       "<tr><td></td><td>10</td></tr>\n",
       "<tr><td></td><td>11</td></tr>\n",
       "<tr><td></td><td>12</td></tr>\n",
       "<tr><td></td><td>13</td></tr>\n",
       "<tr><td></td><td>13 15</td></tr>\n",
       "<tr><td></td><td>13 15 B</td></tr>\n",
       "<tr><td></td><td>14</td></tr>\n",
       "<tr><td></td><td>15</td></tr>\n",
       "<tr><td></td><td>15 16</td></tr>\n",
       "<tr><td></td><td>16</td></tr>\n",
       "<tr><td></td><td>2</td></tr>\n",
       "<tr><td></td><td>3</td></tr>\n",
       "<tr><td></td><td>4</td></tr>\n",
       "<tr><td></td><td>5</td></tr>\n",
       "<tr><td></td><td>5 7</td></tr>\n",
       "<tr><td></td><td>5 9</td></tr>\n",
       "<tr><td></td><td>6</td></tr>\n",
       "<tr><td></td><td>7</td></tr>\n",
       "<tr><td></td><td>8</td></tr>\n",
       "<tr><td></td><td>8 10</td></tr>\n",
       "<tr><td></td><td>9</td></tr>\n",
       "<tr><td></td><td>A</td></tr>\n",
       "<tr><td></td><td>B</td></tr>\n",
       "<tr><td></td><td>C</td></tr>\n",
       "<tr><td></td><td>C D</td></tr>\n",
       "<tr><td></td><td>D</td></tr>\n",
       "</TABLE>\n",
       "<hr>\n"
      ],
      "text/plain": [
       "<IPython.core.display.HTML object>"
      ]
     },
     "execution_count": 22,
     "metadata": {},
     "output_type": "execute_result"
    }
   ],
   "source": [
    "from IPython.core.display import HTML\n",
    "HTML(filename=DATA_FOLDER+'/titanic.html')"
   ]
  },
  {
   "cell_type": "markdown",
   "metadata": {},
   "source": [
    "For each of the following questions state clearly your assumptions and discuss your findings:\n",
    "1. Describe the *type* and the *value range* of each attribute. Indicate and transform the attributes that can be `Categorical`. \n",
    "2. Plot histograms for the *travel class*, *embarkation port*, *sex* and *age* attributes. For the latter one, use *discrete decade intervals*. \n",
    "3. Calculate the proportion of passengers by *cabin floor*. Present your results in a *pie chart*.\n",
    "4. For each *travel class*, calculate the proportion of the passengers that survived. Present your results in *pie charts*.\n",
    "5. Calculate the proportion of the passengers that survived by *travel class* and *sex*. Present your results in *a single histogram*.\n",
    "6. Create 2 equally populated *age categories* and calculate survival proportions by *age category*, *travel class* and *sex*. Present your results in a `DataFrame` with unique index."
   ]
  },
  {
   "cell_type": "code",
   "execution_count": 103,
   "metadata": {
    "collapsed": false
   },
   "outputs": [],
   "source": [
    "Titanic = pd.read_excel('./Data/titanic.xls')"
   ]
  },
  {
   "cell_type": "markdown",
   "metadata": {},
   "source": [
    "# 1. Types and value ranges :\n"
   ]
  },
  {
   "cell_type": "markdown",
   "metadata": {},
   "source": [
    "The types of the attributes of our dataframe are shown below"
   ]
  },
  {
   "cell_type": "code",
   "execution_count": 74,
   "metadata": {
    "collapsed": false
   },
   "outputs": [
    {
     "data": {
      "text/plain": [
       "pclass         int64\n",
       "survived       int64\n",
       "name          object\n",
       "sex           object\n",
       "age          float64\n",
       "sibsp          int64\n",
       "parch          int64\n",
       "ticket        object\n",
       "fare         float64\n",
       "cabin         object\n",
       "embarked      object\n",
       "boat          object\n",
       "body         float64\n",
       "home.dest     object\n",
       "dtype: object"
      ]
     },
     "execution_count": 74,
     "metadata": {},
     "output_type": "execute_result"
    }
   ],
   "source": [
    "Titanic.dtypes"
   ]
  },
  {
   "cell_type": "markdown",
   "metadata": {},
   "source": [
    "The maxes are shown below"
   ]
  },
  {
   "cell_type": "code",
   "execution_count": 75,
   "metadata": {
    "collapsed": false
   },
   "outputs": [
    {
     "data": {
      "text/plain": [
       "pclass        3.0000\n",
       "survived      1.0000\n",
       "age          80.0000\n",
       "sibsp         8.0000\n",
       "parch         9.0000\n",
       "fare        512.3292\n",
       "body        328.0000\n",
       "dtype: float64"
      ]
     },
     "execution_count": 75,
     "metadata": {},
     "output_type": "execute_result"
    }
   ],
   "source": [
    "Titanic.max()"
   ]
  },
  {
   "cell_type": "markdown",
   "metadata": {},
   "source": [
    "The Minimums of each attribute are shown below"
   ]
  },
  {
   "cell_type": "code",
   "execution_count": 76,
   "metadata": {
    "collapsed": false
   },
   "outputs": [
    {
     "data": {
      "text/plain": [
       "pclass      1.0000\n",
       "survived    0.0000\n",
       "age         0.1667\n",
       "sibsp       0.0000\n",
       "parch       0.0000\n",
       "fare        0.0000\n",
       "body        1.0000\n",
       "dtype: float64"
      ]
     },
     "execution_count": 76,
     "metadata": {},
     "output_type": "execute_result"
    }
   ],
   "source": [
    "Titanic.min()"
   ]
  },
  {
   "cell_type": "markdown",
   "metadata": {},
   "source": [
    "\"pclass\", \"survived\", \"sex\", \"Cabin\", \"Embarked\" and \"boat\" are Categorical Data, and can be transformed."
   ]
  },
  {
   "cell_type": "markdown",
   "metadata": {},
   "source": [
    "# 2. Histograms"
   ]
  },
  {
   "cell_type": "code",
   "execution_count": 104,
   "metadata": {
    "collapsed": false
   },
   "outputs": [],
   "source": [
    "#pclass\n",
    "Titanic['pclass'] = Titanic['pclass'].astype('category', categories=[1,2,3], ordered=False)"
   ]
  },
  {
   "cell_type": "code",
   "execution_count": 105,
   "metadata": {
    "collapsed": false
   },
   "outputs": [],
   "source": [
    "#survived\n",
    "Titanic['survived'] = Titanic['survived'].astype('category', categories=[0,1], ordered=True)"
   ]
  },
  {
   "cell_type": "code",
   "execution_count": 106,
   "metadata": {
    "collapsed": false
   },
   "outputs": [],
   "source": [
    "#sex\n",
    "Titanic['sex'] = Titanic['sex'].astype('category', categories=['male','female'], ordered=False)"
   ]
  },
  {
   "cell_type": "code",
   "execution_count": 107,
   "metadata": {
    "collapsed": true
   },
   "outputs": [],
   "source": [
    "#embarked\n",
    "Titanic['embarked'] = Titanic['embarked'].astype('category', categories=['S','C','Q'], ordered=False)"
   ]
  },
  {
   "cell_type": "code",
   "execution_count": 108,
   "metadata": {
    "collapsed": true
   },
   "outputs": [],
   "source": [
    "#cabin\n",
    "Cab = Titanic['cabin'].value_counts()\n",
    "Titanic['cabin'] = Titanic['cabin'].astype('category', categories = Cab.index.values , ordered=False)"
   ]
  },
  {
   "cell_type": "code",
   "execution_count": 109,
   "metadata": {
    "collapsed": true
   },
   "outputs": [],
   "source": [
    "#boat\n",
    "Boa = Titanic['boat'].value_counts()\n",
    "Titanic['boat'] = Titanic['boat'].astype('category', categories =  Boa.index.values , ordered=False)"
   ]
  },
  {
   "cell_type": "markdown",
   "metadata": {},
   "source": [
    "## 2.1 histograms for the travel class, embarkation port, sex and age.\n"
   ]
  },
  {
   "cell_type": "code",
   "execution_count": 131,
   "metadata": {
    "collapsed": false
   },
   "outputs": [
    {
     "data": {
      "image/png": "[encoded data removed]",
      "text/plain": [
       "<matplotlib.figure.Figure at 0x11314d978>"
      ]
     },
     "metadata": {},
     "output_type": "display_data"
    }
   ],
   "source": [
    "Titanic['pclass'].value_counts().plot(kind='bar',title='Number of passengers per class')\n",
    "plt.xlabel('Passenger Class')\n",
    "plt.show()"
   ]
  },
  {
   "cell_type": "markdown",
   "metadata": {},
   "source": [
    "## 2.2 histograms passengers by embarkation port"
   ]
  },
  {
   "cell_type": "code",
   "execution_count": 154,
   "metadata": {
    "collapsed": false
   },
   "outputs": [
    {
     "data": {
      "image/png": "[encoded data removed]",
      "text/plain": [
       "<matplotlib.figure.Figure at 0x114080400>"
      ]
     },
     "metadata": {},
     "output_type": "display_data"
    }
   ],
   "source": [
    "Titanic['embarked'].value_counts().plot(kind='bar',title='Number of passengers by embarkation port')\n",
    "plt.annotate('S = Southampton', xy=(2, 1), xytext=(1.7, 800))\n",
    "plt.annotate('C = Cherbourg', xy=(2, 1), xytext=(1.7, 700))\n",
    "plt.annotate('Q = Queenstown', xy=(2, 1), xytext=(1.7, 600))\n",
    "plt.xlabel('Embarkation port')\n",
    "plt.show()"
   ]
  },
  {
   "cell_type": "markdown",
   "metadata": {},
   "source": [
    "## 2.3 histograms of number of passenger by sex"
   ]
  },
  {
   "cell_type": "code",
   "execution_count": 155,
   "metadata": {
    "collapsed": false
   },
   "outputs": [
    {
     "data": {
      "text/plain": [
       "<matplotlib.axes._subplots.AxesSubplot at 0x113c7d198>"
      ]
     },
     "execution_count": 155,
     "metadata": {},
     "output_type": "execute_result"
    },
    {
     "data": {
      "image/png": "[encoded data removed]",
      "text/plain": [
       "<matplotlib.figure.Figure at 0x1131d8128>"
      ]
     },
     "metadata": {},
     "output_type": "display_data"
    }
   ],
   "source": [
    "Titanic['sex'].value_counts().plot(kind='bar',title='Number of passengers by sex')"
   ]
  },
  {
   "cell_type": "markdown",
   "metadata": {},
   "source": [
    "## 2.4 histograms of number of passengers by age interval"
   ]
  },
  {
   "cell_type": "code",
   "execution_count": 160,
   "metadata": {
    "collapsed": false
   },
   "outputs": [
    {
     "data": {
      "image/png": "[encoded data removed]",
      "text/plain": [
       "<matplotlib.figure.Figure at 0x114320dd8>"
      ]
     },
     "metadata": {},
     "output_type": "display_data"
    }
   ],
   "source": [
    "Titanic['age'].hist(bins = 8)\n",
    "plt.title(r'Number of passengers by age interval')\n",
    "plt.xlabel('Age')\n",
    "plt.show()"
   ]
  },
  {
   "cell_type": "markdown",
   "metadata": {},
   "source": [
    "# 3. Proportion of passengers by cabin floor"
   ]
  },
  {
   "cell_type": "markdown",
   "metadata": {},
   "source": [
    "Assuming a floor is designated by the letter at the START of each cabin ID : "
   ]
  },
  {
   "cell_type": "markdown",
   "metadata": {},
   "source": [
    "D is a dataframe created by iterating through the Titanic 'cabin' and taking only the first letter."
   ]
  },
  {
   "cell_type": "code",
   "execution_count": 198,
   "metadata": {
    "collapsed": true
   },
   "outputs": [],
   "source": [
    "p= np.zeros(len(Titanic))\n",
    "D = pd.Series(p,index=Titanic.index)\n",
    "for i in range(len(Titanic)):\n",
    "    #check fo NaNs\n",
    "    if (Titanic['cabin'][i]==Titanic['cabin'][i]):\n",
    "        \n",
    "        D[i] = Titanic['cabin'][i][0] #Taking the first letter of each cabin name"
   ]
  },
  {
   "cell_type": "markdown",
   "metadata": {},
   "source": [
    "The pie plot is shown below."
   ]
  },
  {
   "cell_type": "code",
   "execution_count": 195,
   "metadata": {
    "collapsed": false
   },
   "outputs": [
    {
     "data": {
      "text/plain": [
       "<matplotlib.axes._subplots.AxesSubplot at 0x1144844e0>"
      ]
     },
     "execution_count": 195,
     "metadata": {},
     "output_type": "execute_result"
    },
    {
     "data": {
      "image/png": "[encoded data removed]",
      "text/plain": [
       "<matplotlib.figure.Figure at 0x113d3e9b0>"
      ]
     },
     "metadata": {},
     "output_type": "display_data"
    }
   ],
   "source": [
    "proportions_by_floor= pd.DataFrame({'Passengers':D.value_counts()[1:]})\n",
    "proportions_by_floor['Passengers'].plot.pie(figsize=(8, 8),title='Proportion of passengers by cabin floor')"
   ]
  },
  {
   "cell_type": "markdown",
   "metadata": {},
   "source": [
    "# 4. Proportion of survival for each travel class"
   ]
  },
  {
   "cell_type": "markdown",
   "metadata": {},
   "source": [
    "The travel class dataframes are named T1, T2 and T3  to designate the travel class respectively 1,2 and 3."
   ]
  },
  {
   "cell_type": "code",
   "execution_count": 116,
   "metadata": {
    "collapsed": true
   },
   "outputs": [],
   "source": [
    "T  = Titanic[['pclass','survived']].copy()\n",
    "T1 = T[T.pclass == 1]\n",
    "T2 = T[T.pclass == 2]\n",
    "T3 = T[T.pclass == 3]"
   ]
  },
  {
   "cell_type": "markdown",
   "metadata": {},
   "source": [
    "The plots are shown below."
   ]
  },
  {
   "cell_type": "code",
   "execution_count": 117,
   "metadata": {
    "collapsed": false
   },
   "outputs": [
    {
     "data": {
      "image/png": "[encoded data removed]",
      "text/plain": [
       "<matplotlib.figure.Figure at 0x113a0a8d0>"
      ]
     },
     "metadata": {},
     "output_type": "display_data"
    }
   ],
   "source": [
    "subplot(1,3,1)\n",
    "# a different line code to switch 1s and 0s and have homogeneous pie charts\n",
    "T1['survived'].value_counts().sort_index(ascending=True).plot.pie(figsize=(25, 8))\n",
    "title('Class1')\n",
    "\n",
    "subplot(1,3,2)\n",
    "T2['survived'].value_counts().plot.pie(figsize=(25, 8))\n",
    "title('Class2')\n",
    "\n",
    "subplot(1,3,3)\n",
    "T3['survived'].value_counts().plot.pie(figsize=(25, 8))\n",
    "title('Class3')\n",
    "\n",
    "plt.show()"
   ]
  },
  {
   "cell_type": "markdown",
   "metadata": {},
   "source": [
    "# 5. Proportion of survival by travel class and sex"
   ]
  },
  {
   "cell_type": "markdown",
   "metadata": {},
   "source": [
    "The dataframe Tab is generated by selecting from Titanic only the columns needed."
   ]
  },
  {
   "cell_type": "code",
   "execution_count": 118,
   "metadata": {
    "collapsed": true
   },
   "outputs": [],
   "source": [
    "Tab  = Titanic[['pclass','survived','sex']].copy()"
   ]
  },
  {
   "cell_type": "markdown",
   "metadata": {},
   "source": [
    "Now, Tab is filtered many times to get the dataframes needed by sex and travel class."
   ]
  },
  {
   "cell_type": "code",
   "execution_count": 119,
   "metadata": {
    "collapsed": true
   },
   "outputs": [],
   "source": [
    "Tab_C1  = Tab[Tab.pclass == 1]\n",
    "Tab_FC1 = Tab_C1[Tab_C1.sex=='female']\n",
    "Tab_MC1 = Tab_C1[Tab_C1.sex=='male']\n",
    "\n",
    "Tab_C2  = Tab[Tab.pclass == 2]\n",
    "Tab_FC2 = Tab_C2[Tab_C2.sex=='female']\n",
    "Tab_MC2 = Tab_C2[Tab_C2.sex=='male']\n",
    "\n",
    "Tab_C3  = Tab[Tab.pclass == 3]\n",
    "Tab_FC3 = Tab_C3[Tab_C3.sex=='female']\n",
    "Tab_MC3 = Tab_C3[Tab_C3.sex=='male']"
   ]
  },
  {
   "cell_type": "markdown",
   "metadata": {},
   "source": [
    "The survival proportion for each case is calculated below by computing the mean of the 'survived' column."
   ]
  },
  {
   "cell_type": "code",
   "execution_count": 120,
   "metadata": {
    "collapsed": true
   },
   "outputs": [],
   "source": [
    "tfc1 = mean([int(Tab_FC1['survived'][i]) for  i in Tab_FC1.index])\n",
    "tmc1 = mean([int(Tab_MC1['survived'][i]) for  i in Tab_MC1.index])\n",
    "\n",
    "tfc2 = mean([int(Tab_FC2['survived'][i]) for  i in Tab_FC2.index])\n",
    "tmc2 = mean([int(Tab_MC2['survived'][i]) for  i in Tab_MC2.index])\n",
    "\n",
    "tfc3 = mean([int(Tab_FC3['survived'][i]) for  i in Tab_FC3.index])\n",
    "tmc3 = mean([int(Tab_MC3['survived'][i]) for  i in Tab_MC3.index])"
   ]
  },
  {
   "cell_type": "markdown",
   "metadata": {},
   "source": [
    "The resulting graph of the survival proportions is shown below."
   ]
  },
  {
   "cell_type": "code",
   "execution_count": 121,
   "metadata": {
    "collapsed": false
   },
   "outputs": [
    {
     "data": {
      "image/png": "[encoded data removed]",
      "text/plain": [
       "<matplotlib.figure.Figure at 0x113a274a8>"
      ]
     },
     "metadata": {},
     "output_type": "display_data"
    }
   ],
   "source": [
    "SurvivorsP = {'Male'   : pd.Series([tmc1, tmc2, tmc3], index=['pclass1', 'pclass2', 'pclass3']), \n",
    "             'Female' : pd.Series([tfc1, tfc2, tfc3], index=['pclass1', 'pclass2', 'pclass3'])}\n",
    "\n",
    "SurvivorsData = pd.DataFrame(SurvivorsP)\n",
    "SurvivorsData.plot.bar();"
   ]
  },
  {
   "cell_type": "markdown",
   "metadata": {},
   "source": [
    "# 6. Splitting Data into two by age"
   ]
  },
  {
   "cell_type": "markdown",
   "metadata": {},
   "source": [
    "Two equally populated age categories can be created by dividing the hole group through the median value :"
   ]
  },
  {
   "cell_type": "code",
   "execution_count": 122,
   "metadata": {
    "collapsed": true
   },
   "outputs": [],
   "source": [
    "ages  = Titanic[['pclass','age','survived','sex']].copy()\n",
    "ages['ageCat'] = pd.Series(np.random.randn(len(Titanic)), index=Titanic.index)\n",
    "\n",
    "ages = ages[np.isfinite(ages['age'])]\n",
    "ages = ages.reset_index(drop=True)"
   ]
  },
  {
   "cell_type": "markdown",
   "metadata": {},
   "source": [
    "The median value is calculated and the entire dataframe has been divided into two categories labeled 0, and 1 and stored in a new 'ageCat' column"
   ]
  },
  {
   "cell_type": "code",
   "execution_count": 123,
   "metadata": {
    "collapsed": false
   },
   "outputs": [
    {
     "name": "stderr",
     "output_type": "stream",
     "text": [
      "/Users/firasbenothman/anaconda/lib/python3.6/site-packages/ipykernel/__main__.py:9: SettingWithCopyWarning: \n",
      "A value is trying to be set on a copy of a slice from a DataFrame\n",
      "\n",
      "See the caveats in the documentation: http://pandas.pydata.org/pandas-docs/stable/indexing.html#indexing-view-versus-copy\n",
      "/Users/firasbenothman/anaconda/lib/python3.6/site-packages/ipykernel/__main__.py:7: SettingWithCopyWarning: \n",
      "A value is trying to be set on a copy of a slice from a DataFrame\n",
      "\n",
      "See the caveats in the documentation: http://pandas.pydata.org/pandas-docs/stable/indexing.html#indexing-view-versus-copy\n"
     ]
    }
   ],
   "source": [
    "AgeMedian = ages['age'].median()\n",
    "ages['ageCat'] = pd.Series(np.random.randn(len(Titanic)), index=Titanic.index)\n",
    "\n",
    "for j in range (len(ages)):\n",
    "    \n",
    "    if (ages['age'][j] < AgeMedian) :  #1309/2=654.5\n",
    "        ages['ageCat'][j] = 0\n",
    "    else:\n",
    "        ages['ageCat'][j] = 1\n"
   ]
  },
  {
   "cell_type": "markdown",
   "metadata": {},
   "source": [
    "We only take into account useful columns for our code here."
   ]
  },
  {
   "cell_type": "code",
   "execution_count": 124,
   "metadata": {
    "collapsed": true
   },
   "outputs": [],
   "source": [
    "ages = ages[['pclass','ageCat','survived','sex']]"
   ]
  },
  {
   "cell_type": "markdown",
   "metadata": {},
   "source": [
    "All dataframes needed to generate our resulting dataframe are generated here and named as follows:\n",
    "\n",
    "M : male , F : female.\n",
    "\n",
    "ij -> i : travel class , j : age category\n",
    "\n",
    "So for example the dataframe of males of the age category 0  and travel class three is name M30, and so on."
   ]
  },
  {
   "cell_type": "code",
   "execution_count": 169,
   "metadata": {
    "collapsed": true
   },
   "outputs": [],
   "source": [
    "M = ages[ages.sex=='male']\n",
    "M1 = M[M.pclass==1]\n",
    "M2 = M[M.pclass==2]\n",
    "M3 = M[M.pclass==3]\n",
    "\n",
    "M10 = M1[M1.ageCat==0]\n",
    "M11 = M1[M1.ageCat==1]\n",
    "\n",
    "M20 = M2[M2.ageCat==0]\n",
    "M21 = M2[M2.ageCat==1]\n",
    "\n",
    "M30 = M3[M3.ageCat==0]\n",
    "M31 = M3[M3.ageCat==1]\n",
    "\n",
    "F = ages[ages.sex=='female']\n",
    "F1 = F[F.pclass==1]\n",
    "F2 = F[F.pclass==2]\n",
    "F3 = F[F.pclass==3]\n",
    "\n",
    "F10 = F1[F1.ageCat==0]\n",
    "F11 = F1[F1.ageCat==1]\n",
    "\n",
    "F20 = F2[F2.ageCat==0]\n",
    "F21 = F2[F2.ageCat==1]\n",
    "\n",
    "F30 = F3[F3.ageCat==0]\n",
    "F31 = F3[F3.ageCat==1]"
   ]
  },
  {
   "cell_type": "markdown",
   "metadata": {},
   "source": [
    "The means are calculated for each dataframe below and they are named exactly like before only with lowercase letter for male and female."
   ]
  },
  {
   "cell_type": "code",
   "execution_count": 170,
   "metadata": {
    "collapsed": true
   },
   "outputs": [],
   "source": [
    "m10 = mean([int(M10['survived'][i]) for  i in M10.index])\n",
    "m11 = mean([int(M11['survived'][i]) for  i in M11.index])\n",
    "\n",
    "m20 = mean([int(M20['survived'][i]) for  i in M20.index])\n",
    "m21 = mean([int(M21['survived'][i]) for  i in M21.index])\n",
    "\n",
    "m30 = mean([int(M30['survived'][i]) for  i in M30.index])\n",
    "m31 = mean([int(M31['survived'][i]) for  i in M31.index])\n",
    "\n",
    "f10 = mean([int(F10['survived'][i]) for  i in F10.index])\n",
    "f11 = mean([int(F11['survived'][i]) for  i in F11.index])\n",
    "\n",
    "f20 = mean([int(F20['survived'][i]) for  i in F20.index])\n",
    "f21 = mean([int(F21['survived'][i]) for  i in F21.index])\n",
    "\n",
    "f30 = mean([int(F30['survived'][i]) for  i in F30.index])\n",
    "f31 = mean([int(F31['survived'][i]) for  i in F31.index])"
   ]
  },
  {
   "cell_type": "markdown",
   "metadata": {},
   "source": [
    "The dataframe needed is generated and a graph showing the pourcentages is shown below."
   ]
  },
  {
   "cell_type": "code",
   "execution_count": 173,
   "metadata": {
    "collapsed": false
   },
   "outputs": [
    {
     "data": {
      "image/png": "[encoded data removed]",
      "text/plain": [
       "<matplotlib.figure.Figure at 0x1152c34a8>"
      ]
     },
     "metadata": {},
     "output_type": "display_data"
    }
   ],
   "source": [
    "SurvivalP = {'MaleCat0'   : pd.Series([m10, m20, m30], index=['pclass1', 'pclass2', 'pclass3']), \n",
    "             'MaleCat1'   : pd.Series([m11, m21, m31], index=['pclass1', 'pclass2', 'pclass3']), \n",
    "             'FemaleCat0' : pd.Series([f10, f20, f30], index=['pclass1', 'pclass2', 'pclass3']), \n",
    "             'FemaleCat1' : pd.Series([f11, f21, f31], index=['pclass1', 'pclass2', 'pclass3'])}\n",
    "\n",
    "SurvivalData = pd.DataFrame(SurvivalP)\n",
    "SurvivalData.plot.bar(title='Survival by age age category sex and travel class');\n",
    "plt.xlabel('Travel class')\n",
    "plt.show()"
   ]
  },
  {
   "cell_type": "markdown",
   "metadata": {},
   "source": [
    "The dataframe is shown here."
   ]
  },
  {
   "cell_type": "code",
   "execution_count": 174,
   "metadata": {
    "collapsed": false
   },
   "outputs": [
    {
     "data": {
      "text/html": [
       "<div>\n",
       "<table border=\"1\" class=\"dataframe\">\n",
       "  <thead>\n",
       "    <tr style=\"text-align: right;\">\n",
       "      <th></th>\n",
       "      <th>FemaleCat0</th>\n",
       "      <th>FemaleCat1</th>\n",
       "      <th>MaleCat0</th>\n",
       "      <th>MaleCat1</th>\n",
       "    </tr>\n",
       "  </thead>\n",
       "  <tbody>\n",
       "    <tr>\n",
       "      <th>pclass1</th>\n",
       "      <td>0.950000</td>\n",
       "      <td>0.967742</td>\n",
       "      <td>0.535714</td>\n",
       "      <td>0.308943</td>\n",
       "    </tr>\n",
       "    <tr>\n",
       "      <th>pclass2</th>\n",
       "      <td>0.901961</td>\n",
       "      <td>0.884615</td>\n",
       "      <td>0.235294</td>\n",
       "      <td>0.077778</td>\n",
       "    </tr>\n",
       "    <tr>\n",
       "      <th>pclass3</th>\n",
       "      <td>0.528302</td>\n",
       "      <td>0.347826</td>\n",
       "      <td>0.194313</td>\n",
       "      <td>0.130435</td>\n",
       "    </tr>\n",
       "  </tbody>\n",
       "</table>\n",
       "</div>"
      ],
      "text/plain": [
       "         FemaleCat0  FemaleCat1  MaleCat0  MaleCat1\n",
       "pclass1    0.950000    0.967742  0.535714  0.308943\n",
       "pclass2    0.901961    0.884615  0.235294  0.077778\n",
       "pclass3    0.528302    0.347826  0.194313  0.130435"
      ]
     },
     "execution_count": 174,
     "metadata": {},
     "output_type": "execute_result"
    }
   ],
   "source": [
    "SurvivalData"
   ]
  }
 ],
 "metadata": {
  "kernelspec": {
   "display_name": "Python 3",
   "language": "python",
   "name": "python3"
  },
  "language_info": {
   "codemirror_mode": {
    "name": "ipython",
    "version": 3
   },
   "file_extension": ".py",
   "mimetype": "text/x-python",
   "name": "python",
   "nbconvert_exporter": "python",
   "pygments_lexer": "ipython3",
   "version": "3.6.0"
  }
 },
 "nbformat": 4,
 "nbformat_minor": 2
}
