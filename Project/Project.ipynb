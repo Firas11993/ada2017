{
 "cells": [
  {
   "cell_type": "code",
   "execution_count": 95,
   "metadata": {
    "collapsed": false
   },
   "outputs": [],
   "source": [
    "import json\n",
    "import matplotlib.pyplot as plt\n",
    "import numpy as np\n",
    "import pandas as pd\n",
    "import os\n",
    "from tqdm import tqdm\n",
    "import ast"
   ]
  },
  {
   "cell_type": "markdown",
   "metadata": {},
   "source": [
    "# 1. Listing Keywords : "
   ]
  },
  {
   "cell_type": "markdown",
   "metadata": {
    "collapsed": true
   },
   "source": [
    "First we made a list of topics we want to tackle in the tweets."
   ]
  },
  {
   "cell_type": "markdown",
   "metadata": {},
   "source": [
    "Topics : \n",
    "- Intermittent fasting.\n",
    "- Veganism. \n",
    "- Minimalist life. \n",
    "- Paleo diet.\n",
    "- Meditation. "
   ]
  },
  {
   "cell_type": "markdown",
   "metadata": {},
   "source": [
    "Then we made a few keywords for the topics listed above in all languages in switzerland to use when extracting our tweets of interest. "
   ]
  },
  {
   "cell_type": "code",
   "execution_count": 22,
   "metadata": {
    "collapsed": true
   },
   "outputs": [],
   "source": [
    "#Keywords for our tweets of interest. \n",
    "Intermittent_fasting ={'intermittentfasting','intermittierendefasten','jeuneintermittent','digiunointermittente'}\n",
    "Veganism={'plantbased','vegan','veganism','vegane','veganisme'}\n",
    "Minimalism={'minimalistlife','minimalism','minimalist','minimalistischer','minimalista'}\n",
    "Meditation={'meditation','meditazione'}\n",
    "Paleo={'regimepaleo','paleo','paleodiet','palaodiat','palao','dietapaleo','ketogenic','ketogenicdiet','ketogenediat','ketogene','dietachetogenica','chetogenica','regimecetogene','cetogene'}"
   ]
  },
  {
   "cell_type": "markdown",
   "metadata": {},
   "source": [
    "# 2. Loading the Dataset : "
   ]
  },
  {
   "cell_type": "markdown",
   "metadata": {},
   "source": [
    "As a first attempt, we took 10 files of the swiss-tweet dataset to take a look at what the files contain and how they are organized. \n",
    "\n",
    "Also, we wanted to see how well the tweets extraction with keywords works on a smaller set to avoid running it on the entire dataset and wait for hours to get bad results.\n",
    "\n",
    "The 10 files used are : harvest3r_twitter_data_01-01_0.json, harvest3r_twitter_data_01-02_0.json, harvest3r_twitter_data_01-03_0.json, harvest3r_twitter_data_01-04_0.json, harvest3r_twitter_data_01-05_0.json, harvest3r_twitter_data_01-06_0.json, harvest3r_twitter_data_01-07_0.json, harvest3r_twitter_data_01-08_0.json, harvest3r_twitter_data_01-09_0.json, harvest3r_twitter_data_01-10_0.json"
   ]
  },
  {
   "cell_type": "code",
   "execution_count": 3,
   "metadata": {
    "collapsed": false
   },
   "outputs": [],
   "source": [
    "#This function iterates over all files in the dataset folder and puts them in the pandas dataframe that we will call tweets.\n",
    "def load_tweets(path):\n",
    "    tweets=pd.DataFrame([])\n",
    "    directory = os.fsencode(path)\n",
    "    for file in tqdm(os.listdir(directory)):\n",
    "        filename = os.fsdecode(file)\n",
    "        new_tweet=pd.read_json(path+filename)\n",
    "        \n",
    "        tweets=tweets.append(new_tweet,ignore_index=True)\n",
    "    tweets=tweets.reset_index(drop=True)\n",
    "    return tweets"
   ]
  },
  {
   "cell_type": "code",
   "execution_count": 6,
   "metadata": {
    "collapsed": false
   },
   "outputs": [
    {
     "name": "stderr",
     "output_type": "stream",
     "text": [
      "100%|██████████| 10/10 [06:40<00:00, 40.07s/it]\n"
     ]
    }
   ],
   "source": [
    "#Loading tweets contained in the folder swiss-tweet in the Datasets folder.\n",
    "tweets=load_tweets('./Datasets/swiss-tweet/')"
   ]
  },
  {
   "cell_type": "markdown",
   "metadata": {},
   "source": [
    "# 3. Extracting target tweets : "
   ]
  },
  {
   "cell_type": "markdown",
   "metadata": {},
   "source": [
    "The function below was written to delete all spaces and to turn all letters to lower case and replace all letters such as é with e and ä with a and so on. \n",
    "\n",
    "The goal of using this function is to increase matching with keywords chances and also to make the keyword lists shorter and not have to exhaustively list all possible combinations of target keywords in the list above.\n"
   ]
  },
  {
   "cell_type": "code",
   "execution_count": 209,
   "metadata": {
    "collapsed": false
   },
   "outputs": [],
   "source": [
    "#This function preprocesses the tweets (read the text above for more details)\n",
    "def replace_characters(text) : \n",
    "    text=text.lower()\n",
    "    text=text.replace(' ','')\n",
    "    text=text.replace('é','e')\n",
    "    text=text.replace('è','e')\n",
    "    text=text.replace('ê','e')\n",
    "    text=text.replace('ë','e')\n",
    "    text=text.replace('ä','a')\n",
    "    text=text.replace('û','u')\n",
    "    text=text.replace('ü','u')\n",
    "    \n",
    "    return text"
   ]
  },
  {
   "cell_type": "code",
   "execution_count": 8,
   "metadata": {
    "collapsed": false
   },
   "outputs": [],
   "source": [
    "#This function looks for the tweets that contain the keywords passed as parameter and returns their indices. \n",
    "def extract_target_tweets(tweets,keywords):\n",
    "    #Initializing the indices array.\n",
    "    target_indices=[]\n",
    "    \n",
    "    #Iterate over all tweets\n",
    "    for i in tqdm(range(len(tweets['_source']))) : \n",
    "        \n",
    "        #Preprocess the tweets text.\n",
    "        tweet=replace_characters(tweets['_source'][i]['main'])\n",
    "        \n",
    "        for j in keywords : \n",
    "            #If tweet contains a keyword save its index in target_indices list.\n",
    "            if(j in tweet) : target_indices.append(i)\n",
    "    return target_indices"
   ]
  },
  {
   "cell_type": "markdown",
   "metadata": {},
   "source": [
    "Below, we look for indices of tweets that contain keywords of topics listed in Listing Keywords section using the two functions defined above."
   ]
  },
  {
   "cell_type": "code",
   "execution_count": 9,
   "metadata": {
    "collapsed": false
   },
   "outputs": [
    {
     "name": "stderr",
     "output_type": "stream",
     "text": [
      "100%|██████████| 329681/329681 [04:17<00:00, 1277.83it/s]\n",
      "100%|██████████| 329681/329681 [00:34<00:00, 9457.33it/s]\n",
      "100%|██████████| 329681/329681 [00:23<00:00, 13939.44it/s]\n",
      "100%|██████████| 329681/329681 [00:21<00:00, 15055.44it/s]\n",
      "100%|██████████| 329681/329681 [00:23<00:00, 14209.31it/s]\n"
     ]
    }
   ],
   "source": [
    "#Running the function extract_target_tweets on each topic.\n",
    "\n",
    "intermittent_fasting_tweets=extract_target_tweets(tweets,Intermittent_fasting)\n",
    "veganism_tweets=extract_target_tweets(tweets,Veganism)\n",
    "minimalism_tweets=extract_target_tweets(tweets,Minimalism)\n",
    "meditation_tweets=extract_target_tweets(tweets,Meditation)\n",
    "paleo_tweets=extract_target_tweets(tweets,Paleo)"
   ]
  },
  {
   "cell_type": "code",
   "execution_count": 10,
   "metadata": {
    "collapsed": true
   },
   "outputs": [],
   "source": [
    "#Keeping a list of all indices for later use.\n",
    "tweets_of_interest_indices=np.unique(intermittent_fasting_tweets+veganism_tweets+minimalism_tweets+meditation_tweets+paleo_tweets)"
   ]
  },
  {
   "cell_type": "markdown",
   "metadata": {},
   "source": [
    "## Results : "
   ]
  },
  {
   "cell_type": "code",
   "execution_count": 11,
   "metadata": {
    "collapsed": false
   },
   "outputs": [
    {
     "data": {
      "text/plain": [
       "('Number of tweets about Intermittent fasting : 0',\n",
       " 'Number of tweets about veganism : 252',\n",
       " 'Number of tweets about Minimalism :24',\n",
       " 'Number of tweets about Meditation: 216',\n",
       " 'Number of tweets about paleo diet : 40')"
      ]
     },
     "execution_count": 11,
     "metadata": {},
     "output_type": "execute_result"
    }
   ],
   "source": [
    "'Number of tweets about Intermittent fasting : ' +str(len(intermittent_fasting_tweets)),'Number of tweets about veganism : '+str(len(veganism_tweets)),'Number of tweets about Minimalism :' + str(len(minimalism_tweets)),'Number of tweets about Meditation: ' +str(len(meditation_tweets)),'Number of tweets about paleo diet : '+ str(len(paleo_tweets))"
   ]
  },
  {
   "cell_type": "markdown",
   "metadata": {},
   "source": [
    "The topics that got the most results are veganism and meditation. Intermittent fasting had no results whatsoever with the keywords provided. Minimalism and the paleo diet got very little results. "
   ]
  },
  {
   "cell_type": "markdown",
   "metadata": {},
   "source": [
    "# 4. Exploring resulting tweets : "
   ]
  },
  {
   "cell_type": "markdown",
   "metadata": {},
   "source": [
    "To explore the resulting extracted tweets, we get the indices from the lists constructed above (intermittent_fasting_tweets, veganism_tweets, minimalism_tweets, meditation_tweets, paleo_tweets) and explore its content. "
   ]
  },
  {
   "cell_type": "markdown",
   "metadata": {},
   "source": [
    "## 4.1 Results for Paleo Diet : "
   ]
  },
  {
   "cell_type": "markdown",
   "metadata": {},
   "source": [
    "After looking at some of the Paleo diet resulting tweets, we see that most of them were not tweets about the paleo diet at all. \n",
    "\n",
    "We see that most of them talk about the paleo festival, exactly like the example tweet shown below."
   ]
  },
  {
   "cell_type": "code",
   "execution_count": 12,
   "metadata": {
    "collapsed": false
   },
   "outputs": [
    {
     "data": {
      "text/plain": [
       "'@louiseattaqueofficiel at @paleofestival http://www.sigfredoharo.com/paleo-16\\xa0 © Sigfredo Haro photography pour le... http://fb.me/6bvdTws5u\\xa0'"
      ]
     },
     "execution_count": 12,
     "metadata": {},
     "output_type": "execute_result"
    }
   ],
   "source": [
    "tweets['_source'][208582]['main']"
   ]
  },
  {
   "cell_type": "markdown",
   "metadata": {},
   "source": [
    "### Next step : "
   ]
  },
  {
   "cell_type": "markdown",
   "metadata": {},
   "source": [
    "The bad results actually look like they were caused by bad choice of keywords. So we may try to fix the keywords for the paleo diet or better yet use another more sophisticated technique (Latent Dirichlet Allocation).\n",
    "\n",
    "If the results are still small, we might drop this topic. "
   ]
  },
  {
   "cell_type": "markdown",
   "metadata": {},
   "source": [
    "## 4.2 Results for Veganism : "
   ]
  },
  {
   "cell_type": "markdown",
   "metadata": {},
   "source": [
    "The results for veganism are good, in terms of number and accuracy. But it won't hurt to use a more sophisticated tool to extract tweets even more accurately."
   ]
  },
  {
   "cell_type": "code",
   "execution_count": 13,
   "metadata": {
    "collapsed": false
   },
   "outputs": [
    {
     "data": {
      "text/plain": [
       "('The #simplelife . Freshly made #coffeemorning & Spanish #oliveoil #toast #vegan #simplicity #mylifestyle #MomentOfTruth #awe #love #life',\n",
       " 'POSITIVE')"
      ]
     },
     "execution_count": 13,
     "metadata": {},
     "output_type": "execute_result"
    }
   ],
   "source": [
    "#Example of tweet about veganism and its corresponding sentiment as provided in the dataset.\n",
    "\n",
    "tweets['_source'][327460]['main'] , tweets['_source'][327460]['sentiment']"
   ]
  },
  {
   "cell_type": "markdown",
   "metadata": {},
   "source": [
    "## 4.3 Results for meditation : "
   ]
  },
  {
   "cell_type": "markdown",
   "metadata": {},
   "source": [
    "It is not surprising that we found many results about meditation, as it is already popular in the western world and more specifically in Switzerland. \n",
    "\n",
    "However, some results we got are ads for guided meditation sessions."
   ]
  },
  {
   "cell_type": "code",
   "execution_count": 14,
   "metadata": {
    "collapsed": false
   },
   "outputs": [
    {
     "data": {
      "text/plain": [
       "'This school replaced detention with meditation. The results are stunning.'"
      ]
     },
     "execution_count": 14,
     "metadata": {},
     "output_type": "execute_result"
    }
   ],
   "source": [
    "#Example of tweet about meditation.\n",
    "tweets['_source'][294749]['main']"
   ]
  },
  {
   "cell_type": "markdown",
   "metadata": {},
   "source": [
    "### Next step :"
   ]
  },
  {
   "cell_type": "markdown",
   "metadata": {},
   "source": [
    "Filter out all the tweets that contain ads about meditation."
   ]
  },
  {
   "cell_type": "markdown",
   "metadata": {},
   "source": [
    "## 4.4 Results for Minimalism : "
   ]
  },
  {
   "cell_type": "markdown",
   "metadata": {},
   "source": [
    "The resulting tweets for minimalism are completely off. We may get rid of the topic altogether, but we will give it another try with a new technique for extracting tweets about minimalism before deciding that."
   ]
  },
  {
   "cell_type": "code",
   "execution_count": 15,
   "metadata": {
    "collapsed": false
   },
   "outputs": [
    {
     "data": {
      "text/plain": [
       "'Minimalist Porcelain Clocks Like a Scale http://v.virg0.org/2bLigJl\\xa0 #design'"
      ]
     },
     "execution_count": 15,
     "metadata": {},
     "output_type": "execute_result"
    }
   ],
   "source": [
    "#Example of bad result of tweet about minimalism.\n",
    "tweets['_source'][242242]['main']"
   ]
  },
  {
   "cell_type": "markdown",
   "metadata": {},
   "source": [
    "## 4.5 Results for Intermittent Fasting : "
   ]
  },
  {
   "cell_type": "markdown",
   "metadata": {},
   "source": [
    "The intermittent fasting trend is almost inexistant in the tweets we selected. So, we will probably get rid of it for the rest of the project."
   ]
  },
  {
   "cell_type": "markdown",
   "metadata": {},
   "source": [
    "# 5. Sentiment Graphs : "
   ]
  },
  {
   "cell_type": "markdown",
   "metadata": {},
   "source": [
    "Fortunately, most of the sentiments were provided with the dataset. So, in this section we will have a look at how they were distributed."
   ]
  },
  {
   "cell_type": "code",
   "execution_count": 164,
   "metadata": {
    "collapsed": false
   },
   "outputs": [],
   "source": [
    "#This function returns a list of sentiments at indices provided as a parameter.\n",
    "def get_list_of_sentiments(indices): \n",
    "    sentiments=[]\n",
    "    for i in indices : \n",
    "        try: \n",
    "            sentiment=tweets['_source'][i]['sentiment']\n",
    "            sentiments.append(sentiment)\n",
    "        #In case there isn't a sentiment field just ignore and keep going.\n",
    "        except KeyError : continue\n",
    "    return sentiments"
   ]
  },
  {
   "cell_type": "code",
   "execution_count": 165,
   "metadata": {
    "collapsed": false
   },
   "outputs": [],
   "source": [
    "#This function draw a pie plot of the ratio of the number of occurences of the elements in sentiments passed as parameter.\n",
    "def plot_sentiments(sentiments,title) : \n",
    "    labels=np.unique(sentiments)\n",
    "    values=[sentiments.count(i) for i in labels]\n",
    "    plt.title(title)\n",
    "    plt.pie(values,labels=labels,shadow=True)\n",
    "    plt.show()"
   ]
  },
  {
   "cell_type": "markdown",
   "metadata": {},
   "source": [
    "Below, we will see the sentiments about the trends that had good results (veganism and meditation) as they were provided in the dataset sample."
   ]
  },
  {
   "cell_type": "markdown",
   "metadata": {},
   "source": [
    "## 5.1 Pie plot of veganism sentiments : "
   ]
  },
  {
   "cell_type": "code",
   "execution_count": 21,
   "metadata": {
    "collapsed": false
   },
   "outputs": [
    {
     "data": {
      "image/png": "[encoded data removed]",
      "text/plain": [
       "<matplotlib.figure.Figure at 0x18599fa90>"
      ]
     },
     "metadata": {},
     "output_type": "display_data"
    }
   ],
   "source": [
    "#Getting a list of sentiments of veganism \n",
    "veganism_sentiments=get_list_of_sentiments(veganism_tweets)\n",
    "\n",
    "#Drawing a pie plot of the sentiments.\n",
    "plot_sentiments(veganism_sentiments,'Sentiments about veganism')\n"
   ]
  },
  {
   "cell_type": "markdown",
   "metadata": {},
   "source": [
    "## 5.2 Pie plot of meditation sentiments : "
   ]
  },
  {
   "cell_type": "code",
   "execution_count": 22,
   "metadata": {
    "collapsed": false
   },
   "outputs": [
    {
     "data": {
      "image/png": "[encoded data removed]",
      "text/plain": [
       "<matplotlib.figure.Figure at 0x1aba29390>"
      ]
     },
     "metadata": {},
     "output_type": "display_data"
    }
   ],
   "source": [
    "#Getting a list of sentiments of meditation. \n",
    "meditation_sentiments=get_list_of_sentiments(meditation_tweets)\n",
    "\n",
    "#Drawing a pie plot of the sentiments.\n",
    "plot_sentiments(meditation_sentiments,'Sentiments about meditation')"
   ]
  },
  {
   "cell_type": "markdown",
   "metadata": {},
   "source": [
    "## 5.3 Discussion :"
   ]
  },
  {
   "cell_type": "markdown",
   "metadata": {},
   "source": [
    "From the two pie plots, we notice that most of the sentiments are neutral. By exploring the dataset a little we can see that many tweets that should have been positive or negative are labeled as neutral. \n",
    "\n",
    "Which is why we will try to determine sentiments of tweets on our own for the next milestone and see if we get better results."
   ]
  },
  {
   "cell_type": "markdown",
   "metadata": {},
   "source": [
    "# 6. What comes next : "
   ]
  },
  {
   "cell_type": "markdown",
   "metadata": {},
   "source": [
    "1. Find a better way to extract tweets about each topic instead of the tentative approach done above. <br>\n",
    "2. Run it on all the tweets in the dataset. <br>\n",
    "3. Show graphs about the sentiments of each topic.<br>\n",
    " - 3.1. Go more in details in graphs of sentiments (sentiment per gender ,per time period ,per region of Switzerland and so on...)<br>\n",
    " - 3.2. Compare between graphs of topics.\n",
    " \n",
    "4. We might add new topics for more results about trending lifestyles in Switzerland (e.g Gluten free)\n",
    "5. Present all results with conclusions about what trends seem to get the most love.\n",
    "6. The report will contain all the steps taken up to milestone 3 to get our results, as well as a discussion of the results.\n",
    "7. The presentation will contain a short description of steps taken to get our results, as well as a presentation of the results with graphs. And finally, draw some conclusions.<br>\n",
    "\n",
    "(Optional) : We would also like to see what kind of results we get from the bigger twitter dataset."
   ]
  },
  {
   "cell_type": "markdown",
   "metadata": {},
   "source": [
    "# Running previous steps on entire dataset : "
   ]
  },
  {
   "cell_type": "markdown",
   "metadata": {},
   "source": [
    "We ran a spark script on the entire dataset and we filtered the tweets we wanted using keywords extraction, the same method described in the previous step."
   ]
  },
  {
   "cell_type": "code",
   "execution_count": 1,
   "metadata": {
    "collapsed": true
   },
   "outputs": [],
   "source": [
    "path = './Datasets'"
   ]
  },
  {
   "cell_type": "markdown",
   "metadata": {},
   "source": [
    "We had to adapt some function described above to the new form of our resulting files.\n",
    "\n",
    "So we changed the function load_tweets into load_cluster_results."
   ]
  },
  {
   "cell_type": "code",
   "execution_count": null,
   "metadata": {
    "collapsed": true
   },
   "outputs": [],
   "source": [
    "def load_cluster_results(path):\n",
    "    tweets=[]\n",
    "    directory = os.fsencode(path)\n",
    "    for file in tqdm(os.listdir(directory)):\n",
    "        \n",
    "        filename = os.fsdecode(file)\n",
    "        if(filename=='.DS_Store' or '_SUCCESS' in filename) : continue\n",
    "\n",
    "        lines=[line.rstrip('\\n') for line in open(path + filename)]\n",
    "        for line in lines : \n",
    "            data = json.dumps(ast.literal_eval(line))\n",
    "            line = json.loads(data)\n",
    "            tweets.append(line)\n",
    "            \n",
    "    return tweets"
   ]
  },
  {
   "cell_type": "markdown",
   "metadata": {},
   "source": [
    "Here we run load_cluster_results on each trend."
   ]
  },
  {
   "cell_type": "code",
   "execution_count": null,
   "metadata": {
    "collapsed": false,
    "scrolled": false
   },
   "outputs": [],
   "source": [
    "veganism_tweets = load_cluster_results(path + '/veganism_semi_final/')\n",
    "meditation_tweets = load_cluster_results(path + '/meditation/')\n",
    "paleo_tweets = load_cluster_results(path + '/paleo/')\n",
    "intermittent_tweets = load_cluster_results(path + '/fasting/')\n",
    "minimalism_tweets = load_cluster_results(path + '/minimalism/')"
   ]
  },
  {
   "cell_type": "code",
   "execution_count": null,
   "metadata": {
    "collapsed": false
   },
   "outputs": [],
   "source": [
    "'Number of tweets about Intermittent fasting : ' +str(len(intermittent_tweets)),'Number of tweets about veganism : '+str(len(veganism_tweets)),'Number of tweets about Minimalism :' + str(len(minimalism_tweets)),'Number of tweets about Meditation: ' +str(len(meditation_tweets)),'Number of tweets about paleo diet : '+ str(len(paleo_tweets))"
   ]
  },
  {
   "cell_type": "markdown",
   "metadata": {},
   "source": [
    "We see that the results of intermittent fasting and paleo diet are still very small compared to the other two results."
   ]
  },
  {
   "cell_type": "markdown",
   "metadata": {},
   "source": [
    "Adapt get_list_of_sentiments to our new results."
   ]
  },
  {
   "cell_type": "code",
   "execution_count": 183,
   "metadata": {
    "collapsed": true
   },
   "outputs": [],
   "source": [
    "def get_list_of_sentiments(tweets): \n",
    "    sentiments=[]\n",
    "    for tweet in range(len(tweets)) : \n",
    "        try: \n",
    "            sentiment=tweets[tweet]['sentiment']\n",
    "            sentiments.append(sentiment)\n",
    "        #In case there isn't a sentiment field just ignore and keep going.\n",
    "        except KeyError : continue\n",
    "    return sentiments"
   ]
  },
  {
   "cell_type": "markdown",
   "metadata": {},
   "source": [
    "## Sentiments : "
   ]
  },
  {
   "cell_type": "code",
   "execution_count": 184,
   "metadata": {
    "collapsed": false
   },
   "outputs": [
    {
     "data": {
      "image/png": "[encoded data removed]",
      "text/plain": [
       "<matplotlib.figure.Figure at 0x12307b0b8>"
      ]
     },
     "metadata": {},
     "output_type": "display_data"
    }
   ],
   "source": [
    "#Getting a list of sentiments of veganism \n",
    "veganism_sentiments=get_list_of_sentiments(veganism_tweets)\n",
    "\n",
    "#Drawing a pie plot of the sentiments.\n",
    "plot_sentiments(veganism_sentiments,'Sentiments about veganism')\n"
   ]
  },
  {
   "cell_type": "code",
   "execution_count": 186,
   "metadata": {
    "collapsed": false
   },
   "outputs": [
    {
     "data": {
      "image/png": "[encoded data removed]",
      "text/plain": [
       "<matplotlib.figure.Figure at 0x11ee5a278>"
      ]
     },
     "metadata": {},
     "output_type": "display_data"
    }
   ],
   "source": [
    "#Getting a list of sentiments of veganism \n",
    "meditation_sentiments=get_list_of_sentiments(meditation_tweets)\n",
    "\n",
    "#Drawing a pie plot of the sentiments.\n",
    "plot_sentiments(meditation_sentiments,'Sentiments about meditation')\n"
   ]
  },
  {
   "cell_type": "markdown",
   "metadata": {},
   "source": [
    "There are still very bad results for paleo diet so we made a list of negative keywords which will indicate that a tweet is not what we are looking for.\n",
    "\n",
    "And by using filter_tweets defined below we will filter out tweets that are out of context."
   ]
  },
  {
   "cell_type": "code",
   "execution_count": 247,
   "metadata": {
    "collapsed": true
   },
   "outputs": [],
   "source": [
    "paleo_neg_keywords = {'festival','paleontology','fossil','paleolite','archeologie','archeology'}"
   ]
  },
  {
   "cell_type": "code",
   "execution_count": 251,
   "metadata": {
    "collapsed": false
   },
   "outputs": [],
   "source": [
    "def filter_tweets(tweets,neg_keywords) : \n",
    "    toremove=[]\n",
    "    for tweet in tweets : \n",
    "        for keyword in neg_keywords : \n",
    "            if (keyword in replace_characters(tweet['main'])) :\n",
    "                \n",
    "                toremove.append(tweet)\n",
    "                    \n",
    "    tweets = [tweet for tweet in tweets if tweet not in toremove]    \n",
    "    return tweets"
   ]
  },
  {
   "cell_type": "code",
   "execution_count": 302,
   "metadata": {
    "collapsed": false
   },
   "outputs": [
    {
     "data": {
      "image/png": "[encoded data removed]",
      "text/plain": [
       "<matplotlib.figure.Figure at 0x1276909b0>"
      ]
     },
     "metadata": {},
     "output_type": "display_data"
    }
   ],
   "source": [
    "#Getting a list of sentiments of veganism \n",
    "paleo_sentiments=get_list_of_sentiments(paleo_tweets_filtered)\n",
    "\n",
    "#Drawing a pie plot of the sentiments.\n",
    "plot_sentiments(paleo_sentiments,'Sentiments about ketogenic diet')\n"
   ]
  },
  {
   "cell_type": "code",
   "execution_count": 314,
   "metadata": {
    "collapsed": false
   },
   "outputs": [
    {
     "data": {
      "text/plain": [
       "'Gut - mein Umzug fügt meiner Hausnummer ein »A« hinzu. Recht minimalistisch. #lasttweet'"
      ]
     },
     "execution_count": 314,
     "metadata": {},
     "output_type": "execute_result"
    }
   ],
   "source": [
    "minimalism_tweets[6]['main']"
   ]
  },
  {
   "cell_type": "code",
   "execution_count": 315,
   "metadata": {
    "collapsed": false
   },
   "outputs": [
    {
     "data": {
      "image/png": "[encoded data removed]",
      "text/plain": [
       "<matplotlib.figure.Figure at 0x1276acac8>"
      ]
     },
     "metadata": {},
     "output_type": "display_data"
    }
   ],
   "source": [
    "#Getting a list of sentiments of veganism \n",
    "minimalism_sentiments=get_list_of_sentiments(minimalism_tweets)\n",
    "\n",
    "#Drawing a pie plot of the sentiments.\n",
    "plot_sentiments(minimalism_sentiments,'Sentiments about minimalism')\n"
   ]
  },
  {
   "cell_type": "markdown",
   "metadata": {},
   "source": [
    "## Problem :"
   ]
  },
  {
   "cell_type": "markdown",
   "metadata": {},
   "source": [
    "- We can see that there are not enough tweets for paleo diet (ketogenic diet), we will have to resort to the full twitter dataset to see better results.\n",
    "- For minimalism the result"
   ]
  },
  {
   "cell_type": "code",
   "execution_count": null,
   "metadata": {
    "collapsed": true
   },
   "outputs": [],
   "source": []
  }
 ],
 "metadata": {
  "kernelspec": {
   "display_name": "Python 3",
   "language": "python",
   "name": "python3"
  },
  "language_info": {
   "codemirror_mode": {
    "name": "ipython",
    "version": 3
   },
   "file_extension": ".py",
   "mimetype": "text/x-python",
   "name": "python",
   "nbconvert_exporter": "python",
   "pygments_lexer": "ipython3",
   "version": "3.6.0"
  }
 },
 "nbformat": 4,
 "nbformat_minor": 2
}
