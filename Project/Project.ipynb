{
 "cells": [
  {
   "cell_type": "code",
   "execution_count": 1,
   "metadata": {
    "collapsed": false
   },
   "outputs": [],
   "source": [
    "import json\n",
    "import matplotlib\n",
    "import matplotlib.pyplot as plt\n",
    "import numpy as np\n",
    "import pandas as pd\n",
    "import os\n",
    "from tqdm import tqdm\n",
    "import ast\n",
    "import re\n",
    "import pickle \n",
    "import warnings\n",
    "matplotlib.style.use('ggplot')\n",
    "warnings.filterwarnings(\"ignore\")"
   ]
  },
  {
   "cell_type": "markdown",
   "metadata": {},
   "source": [
    "**Comment for TAs : The continuation of Milestone 2 starts at section II**"
   ]
  },
  {
   "cell_type": "markdown",
   "metadata": {},
   "source": [
    "# Introduction : "
   ]
  },
  {
   "cell_type": "markdown",
   "metadata": {},
   "source": [
    "In the last few years, we have seen and heard of many new lifestyle trends/practices such as veganism, minimalism, meditation and so on... that completely changed the life of the people advocating them.\n",
    "Some examples of this are Hollywood actor Terry Crews who said that ever since he started practicing intermittent fasting he looks and feels better than he did when he was 22 years old, or Janette Murray who miraculously cured her cancer by going on a raw vegan diet and ran a marathon everyday in 2013 at 64 years old.\n",
    "\n",
    "However, everyone's body and mind are different. So the question is : Does the general public respond well to these practices too? Or do they mostly suffer from negative effects?\n",
    "\n",
    "In our project, we decided to put that to the test. We extracted tweets talking about trends/practices of our choice and performed sentiment analysis on them to get an idea about how they are perceived and compared them to each other to understand which practice has impacted people lives for the better the most, as well as, some additional analysis that will be shown in the rest of this notebook."
   ]
  },
  {
   "cell_type": "markdown",
   "metadata": {},
   "source": [
    "#  Listing Keywords : "
   ]
  },
  {
   "cell_type": "markdown",
   "metadata": {
    "collapsed": true
   },
   "source": [
    "First we made a list of topics we want to tackle in the tweets."
   ]
  },
  {
   "cell_type": "markdown",
   "metadata": {},
   "source": [
    "Topics : \n",
    "- Intermittent fasting.\n",
    "- Veganism. \n",
    "- Minimalist life. \n",
    "- Paleo diet.\n",
    "- Meditation. "
   ]
  },
  {
   "cell_type": "markdown",
   "metadata": {},
   "source": [
    "Then we made a few keywords for the topics listed above in all languages in switzerland to use when extracting our tweets of interest. "
   ]
  },
  {
   "cell_type": "code",
   "execution_count": 2,
   "metadata": {
    "collapsed": true
   },
   "outputs": [],
   "source": [
    "#Keywords for our tweets of interest. \n",
    "Intermittent_fasting ={'intermittentfasting','intermittierendefasten','jeuneintermittent','digiunointermittente'}\n",
    "Veganism={'plantbased','vegan','veganism','vegane','veganisme'}\n",
    "Minimalism={'minimalistlife','minimalism','minimalist','minimalistischer','minimalista'}\n",
    "Meditation={'meditation','meditazione'}\n",
    "Paleo={'regimepaleo','paleodiet','palaodiat','palao','dietapaleo','ketogenic','ketogenicdiet','ketogenediat','ketogene','dietachetogenica','chetogenica','regimecetogene','cetogene'}"
   ]
  },
  {
   "cell_type": "markdown",
   "metadata": {},
   "source": [
    "# I. Working on 10 files : "
   ]
  },
  {
   "cell_type": "markdown",
   "metadata": {},
   "source": [
    "## 1. Loading the Dataset : "
   ]
  },
  {
   "cell_type": "markdown",
   "metadata": {},
   "source": [
    "As a first attempt, we took 10 files of the swiss-tweet dataset to take a look at what the files contain and how they are organized. \n",
    "\n",
    "Also, we wanted to see how well the tweets extraction with keywords works on a smaller set to avoid running it on the entire dataset and wait for hours to get bad results.\n",
    "\n",
    "The 10 files used are : harvest3r_twitter_data_01-01_0.json, harvest3r_twitter_data_01-02_0.json, harvest3r_twitter_data_01-03_0.json, harvest3r_twitter_data_01-04_0.json, harvest3r_twitter_data_01-05_0.json, harvest3r_twitter_data_01-06_0.json, harvest3r_twitter_data_01-07_0.json, harvest3r_twitter_data_01-08_0.json, harvest3r_twitter_data_01-09_0.json, harvest3r_twitter_data_01-10_0.json"
   ]
  },
  {
   "cell_type": "code",
   "execution_count": 3,
   "metadata": {
    "collapsed": false
   },
   "outputs": [],
   "source": [
    "#This function iterates over all files in the dataset folder and puts them in the pandas dataframe that we will call tweets.\n",
    "def load_tweets(path):\n",
    "    \"\"\"\n",
    "    Returns list of tweets extracted by keyword.\n",
    "    :param path: String  \n",
    "    :return: list\n",
    "    \"\"\"\n",
    "    tweets=pd.DataFrame([])\n",
    "    directory = os.fsencode(path)\n",
    "    for file in tqdm(os.listdir(directory)):\n",
    "        filename = os.fsdecode(file)\n",
    "        new_tweet=pd.read_json(path+filename)\n",
    "        \n",
    "        tweets=tweets.append(new_tweet,ignore_index=True)\n",
    "    tweets=tweets.reset_index(drop=True)\n",
    "    return tweets"
   ]
  },
  {
   "cell_type": "code",
   "execution_count": 8,
   "metadata": {
    "collapsed": false
   },
   "outputs": [],
   "source": [
    "#Loading tweets contained in the folder swiss-tweet in the Datasets folder.\n",
    "tweets=load_tweets('./Datasets/swiss-tweet/')"
   ]
  },
  {
   "cell_type": "markdown",
   "metadata": {},
   "source": [
    "## 2. Extracting target tweets : "
   ]
  },
  {
   "cell_type": "markdown",
   "metadata": {},
   "source": [
    "The function below was written to delete all spaces and to turn all letters to lower case and replace all letters such as é with e and ä with a and so on. \n",
    "\n",
    "The goal of using this function is to increase matching with keywords chances and also to make the keyword lists shorter and not have to exhaustively list all possible combinations of target keywords in the list above.\n"
   ]
  },
  {
   "cell_type": "code",
   "execution_count": 9,
   "metadata": {
    "collapsed": false
   },
   "outputs": [],
   "source": [
    "def replace_characters(text) : \n",
    "    \"\"\"\n",
    "    Returns the text without spaces and special language letters (i.e é for French, ä for German)\n",
    "    :param text: String\n",
    "    :return: string\n",
    "    \"\"\"\n",
    "    text=text.lower()\n",
    "    text=text.replace(' ','')\n",
    "    text=text.replace('é','e')\n",
    "    text=text.replace('è','e')\n",
    "    text=text.replace('ê','e')\n",
    "    text=text.replace('ë','e')\n",
    "    text=text.replace('ä','a')\n",
    "    text=text.replace('û','u')\n",
    "    text=text.replace('ü','u')\n",
    "    \n",
    "    return text"
   ]
  },
  {
   "cell_type": "code",
   "execution_count": 5,
   "metadata": {
    "collapsed": false
   },
   "outputs": [],
   "source": [
    "def extract_target_tweets(tweets,keywords):\n",
    "    \"\"\"\n",
    "    Returns the tweets that contain one or many of the keywords in the parameter keywords.\n",
    "    :param tweets: list of dict\n",
    "    :param keywords: dict\n",
    "    :return: graph\n",
    "    \"\"\"\n",
    "    #Initializing the indices array.\n",
    "    target_indices=[]\n",
    "    \n",
    "    #Iterate over all tweets\n",
    "    for i in range(len(tweets['_source'])) : \n",
    "        \n",
    "        #Preprocess the tweets text.\n",
    "        tweet=replace_characters(tweets['_source'][i]['main'])\n",
    "        \n",
    "        for j in keywords : \n",
    "            #If tweet contains a keyword save its index in target_indices list.\n",
    "            if(j in tweet) : target_indices.append(i)\n",
    "    return target_indices"
   ]
  },
  {
   "cell_type": "markdown",
   "metadata": {},
   "source": [
    "Below, we look for indices of tweets that contain keywords of topics listed in Listing Keywords section using the two functions defined above."
   ]
  },
  {
   "cell_type": "code",
   "execution_count": 9,
   "metadata": {
    "collapsed": false
   },
   "outputs": [],
   "source": [
    "#Running the function extract_target_tweets on each topic.\n",
    "\n",
    "intermittent_fasting_tweets=extract_target_tweets(tweets,Intermittent_fasting)\n",
    "veganism_tweets=extract_target_tweets(tweets,Veganism)\n",
    "minimalism_tweets=extract_target_tweets(tweets,Minimalism)\n",
    "meditation_tweets=extract_target_tweets(tweets,Meditation)\n",
    "paleo_tweets=extract_target_tweets(tweets,Paleo)"
   ]
  },
  {
   "cell_type": "code",
   "execution_count": 10,
   "metadata": {
    "collapsed": true
   },
   "outputs": [],
   "source": [
    "#Keeping a list of all indices for later use.\n",
    "tweets_of_interest_indices=np.unique(intermittent_fasting_tweets+veganism_tweets+minimalism_tweets+meditation_tweets+paleo_tweets)"
   ]
  },
  {
   "cell_type": "markdown",
   "metadata": {},
   "source": [
    "## Results : "
   ]
  },
  {
   "cell_type": "code",
   "execution_count": 11,
   "metadata": {
    "collapsed": false
   },
   "outputs": [
    {
     "data": {
      "text/plain": [
       "('Number of tweets about Intermittent fasting : 0',\n",
       " 'Number of tweets about veganism : 252',\n",
       " 'Number of tweets about Minimalism :24',\n",
       " 'Number of tweets about Meditation: 216',\n",
       " 'Number of tweets about paleo diet : 40')"
      ]
     },
     "execution_count": 11,
     "metadata": {},
     "output_type": "execute_result"
    }
   ],
   "source": [
    "'Number of tweets about Intermittent fasting : ' +str(len(intermittent_fasting_tweets)),'Number of tweets about veganism : '+str(len(veganism_tweets)),'Number of tweets about Minimalism :' + str(len(minimalism_tweets)),'Number of tweets about Meditation: ' +str(len(meditation_tweets)),'Number of tweets about paleo diet : '+ str(len(paleo_tweets))"
   ]
  },
  {
   "cell_type": "markdown",
   "metadata": {},
   "source": [
    "The topics that got the most results are veganism and meditation. Intermittent fasting had no results whatsoever with the keywords provided. Minimalism and the paleo diet got very little results. "
   ]
  },
  {
   "cell_type": "markdown",
   "metadata": {},
   "source": [
    "## 3. Exploring resulting tweets : "
   ]
  },
  {
   "cell_type": "markdown",
   "metadata": {},
   "source": [
    "To explore the resulting extracted tweets, we get the indices from the lists constructed above (intermittent_fasting_tweets, veganism_tweets, minimalism_tweets, meditation_tweets, paleo_tweets) and explore its content. "
   ]
  },
  {
   "cell_type": "markdown",
   "metadata": {},
   "source": [
    "### 3.1 Results for Paleo Diet : "
   ]
  },
  {
   "cell_type": "markdown",
   "metadata": {},
   "source": [
    "After looking at some of the Paleo diet resulting tweets, we see that most of them were not tweets about the paleo diet at all. \n",
    "\n",
    "We see that most of them talk about the paleo festival, exactly like the example tweet shown below."
   ]
  },
  {
   "cell_type": "code",
   "execution_count": 12,
   "metadata": {
    "collapsed": false
   },
   "outputs": [
    {
     "data": {
      "text/plain": [
       "'@louiseattaqueofficiel at @paleofestival http://www.sigfredoharo.com/paleo-16\\xa0 © Sigfredo Haro photography pour le... http://fb.me/6bvdTws5u\\xa0'"
      ]
     },
     "execution_count": 12,
     "metadata": {},
     "output_type": "execute_result"
    }
   ],
   "source": [
    "tweets['_source'][208582]['main']"
   ]
  },
  {
   "cell_type": "markdown",
   "metadata": {},
   "source": [
    "### Next step : "
   ]
  },
  {
   "cell_type": "markdown",
   "metadata": {},
   "source": [
    "The bad results actually look like they were caused by bad choice of keywords. So we may try to fix the keywords for the paleo diet or better yet use another more sophisticated technique (Latent Dirichlet Allocation).\n",
    "\n",
    "If the results are still small, we might drop this topic. "
   ]
  },
  {
   "cell_type": "markdown",
   "metadata": {},
   "source": [
    "### 3.2 Results for Veganism : "
   ]
  },
  {
   "cell_type": "markdown",
   "metadata": {},
   "source": [
    "The results for veganism are good, in terms of number and accuracy. "
   ]
  },
  {
   "cell_type": "code",
   "execution_count": 13,
   "metadata": {
    "collapsed": false
   },
   "outputs": [
    {
     "data": {
      "text/plain": [
       "('The #simplelife . Freshly made #coffeemorning & Spanish #oliveoil #toast #vegan #simplicity #mylifestyle #MomentOfTruth #awe #love #life',\n",
       " 'POSITIVE')"
      ]
     },
     "execution_count": 13,
     "metadata": {},
     "output_type": "execute_result"
    }
   ],
   "source": [
    "#Example of tweet about veganism and its corresponding sentiment as provided in the dataset.\n",
    "\n",
    "tweets['_source'][327460]['main'] , tweets['_source'][327460]['sentiment']"
   ]
  },
  {
   "cell_type": "markdown",
   "metadata": {},
   "source": [
    "### 3.3 Results for meditation : "
   ]
  },
  {
   "cell_type": "markdown",
   "metadata": {},
   "source": [
    "It is not surprising that we found many results about meditation, as it is already popular in the western world and more specifically in Switzerland. \n",
    "\n",
    "However, some results we got are ads for guided meditation sessions."
   ]
  },
  {
   "cell_type": "code",
   "execution_count": 14,
   "metadata": {
    "collapsed": false
   },
   "outputs": [
    {
     "data": {
      "text/plain": [
       "'This school replaced detention with meditation. The results are stunning.'"
      ]
     },
     "execution_count": 14,
     "metadata": {},
     "output_type": "execute_result"
    }
   ],
   "source": [
    "#Example of tweet about meditation.\n",
    "tweets['_source'][294749]['main']"
   ]
  },
  {
   "cell_type": "markdown",
   "metadata": {},
   "source": [
    "### Next step :"
   ]
  },
  {
   "cell_type": "markdown",
   "metadata": {},
   "source": [
    "Filter out all the tweets that contain ads about meditation."
   ]
  },
  {
   "cell_type": "markdown",
   "metadata": {},
   "source": [
    "### 3.4 Results for Minimalism : "
   ]
  },
  {
   "cell_type": "markdown",
   "metadata": {},
   "source": [
    "The resulting tweets for minimalism are completely off. We may get rid of the topic altogether."
   ]
  },
  {
   "cell_type": "code",
   "execution_count": 15,
   "metadata": {
    "collapsed": false
   },
   "outputs": [
    {
     "data": {
      "text/plain": [
       "'Minimalist Porcelain Clocks Like a Scale http://v.virg0.org/2bLigJl\\xa0 #design'"
      ]
     },
     "execution_count": 15,
     "metadata": {},
     "output_type": "execute_result"
    }
   ],
   "source": [
    "#Example of bad result of tweet about minimalism.\n",
    "tweets['_source'][242242]['main']"
   ]
  },
  {
   "cell_type": "markdown",
   "metadata": {},
   "source": [
    "### 3.5 Results for Intermittent Fasting : "
   ]
  },
  {
   "cell_type": "markdown",
   "metadata": {},
   "source": [
    "The intermittent fasting trend is almost inexistant in the tweets we selected. So, we could drop it for the rest of the project if the extraction for the full dataset gives the same result."
   ]
  },
  {
   "cell_type": "markdown",
   "metadata": {},
   "source": [
    "## 4. Sentiment Graphs : "
   ]
  },
  {
   "cell_type": "markdown",
   "metadata": {},
   "source": [
    "Fortunately, most of the sentiments were provided with the dataset. So, in this section we will have a look at how they were distributed."
   ]
  },
  {
   "cell_type": "code",
   "execution_count": 10,
   "metadata": {
    "collapsed": false
   },
   "outputs": [],
   "source": [
    "def get_list_of_sentiments(indices): \n",
    "    \"\"\"\n",
    "    Returns list of sentiment at indices passed as parameter.\n",
    "    :param indices: list\n",
    "    :return: list\n",
    "    \"\"\"\n",
    "    sentiments=[]\n",
    "    for i in indices : \n",
    "        try: \n",
    "            sentiment=tweets['_source'][i]['sentiment']\n",
    "            sentiments.append(sentiment)\n",
    "        #In case there isn't a sentiment field just ignore and keep going.\n",
    "        except KeyError : continue\n",
    "    return sentiments"
   ]
  },
  {
   "cell_type": "code",
   "execution_count": 209,
   "metadata": {
    "collapsed": false
   },
   "outputs": [],
   "source": [
    "def plot_sentiments(sentiments,title) : \n",
    "    \"\"\"\n",
    "   Plots in a pie plot the sentiments proportions in list sentiments passed as parameter\n",
    "    :param sentiments: list\n",
    "    :param title: string\n",
    "    \"\"\"\n",
    "    labels=np.unique(sentiments)\n",
    "    values=[sentiments.count(i) for i in labels]\n",
    "    explode = (0.1, 0.1, 0)\n",
    "    colors = ['maroon', 'purple','darkblue' ]\n",
    "    plt.title(title)\n",
    "    plt.pie(values,explode=explode,colors=colors,labels=labels,shadow=True)\n",
    "    fig = plt.gcf()\n",
    "    fig.set_size_inches(3,3)\n",
    "    plt.show()"
   ]
  },
  {
   "cell_type": "markdown",
   "metadata": {},
   "source": [
    "Below, we will see the sentiments about the trends that had good results (veganism and meditation) as they were provided in the dataset sample."
   ]
  },
  {
   "cell_type": "markdown",
   "metadata": {},
   "source": [
    "### 4.1 Pie plot of veganism sentiments : "
   ]
  },
  {
   "cell_type": "code",
   "execution_count": 399,
   "metadata": {
    "collapsed": false
   },
   "outputs": [
    {
     "data": {
      "image/png": "[encoded data removed]",
      "text/plain": [
       "<matplotlib.figure.Figure at 0x12a50c198>"
      ]
     },
     "metadata": {},
     "output_type": "display_data"
    }
   ],
   "source": [
    "#Getting a list of sentiments of veganism \n",
    "veganism_sentiments=get_list_of_sentiments(veganism_tweets)\n",
    "\n",
    "#Drawing a pie plot of the sentiments.\n",
    "plot_sentiments(veganism_sentiments,'Sentiments about veganism')\n"
   ]
  },
  {
   "cell_type": "markdown",
   "metadata": {},
   "source": [
    "### 4.2 Pie plot of meditation sentiments : "
   ]
  },
  {
   "cell_type": "code",
   "execution_count": 22,
   "metadata": {
    "collapsed": false
   },
   "outputs": [
    {
     "data": {
      "image/png": "[encoded data removed]",
      "text/plain": [
       "<matplotlib.figure.Figure at 0x1aba29390>"
      ]
     },
     "metadata": {},
     "output_type": "display_data"
    }
   ],
   "source": [
    "#Getting a list of sentiments of meditation. \n",
    "meditation_sentiments=get_list_of_sentiments(meditation_tweets)\n",
    "\n",
    "#Drawing a pie plot of the sentiments.\n",
    "plot_sentiments(meditation_sentiments,'Sentiments about meditation')"
   ]
  },
  {
   "cell_type": "markdown",
   "metadata": {},
   "source": [
    "### 4.3 Discussion :"
   ]
  },
  {
   "cell_type": "markdown",
   "metadata": {},
   "source": [
    "From the two pie plots, we notice that most of the sentiments are neutral. By exploring the dataset a little we can see that many tweets that should have been positive or negative are labeled as neutral. \n",
    "\n",
    "Which is why we will try to determine sentiments of tweets on our own for the next milestone and see if we get better results."
   ]
  },
  {
   "cell_type": "markdown",
   "metadata": {},
   "source": [
    "## 5. What comes next : "
   ]
  },
  {
   "cell_type": "markdown",
   "metadata": {},
   "source": [
    "1. Find a better way to extract tweets about each topic instead of the tentative approach done above. <br>\n",
    "2. Run it on all the tweets in the dataset. <br>\n",
    "3. Show graphs about the sentiments of each topic.<br>\n",
    " - 3.1. Go more in details in graphs of sentiments (sentiment per gender ,per time period ,per region of Switzerland and so on...)<br>\n",
    " - 3.2. Compare between graphs of topics.\n",
    " \n",
    "4. We might add new topics for more results about trending lifestyles in Switzerland (e.g Gluten free)\n",
    "5. Present all results with conclusions about what trends seem to get the most love.\n",
    "6. The report will contain all the steps taken up to milestone 3 to get our results, as well as a discussion of the results.\n",
    "7. The presentation will contain a short description of steps taken to get our results, as well as a presentation of the results with graphs. And finally, draw some conclusions.<br>\n",
    "\n",
    "(Optional) : We would also like to see what kind of results we get from the bigger twitter dataset."
   ]
  },
  {
   "cell_type": "markdown",
   "metadata": {},
   "source": [
    "# II. Running previous steps on entire swiss tweet dataset : "
   ]
  },
  {
   "cell_type": "markdown",
   "metadata": {},
   "source": [
    "We ran a spark script on the entire dataset using the cluster and we filtered the tweets we wanted using keywords extraction, the same method described in the previous section."
   ]
  },
  {
   "cell_type": "markdown",
   "metadata": {},
   "source": [
    "The resulting dataset is a group of json files containing a variety of keys referring to information of tweets, including : tweet text, sentiment, location, gender, language of the tweet and so on... "
   ]
  },
  {
   "cell_type": "code",
   "execution_count": 220,
   "metadata": {
    "collapsed": true
   },
   "outputs": [],
   "source": [
    "path = './Datasets'"
   ]
  },
  {
   "cell_type": "markdown",
   "metadata": {},
   "source": [
    "We had to adapt some function described above to the new form of our resulting files.\n",
    "\n",
    "So we changed the function load_tweets into load_cluster_results."
   ]
  },
  {
   "cell_type": "code",
   "execution_count": 221,
   "metadata": {
    "collapsed": true
   },
   "outputs": [],
   "source": [
    "def load_cluster_results(path):\n",
    "    \"\"\"\n",
    "    Loads tweets resulted from the extraction using a cluster at path passed as parameter.\n",
    "    :param path: string\n",
    "    :return: list\n",
    "    \"\"\"\n",
    "    tweets=[]\n",
    "    directory = os.fsencode(path)\n",
    "    for file in os.listdir(directory):\n",
    "        \n",
    "        filename = os.fsdecode(file)\n",
    "        if(filename=='.DS_Store' or '_SUCCESS' in filename) : continue\n",
    "\n",
    "        lines=[line.rstrip('\\n') for line in open(path + filename)]\n",
    "        for line in lines : \n",
    "            data = json.dumps(ast.literal_eval(line))\n",
    "            line = json.loads(data)\n",
    "            tweets.append(line)\n",
    "            \n",
    "    return tweets"
   ]
  },
  {
   "cell_type": "markdown",
   "metadata": {},
   "source": [
    "## 1. Loading tweets :"
   ]
  },
  {
   "cell_type": "markdown",
   "metadata": {},
   "source": [
    "Here we run load_cluster_results on each trend."
   ]
  },
  {
   "cell_type": "code",
   "execution_count": 222,
   "metadata": {
    "collapsed": false,
    "scrolled": true
   },
   "outputs": [],
   "source": [
    "veganism_tweets = load_cluster_results(path + '/veganism_semi_final/')\n",
    "meditation_tweets = load_cluster_results(path + '/meditation/')\n",
    "paleo_tweets = load_cluster_results(path + '/paleo/')\n",
    "intermittent_tweets = load_cluster_results(path + '/fasting/')\n",
    "minimalism_tweets = load_cluster_results(path + '/minimalism/')"
   ]
  },
  {
   "cell_type": "code",
   "execution_count": 11,
   "metadata": {
    "collapsed": false
   },
   "outputs": [
    {
     "data": {
      "text/plain": [
       "('Number of tweets about Intermittent fasting : 3',\n",
       " 'Number of tweets about veganism : 5908',\n",
       " 'Number of tweets about Minimalism :423',\n",
       " 'Number of tweets about Meditation: 6490',\n",
       " 'Number of tweets about paleo diet : 91')"
      ]
     },
     "execution_count": 11,
     "metadata": {},
     "output_type": "execute_result"
    }
   ],
   "source": [
    "'Number of tweets about Intermittent fasting : ' +str(len(intermittent_tweets)),'Number of tweets about veganism : '+str(len(veganism_tweets)),'Number of tweets about Minimalism :' + str(len(minimalism_tweets)),'Number of tweets about Meditation: ' +str(len(meditation_tweets)),'Number of tweets about paleo diet : '+ str(len(paleo_tweets))"
   ]
  },
  {
   "cell_type": "markdown",
   "metadata": {},
   "source": [
    "We see that the results of intermittent fasting and paleo diet are still very small compared to the other two results.<br> The number results for veganism and meditation are both above 5000 tweets, which is way bigger than the other two."
   ]
  },
  {
   "cell_type": "markdown",
   "metadata": {},
   "source": [
    "## 2. Filtering of the results : "
   ]
  },
  {
   "cell_type": "markdown",
   "metadata": {},
   "source": [
    "There are still bad results for paleo diet so we made a list of negative keywords which will indicate that a tweet is not what we are looking for.\n",
    "\n",
    "And by using filter_tweets defined below we will filter out tweets that are out of context.\n",
    "\n",
    "\n",
    "Also, for meditation tweets, we see that there are many tweets that are guided meditation ads or a radio station name. So we filtered those out as well to get a better set for our sentiment analysis."
   ]
  },
  {
   "cell_type": "code",
   "execution_count": 227,
   "metadata": {
    "collapsed": true
   },
   "outputs": [],
   "source": [
    "#Negative keywords.\n",
    "paleo_neg_keywords = {'festival','paleontology','fossil','paleolite','archeologie','archeology','paleovert','johnftpayne','kevadams','nicipaleo','palaontologie','palaotros'}\n",
    "meditation_neg_keywords = {'studios','♫','nowplaying','meditationartby','osho','heal#release#love','myhealingshop'}"
   ]
  },
  {
   "cell_type": "code",
   "execution_count": 228,
   "metadata": {
    "collapsed": false
   },
   "outputs": [],
   "source": [
    "def filter_tweets(tweets,neg_keywords) : \n",
    "    \"\"\"\n",
    "    Filters out tweets that contain one or many of negative keywords passed as parameter neg_keywords and return it.\n",
    "    :param tweets: list\n",
    "    :param neg_keywords: dict\n",
    "    :return: list\n",
    "    \"\"\"\n",
    "    toremove=[]\n",
    "    for tweet in tweets : \n",
    "        for keyword in neg_keywords : \n",
    "            if (keyword in replace_characters(tweet['main'])) :\n",
    "                \n",
    "                toremove.append(tweet)\n",
    "                    \n",
    "    tweets = [tweet for tweet in tweets if tweet not in toremove]    \n",
    "    return tweets"
   ]
  },
  {
   "cell_type": "code",
   "execution_count": 229,
   "metadata": {
    "collapsed": false
   },
   "outputs": [],
   "source": [
    "#Filtering the tweets.\n",
    "filtered_paleo= filter_tweets(paleo_tweets,paleo_neg_keywords)\n",
    "filtered_meditation = filter_tweets(meditation_tweets,meditation_neg_keywords)"
   ]
  },
  {
   "cell_type": "markdown",
   "metadata": {},
   "source": [
    "## 3. Sentiments : "
   ]
  },
  {
   "cell_type": "code",
   "execution_count": 230,
   "metadata": {
    "collapsed": true
   },
   "outputs": [],
   "source": [
    "def get_list_of_sentiments(tweets):\n",
    "    \"\"\"\n",
    "    Return the list of sentiments of the tweets resulted from the extraction on the cluster.\n",
    "    :param tweets: list of dicts \n",
    "    :return: list of strings\n",
    "    \"\"\"\n",
    "    \n",
    "    sentiments=[]\n",
    "    for tweet in range(len(tweets)) : \n",
    "        try: \n",
    "            sentiment=tweets[tweet]['sentiment']\n",
    "            sentiments.append(sentiment)\n",
    "        #In case there isn't a sentiment field just ignore and keep going.\n",
    "        except KeyError : continue\n",
    "    return sentiments"
   ]
  },
  {
   "cell_type": "code",
   "execution_count": 231,
   "metadata": {
    "collapsed": true
   },
   "outputs": [],
   "source": [
    "def pieplots(lists,titles,figsize):\n",
    "    \"\"\"\n",
    "    Draws pieplots of lists of sentiments with their corresponding titles.\n",
    "    :param lists: list of list of dicts \n",
    "    :param titles: list of strings\n",
    "    :param figsize: tuple\n",
    "    \"\"\"\n",
    "    \n",
    "    sentiments=[get_list_of_sentiments(list_) for list_ in lists]\n",
    "\n",
    "    fig, axes = plt.subplots(nrows=1, ncols=len(lists), figsize=figsize)\n",
    "    labels=['POSITIVE','NEGATIVE','NEUTRAL']\n",
    "    values=[]\n",
    "    for sentiment in sentiments : \n",
    "        values.append([sentiment.count(i) for i in labels])\n",
    "\n",
    "    explode = (0.1, 0.1, 0)\n",
    "    colors = [ 'darkblue','maroon','purple' ]\n",
    "    for i in range(len(axes)):\n",
    "\n",
    "        axes[i].pie(x=values[i],explode=explode,colors=colors,labels=labels,shadow=True)\n",
    "        axes[i].set_xlabel(titles[i],fontsize=12)\n",
    "    plt.style.use('ggplot')\n",
    "    plt.show()"
   ]
  },
  {
   "cell_type": "code",
   "execution_count": 232,
   "metadata": {
    "collapsed": false
   },
   "outputs": [
    {
     "data": {
      "image/png": "[encoded data removed]",
      "text/plain": [
       "<matplotlib.figure.Figure at 0x12141e4a8>"
      ]
     },
     "metadata": {},
     "output_type": "display_data"
    }
   ],
   "source": [
    "trends = [veganism_tweets,filtered_meditation,filtered_paleo]\n",
    "titles = ['Sentiments for Veganism','Sentiments for Meditation','Sentiments for Paleo diet']\n",
    "pieplots(trends,titles,(15,5))"
   ]
  },
  {
   "cell_type": "markdown",
   "metadata": {},
   "source": [
    "- We can see that the tweets about meditation are overwhelmingly positive and contain very few negative tweets.\n",
    "- On the other hand, sentiments about the paleo diet are way more negative than positive, we could assume that people didn't do well on a paleo diet compared to the other two trends, but the number of tweets about paleo diet is very small compared to the number of tweets about meditation and veganism. So, we can't make that claim.\n",
    "- The sentiments of tweets about veganism are more so positive than negative, but we can say that meditation takes the win within Switzerland."
   ]
  },
  {
   "cell_type": "markdown",
   "metadata": {},
   "source": [
    "## Problems :"
   ]
  },
  {
   "cell_type": "markdown",
   "metadata": {},
   "source": [
    "- We can see that there are not enough tweets for paleo diet (ketogenic diet), we will have to resort to the tweets leon dataset to see better results.\n",
    "- For minimalism the results are completely off. It is better to just drop the trend , at least for now."
   ]
  },
  {
   "cell_type": "markdown",
   "metadata": {},
   "source": [
    "# III. Running on tweets leon dataset : "
   ]
  },
  {
   "cell_type": "markdown",
   "metadata": {},
   "source": [
    "The resulting dataset is a list of textfiles containing lines of text containing username, tweet text, date, id separated by the character \\t. "
   ]
  },
  {
   "cell_type": "markdown",
   "metadata": {},
   "source": [
    "- For our sentiment analysis we will use the class SentimentIntensityAnalyzer from the package nltk.sentiment.vader.<br> This library is known to work well for social media texts, which is why, we chose it.<br>\n",
    "- However, this library only works well for texts in English. Therefore, to adapt our dataset to our sentiment analysis, we will have to translate all tweets that are not in English before analyzing their sentiments.<br>\n",
    "- For the translation we chose the library googletrans which is a free google translate python api."
   ]
  },
  {
   "cell_type": "markdown",
   "metadata": {},
   "source": [
    "## Imports for our sentiment analysis :"
   ]
  },
  {
   "cell_type": "code",
   "execution_count": 30,
   "metadata": {
    "collapsed": false
   },
   "outputs": [],
   "source": [
    "from nltk.sentiment.vader import SentimentIntensityAnalyzer\n",
    "from googletrans import Translator"
   ]
  },
  {
   "cell_type": "code",
   "execution_count": 31,
   "metadata": {
    "collapsed": false
   },
   "outputs": [],
   "source": [
    "#Initializing objects for sentiment analysis and translation.\n",
    "sentiment_analyzer = SentimentIntensityAnalyzer()\n",
    "translator=Translator()"
   ]
  },
  {
   "cell_type": "markdown",
   "metadata": {},
   "source": [
    "## Helper functions : "
   ]
  },
  {
   "cell_type": "markdown",
   "metadata": {},
   "source": [
    "We will need many helper functions for our sentiment analysis for two differently stuctured datasets. To make the analysis clearer, we decided to group all the helper functions here."
   ]
  },
  {
   "cell_type": "code",
   "execution_count": 27,
   "metadata": {
    "collapsed": false
   },
   "outputs": [],
   "source": [
    "def return_sentiments(tweets,key) : \n",
    "    \"\"\"\n",
    "    Add/modify the key sentiment for each tweet from tweets-leon/swiss-tweets dataset and give it its sentiment and then return the tweets.\n",
    "    :param tweets: list\n",
    "    :return: list\n",
    "    \"\"\"\n",
    "    language = \"\"\n",
    "        \n",
    "    for tweet in tweets : \n",
    "        \n",
    "        if(key=='leon') : language=tweet['tweet'].split('\\t')[0]\n",
    "        elif(key=='swiss') : language=tweet['lang']\n",
    "        else : raise KeyError('No such key')\n",
    "\n",
    "        main=tweet['clean']\n",
    "        \n",
    "        \n",
    "        translation=''\n",
    "        #If the language is not english, then translate it.\n",
    "        if(language!='en'):\n",
    "            \n",
    "            \n",
    "            try:\n",
    "\n",
    "                translation=translator.translate(main,dest=\"en\").text\n",
    "\n",
    "            except Exception :\n",
    "                continue\n",
    "        else : translation = main       \n",
    "        sentiment=sentiment_analyzer.polarity_scores(translation)\n",
    "        pos, neg, neutral = sentiment['pos'],sentiment['neg'],sentiment['neu']\n",
    "        \n",
    "        #Give neutral only of the probability of a tweet being neutral is 70% or above.\n",
    "        if(neutral >= 0.7) :tweet['sentiment'] = 'NEUTRAL'\n",
    "        #Else give the sentiment with max probability amongst the other two sentiments.\n",
    "        else : \n",
    "            if( max(pos, neg)==pos) : tweet['sentiment'] = 'POSITIVE'\n",
    "            else :  tweet['sentiment'] = 'NEGATIVE'\n",
    "    return tweets"
   ]
  },
  {
   "cell_type": "code",
   "execution_count": 28,
   "metadata": {
    "collapsed": true
   },
   "outputs": [],
   "source": [
    "def clean(text):\n",
    "    \"\"\"\n",
    "    Preprocesses the tweets for translation by removing special characters, @users and web links from tweets.\n",
    "    :param text: string\n",
    "    :return: string\n",
    "    \"\"\"\n",
    "    \n",
    "    #Remove characters that are not letters\n",
    "    cleanedmain =  ''.join([i for i in text if (i.isalpha() or i==' ')])\n",
    "    #Split text by spaces.\n",
    "    splitted = cleanedmain.split(' ')\n",
    "    link = ''\n",
    "    #If there's @user of a web link, remove it.\n",
    "    for i in splitted : \n",
    "        if(i[:4]=='http') : cleanedmain=cleanedmain.strip(i)\n",
    "        if(i[:1]=='@') : cleanedmain=cleanedmain.strip(i)\n",
    "                \n",
    "    return cleanedmain    "
   ]
  },
  {
   "cell_type": "code",
   "execution_count": 29,
   "metadata": {
    "collapsed": true
   },
   "outputs": [],
   "source": [
    "def add_cleaned_tweet(tweets) : \n",
    "    \"\"\"\n",
    "    Adds preprocessed version of the tweet to each tweet as a new dict element.\n",
    "    :param tweets: list\n",
    "    :return: list\n",
    "    \"\"\"\n",
    "    for tweet in tweets : \n",
    "        cleaned = clean(tweet['main'])\n",
    "        tweet['clean'] = cleaned"
   ]
  },
  {
   "cell_type": "code",
   "execution_count": 30,
   "metadata": {
    "collapsed": true
   },
   "outputs": [],
   "source": [
    "def load_files_leon(path):\n",
    "    \"\"\"\n",
    "    Loads tweets extracted from tweets-leon using the cluster.\n",
    "    :param path: seting\n",
    "    :return: list\n",
    "    \"\"\"\n",
    "    lines=[]\n",
    "    for dirpath,_,filenames in os.walk(path):\n",
    "        for f in filenames:\n",
    "            \n",
    "            #No need for files name .DS_Store and _SUCCESS that were generated by the cluster.\n",
    "            if(f=='.DS_Store' or f=='_SUCCESS') : continue\n",
    "            \n",
    "            lines.extend([line.rstrip('\\n') for line in open(dirpath+'/' + f)])\n",
    "            \n",
    "\n",
    "    return lines"
   ]
  },
  {
   "cell_type": "markdown",
   "metadata": {},
   "source": [
    "## 1. Swiss tweets : "
   ]
  },
  {
   "cell_type": "markdown",
   "metadata": {},
   "source": [
    "### 1.1 Running sentiment analysis on swiss tweets : "
   ]
  },
  {
   "cell_type": "markdown",
   "metadata": {},
   "source": [
    "First, for the sake of fairness we will run the sentiment analyzer on the swiss-tweets dataset. <br>\n",
    "To do that, we will first add a preprocessed version of the tweets as a new dict element. Then, we will run sentiment analysis on these tweets."
   ]
  },
  {
   "cell_type": "code",
   "execution_count": 54,
   "metadata": {
    "collapsed": true
   },
   "outputs": [],
   "source": [
    "#Adding preprocessed version of tweets as new dict elements to our tweets. \n",
    "add_cleaned_tweet(filtered_meditation)\n",
    "add_cleaned_tweet(veganism_tweets)\n",
    "add_cleaned_tweet(filtered_paleo)"
   ]
  },
  {
   "cell_type": "code",
   "execution_count": 392,
   "metadata": {
    "collapsed": false
   },
   "outputs": [],
   "source": [
    "#Performing sentiment analysis on tweets.\n",
    "filtered_meditation= return_sentiments(filtered_meditation,'swiss')\n",
    "veganism_tweets=return_sentiments(veganism_tweets,'swiss')\n",
    "filtered_paleo=return_sentiments(filtered_paleo,'swiss')"
   ]
  },
  {
   "cell_type": "code",
   "execution_count": 269,
   "metadata": {
    "collapsed": true
   },
   "outputs": [],
   "source": [
    "#Saving the results.\n",
    "pickle.dump( filtered_paleo, open( \"paleo.p\", \"wb\" ) )\n",
    "pickle.dump( filtered_meditation, open( \"meditation.p\", \"wb\" ) )\n",
    "pickle.dump( veganism_tweets, open( \"veganism.p\", \"wb\" ) )"
   ]
  },
  {
   "cell_type": "code",
   "execution_count": 36,
   "metadata": {
    "collapsed": false
   },
   "outputs": [],
   "source": [
    "#loading the results back.\n",
    "paleo_swiss=pickle.load( open( \"paleo.p\", \"rb\" ) )\n",
    "meditation_swiss=pickle.load( open( \"meditation.p\", \"rb\" ) )\n",
    "vegan_swiss=pickle.load(  open( \"veganism.p\", \"rb\" ) )"
   ]
  },
  {
   "cell_type": "markdown",
   "metadata": {},
   "source": [
    "### 1.2 Plots of swiss tweets sentiments :"
   ]
  },
  {
   "cell_type": "code",
   "execution_count": 215,
   "metadata": {
    "collapsed": false
   },
   "outputs": [
    {
     "data": {
      "image/png": "[encoded data removed]",
      "text/plain": [
       "<matplotlib.figure.Figure at 0x1110cf668>"
      ]
     },
     "metadata": {},
     "output_type": "display_data"
    }
   ],
   "source": [
    "#Plotting sentiments pie plots after performing vader sentiment analysis.\n",
    "titles=['Sentiments for Meditation','Sentiments for Veganism','Sentiments for Paleo diet']\n",
    "trends=[meditation_swiss,vegan_swiss,paleo_swiss]\n",
    "pieplots(trends,titles,(15,5))"
   ]
  },
  {
   "cell_type": "markdown",
   "metadata": {},
   "source": [
    "- The sentiments fractions are a little different from the sentiments given by default in the dataset, however, sentiments about meditation still take the lead in terms of fraction of positive sentiments followed by veganism. \n",
    "- The paleo diet still doesn't get much love within the number of tweets we got."
   ]
  },
  {
   "cell_type": "markdown",
   "metadata": {
    "collapsed": true
   },
   "source": [
    "## 2. Tweets leon :"
   ]
  },
  {
   "cell_type": "markdown",
   "metadata": {},
   "source": [
    "### 2.1 Loading results : "
   ]
  },
  {
   "cell_type": "code",
   "execution_count": 385,
   "metadata": {
    "collapsed": false
   },
   "outputs": [],
   "source": [
    "tweets_leon_minimalism = load_files_leon(path + '/minimalism_full/')  \n",
    "tweet_leon_fasting=load_files_leon(path + '/fasting_full/_temporary/0/')\n",
    "tweets_leon_meditation = load_files_leon(path + '/meditation_full/')   \n",
    "tweet_leon_veganism=load_files_leon(path + '/veganism_semi_final_full_3/_temporary/0/')\n",
    "tweets_leon_paleo = load_files_leon(path+\"/paleo_full/\")   "
   ]
  },
  {
   "cell_type": "markdown",
   "metadata": {},
   "source": [
    "#### Time to decide to drop minimalism : "
   ]
  },
  {
   "cell_type": "markdown",
   "metadata": {},
   "source": [
    "As we can see from the results shown below, the results for minimalism are unfortunately completely off for the tweets-leon dataset too. So, it is better to just drop this trend rather than work with bad tweets set."
   ]
  },
  {
   "cell_type": "code",
   "execution_count": 63,
   "metadata": {
    "collapsed": false
   },
   "outputs": [
    {
     "name": "stdout",
     "output_type": "stream",
     "text": [
      " - Jessie don't get stay is an emotional and minimalistic song. Your runs do add a damn thing baldy\n",
      " - @Cam_Is_Like @BigGhostFASE actually I think this was perfected by Primo too. Minimalism and negative space = Gang Starr\n",
      " - On Sight was kinda whatever... Black Skinhead and I am a god are crazy production wise tho, minimalist lyricism\n"
     ]
    }
   ],
   "source": [
    "print_=[print(' - ' +tweets_leon_minimalism[i].split('\\t')[-1]) for i in range(3)]"
   ]
  },
  {
   "cell_type": "markdown",
   "metadata": {},
   "source": [
    "#### But on a positive note : "
   ]
  },
  {
   "cell_type": "markdown",
   "metadata": {},
   "source": [
    "The results for the paleo diet and for intermittent fasting are great ! "
   ]
  },
  {
   "cell_type": "markdown",
   "metadata": {},
   "source": [
    "**Intermittent fasting tweets sample**"
   ]
  },
  {
   "cell_type": "code",
   "execution_count": 64,
   "metadata": {
    "collapsed": false
   },
   "outputs": [
    {
     "name": "stdout",
     "output_type": "stream",
     "text": [
      " - @MensFitness have any links on intermittent fasting?  On it for a week &amp; like it, but looking for reassurance.\n",
      " - intermittent fasting is amazing\n",
      " - Anyone trying #intermittentfasting (#IF)? What do u think about #fasting #diets? Fad? People just starving themselves? We'd like to hear!\n"
     ]
    }
   ],
   "source": [
    "print_=[print(' - ' + tweet_leon_fasting[i].split('\\t')[-1]) for i in range(3)]"
   ]
  },
  {
   "cell_type": "markdown",
   "metadata": {},
   "source": [
    "### 2.2 Adapting datasets to our functions : "
   ]
  },
  {
   "cell_type": "markdown",
   "metadata": {},
   "source": [
    "First, we will transform our tweets into dicts containing two keys : <br>\n",
    "- \"main\" which contains only the tweet\n",
    "- \"tweet\" which contains all of the tweet as it was before.\n",
    "\n",
    "Then, we will filter out tweets that contain the negative keywords.<br>\n",
    "And finally, we will add another key to all our tweets called \"clean\" which contains the preprocessed tweet."
   ]
  },
  {
   "cell_type": "markdown",
   "metadata": {},
   "source": [
    "The two functions below are added to avoid code repetition."
   ]
  },
  {
   "cell_type": "code",
   "execution_count": 244,
   "metadata": {
    "collapsed": true
   },
   "outputs": [],
   "source": [
    "def add_main(tweets) :\n",
    "    \"\"\" Adds main field containing only the tweet text to tweets passed as parameter.\n",
    "    \"\"\"\n",
    "    return [{'tweet' : tweet,'main': tweet.split('\\t')[-1]} for tweet in tweets]"
   ]
  },
  {
   "cell_type": "code",
   "execution_count": 245,
   "metadata": {
    "collapsed": true
   },
   "outputs": [],
   "source": [
    "def add_clean_leon(tweets) :\n",
    "    \"\"\" Adds main field containing only the preprocessed tweet text to tweets passed as parameter.\n",
    "    \"\"\"\n",
    "    return [{'tweet' : tweet['tweet'],'main': tweet['main'],'clean':clean(tweet['main'])}  for tweet in tweets]"
   ]
  },
  {
   "cell_type": "code",
   "execution_count": 247,
   "metadata": {
    "collapsed": false
   },
   "outputs": [],
   "source": [
    "#Transforming tweets into dicts with \"main\" field.\n",
    "tweets_leon_paleo=add_main(tweets_leon_paleo)\n",
    "tweet_leon_fasting=add_main(tweet_leon_fasting)\n",
    "tweet_leon_veganism=add_main(tweet_leon_veganism)\n",
    "tweets_leon_meditation=add_main(tweets_leon_meditation)\n",
    "\n",
    "#Filter tweets with negative keywords\n",
    "filtered_tweets_leon_paleo=filter_tweets(tweets_leon_paleo,paleo_neg_keywords)\n",
    "filtered_tweets_leon_meditation=filter_tweets(tweets_leon_meditation,meditation_neg_keywords)\n",
    "\n",
    "#Adding preprocessed version of tweet to tweets.\n",
    "filtered_tweets_leon_paleo=add_clean_leon(filtered_tweets_leon_paleo)\n",
    "filtered_tweets_leon_meditation=add_clean_leon(filtered_tweets_leon_meditation)\n",
    "tweet_leon_fasting=add_clean_leon(tweet_leon_fasting)\n",
    "tweet_leon_veganism=add_clean_leon(tweet_leon_veganism)"
   ]
  },
  {
   "cell_type": "markdown",
   "metadata": {},
   "source": [
    "### 2.3 Running sentiment analysis on tweets leon : "
   ]
  },
  {
   "cell_type": "code",
   "execution_count": 99,
   "metadata": {
    "collapsed": false,
    "scrolled": false
   },
   "outputs": [],
   "source": [
    "#Running sentiment analysis on four datasets.\n",
    "sentiment_leon_paleo = return_sentiments(filtered_tweets_leon_paleo,'leon')\n",
    "sentiment_leon_meditation = return_sentiments(filtered_tweets_leon_meditation,'leon')\n",
    "sentiment_leon_fasting = return_sentiments(tweet_leon_fasting,'leon')\n",
    "sentiment_leon_veganism = return_sentiments(tweet_leon_veganism,'leon')"
   ]
  },
  {
   "cell_type": "markdown",
   "metadata": {},
   "source": [
    " We notice that there are still some out of context tweets in the lists returned due to detecting a keyword from a username or @username. This is a problem we did not see coming because of the different structure of tweets leon dataset. That is why, we did this extra filtering below."
   ]
  },
  {
   "cell_type": "code",
   "execution_count": 199,
   "metadata": {
    "collapsed": false
   },
   "outputs": [],
   "source": [
    "def filter_bad_results(tweets,keywords) : \n",
    "    result=[]\n",
    "    \n",
    "    for tweet in tweets :\n",
    "        for key in keywords : \n",
    "            #Take the main tweet and redetect keywords.\n",
    "            text = tweet['main']\n",
    "            splitted = text.split(' ')\n",
    "            \n",
    "            for split in splitted : \n",
    "                try: \n",
    "                    character = split[0]\n",
    "                except IndexError : continue\n",
    "                #Replace @username with empty string before key detection.\n",
    "                if(split[0]=='@') :\n",
    "                    text=text.replace(split,'')\n",
    "            if(key in replace_characters(text)) :result.append(tweet)\n",
    "            \n",
    "    return result"
   ]
  },
  {
   "cell_type": "code",
   "execution_count": 195,
   "metadata": {
    "collapsed": false
   },
   "outputs": [],
   "source": [
    "sentiment_leon_paleo = filter_bad_results(sentiment_leon_paleo,Paleo)\n",
    "sentiment_leon_meditation=filter_bad_results(sentiment_leon_meditation,Meditation)\n",
    "sentiment_leon_fasting = filter_bad_results(sentiment_leon_fasting,Intermittent_fasting)\n",
    "sentiment_leon_veganism = filter_bad_results(sentiment_leon_veganism,Veganism)"
   ]
  },
  {
   "cell_type": "markdown",
   "metadata": {},
   "source": [
    "### 2.4 Saving results : "
   ]
  },
  {
   "cell_type": "markdown",
   "metadata": {},
   "source": [
    "In order to avoid running the time consuming sentiment analysis everytime, we saved the results in pickle files."
   ]
  },
  {
   "cell_type": "code",
   "execution_count": 197,
   "metadata": {
    "collapsed": true
   },
   "outputs": [],
   "source": [
    "#Saving the results.\n",
    "pickle.dump( sentiment_leon_paleo, open( \"paleo_full.p\", \"wb\" ) )\n",
    "pickle.dump( sentiment_leon_meditation, open( \"meditation_full.p\", \"wb\" ) )\n",
    "pickle.dump( sentiment_leon_fasting, open( \"fasting_full.p\", \"wb\" ) )\n",
    "pickle.dump( tsentiment_leon_veganism, open( \"veganism_full.p\", \"wb\" ) )"
   ]
  },
  {
   "cell_type": "code",
   "execution_count": 250,
   "metadata": {
    "collapsed": true
   },
   "outputs": [],
   "source": [
    "paleo = pickle.load(open( \"paleo_full.p\", \"rb\" ))\n",
    "meditation=pickle.load(open( \"meditation_full.p\", \"rb\" ))\n",
    "fast =pickle.load(open( \"fasting_full.p\", \"rb\" ))\n",
    "vegan =pickle.load(open( \"veganism_full.p\", \"rb\" ))"
   ]
  },
  {
   "cell_type": "markdown",
   "metadata": {},
   "source": [
    "## 2.5 Plots of sentiments: "
   ]
  },
  {
   "cell_type": "code",
   "execution_count": 383,
   "metadata": {
    "collapsed": false
   },
   "outputs": [
    {
     "data": {
      "image/png": "[encoded data removed]",
      "text/plain": [
       "<matplotlib.figure.Figure at 0x12ad19438>"
      ]
     },
     "metadata": {},
     "output_type": "display_data"
    }
   ],
   "source": [
    "titles=['Sentiments for meditation','Sentiments for veganism','Sentiments for paleo diet','Sentiments for intemittent fasting']\n",
    "trends=[meditation,vegan,paleo,fast]\n",
    "pieplots(trends,titles,(15,3))"
   ]
  },
  {
   "cell_type": "markdown",
   "metadata": {},
   "source": [
    "- Most of the trends get positive sentiments (if we don't consider neutral tweets) and don't have a lot of negativity. But we can see that veganism has a slight edge over the other trends in terms of positivity and meditation has the least negative sentiments per tweet.\n",
    "- The paleo diet gets mostly bad sentiments in the tweets posted by users worldwide similarily to those posted in Switzerland."
   ]
  },
  {
   "cell_type": "markdown",
   "metadata": {},
   "source": [
    "# IV. Exploring the results : "
   ]
  },
  {
   "cell_type": "markdown",
   "metadata": {},
   "source": [
    "## 1. Comparing the sentiments again with a barplots:"
   ]
  },
  {
   "cell_type": "markdown",
   "metadata": {},
   "source": [
    "### 1.1 loading dataframes:"
   ]
  },
  {
   "cell_type": "markdown",
   "metadata": {},
   "source": [
    "#### a. tweets leon :"
   ]
  },
  {
   "cell_type": "code",
   "execution_count": 269,
   "metadata": {
    "collapsed": false
   },
   "outputs": [
    {
     "data": {
      "text/html": [
       "<div>\n",
       "<table border=\"1\" class=\"dataframe\">\n",
       "  <thead>\n",
       "    <tr style=\"text-align: right;\">\n",
       "      <th></th>\n",
       "      <th>main</th>\n",
       "      <th>sentiment</th>\n",
       "      <th>tweet</th>\n",
       "    </tr>\n",
       "  </thead>\n",
       "  <tbody>\n",
       "    <tr>\n",
       "      <th>0</th>\n",
       "      <td>Yoga meditation.  breakfast exercising in that...</td>\n",
       "      <td>NEUTRAL</td>\n",
       "      <td>en\\t193462347791216640\\tFri Apr 20 22:13:12 +0...</td>\n",
       "    </tr>\n",
       "    <tr>\n",
       "      <th>1</th>\n",
       "      <td>“@BelloyHugo: Une fille n'est jamais trop bien...</td>\n",
       "      <td>NEGATIVE</td>\n",
       "      <td>fr\\t193462376975183872\\tFri Apr 20 22:13:19 +0...</td>\n",
       "    </tr>\n",
       "    <tr>\n",
       "      <th>2</th>\n",
       "      <td>alright, time to dabble in the DARK ARTS known...</td>\n",
       "      <td>NEUTRAL</td>\n",
       "      <td>en\\t193462893063319552\\tFri Apr 20 22:15:22 +0...</td>\n",
       "    </tr>\n",
       "    <tr>\n",
       "      <th>3</th>\n",
       "      <td>RT @DharmaApple: @MondoSamu @againststream YES...</td>\n",
       "      <td>POSITIVE</td>\n",
       "      <td>en\\t193463136223903744\\tFri Apr 20 22:16:20 +0...</td>\n",
       "    </tr>\n",
       "    <tr>\n",
       "      <th>4</th>\n",
       "      <td>Downloaded 4 of the most amazing apps today by...</td>\n",
       "      <td>NEUTRAL</td>\n",
       "      <td>en\\t193464499439808514\\tFri Apr 20 22:21:45 +0...</td>\n",
       "    </tr>\n",
       "    <tr>\n",
       "      <th>5</th>\n",
       "      <td>RT @brainwavetweets: #Meditation is not just r...</td>\n",
       "      <td>POSITIVE</td>\n",
       "      <td>en\\t193465753679314945\\tFri Apr 20 22:26:44 +0...</td>\n",
       "    </tr>\n",
       "  </tbody>\n",
       "</table>\n",
       "</div>"
      ],
      "text/plain": [
       "                                                main sentiment  \\\n",
       "0  Yoga meditation.  breakfast exercising in that...   NEUTRAL   \n",
       "1  “@BelloyHugo: Une fille n'est jamais trop bien...  NEGATIVE   \n",
       "2  alright, time to dabble in the DARK ARTS known...   NEUTRAL   \n",
       "3  RT @DharmaApple: @MondoSamu @againststream YES...  POSITIVE   \n",
       "4  Downloaded 4 of the most amazing apps today by...   NEUTRAL   \n",
       "5  RT @brainwavetweets: #Meditation is not just r...  POSITIVE   \n",
       "\n",
       "                                               tweet  \n",
       "0  en\\t193462347791216640\\tFri Apr 20 22:13:12 +0...  \n",
       "1  fr\\t193462376975183872\\tFri Apr 20 22:13:19 +0...  \n",
       "2  en\\t193462893063319552\\tFri Apr 20 22:15:22 +0...  \n",
       "3  en\\t193463136223903744\\tFri Apr 20 22:16:20 +0...  \n",
       "4  en\\t193464499439808514\\tFri Apr 20 22:21:45 +0...  \n",
       "5  en\\t193465753679314945\\tFri Apr 20 22:26:44 +0...  "
      ]
     },
     "execution_count": 269,
     "metadata": {},
     "output_type": "execute_result"
    }
   ],
   "source": [
    "data_paleo = pd.DataFrame(paleo)[['main','sentiment','tweet']]\n",
    "data_medit = pd.DataFrame(meditation)[['main','sentiment','tweet']]\n",
    "data_fast  = pd.DataFrame(fast)[['main','sentiment','tweet']]\n",
    "data_vegan = pd.DataFrame(vegan)[['main','sentiment','tweet']]\n",
    "\n",
    "#Showing dataframes structure.\n",
    "data_medit.head(6)"
   ]
  },
  {
   "cell_type": "markdown",
   "metadata": {},
   "source": [
    "#### b. swiss tweet : "
   ]
  },
  {
   "cell_type": "code",
   "execution_count": 274,
   "metadata": {
    "collapsed": false
   },
   "outputs": [
    {
     "data": {
      "text/html": [
       "<div>\n",
       "<table border=\"1\" class=\"dataframe\">\n",
       "  <thead>\n",
       "    <tr style=\"text-align: right;\">\n",
       "      <th></th>\n",
       "      <th>main</th>\n",
       "      <th>sentiment</th>\n",
       "      <th>author_gender</th>\n",
       "      <th>likes</th>\n",
       "      <th>published</th>\n",
       "    </tr>\n",
       "  </thead>\n",
       "  <tbody>\n",
       "    <tr>\n",
       "      <th>0</th>\n",
       "      <td>Mandala - #Zeichnen als #Meditation https://ww...</td>\n",
       "      <td>NEUTRAL</td>\n",
       "      <td>FEMALE</td>\n",
       "      <td>NaN</td>\n",
       "      <td>2016-01-01T13:46:32Z</td>\n",
       "    </tr>\n",
       "    <tr>\n",
       "      <th>1</th>\n",
       "      <td>Can Meditation Gadgets Reduce Your Stress in 2...</td>\n",
       "      <td>NEUTRAL</td>\n",
       "      <td>MALE</td>\n",
       "      <td>NaN</td>\n",
       "      <td>2016-01-01T01:27:16Z</td>\n",
       "    </tr>\n",
       "    <tr>\n",
       "      <th>2</th>\n",
       "      <td>Meditation &amp; Trading combined http://bit.ly/tt...</td>\n",
       "      <td>NEUTRAL</td>\n",
       "      <td>UNKNOWN</td>\n",
       "      <td>NaN</td>\n",
       "      <td>2016-01-01T18:00:53Z</td>\n",
       "    </tr>\n",
       "    <tr>\n",
       "      <th>3</th>\n",
       "      <td>Can We End the Meditation Madness? http://nyti...</td>\n",
       "      <td>NEGATIVE</td>\n",
       "      <td>UNKNOWN</td>\n",
       "      <td>NaN</td>\n",
       "      <td>2016-02-01T14:59:12Z</td>\n",
       "    </tr>\n",
       "    <tr>\n",
       "      <th>4</th>\n",
       "      <td>Y a-t-il eu préméditation et coordination à #C...</td>\n",
       "      <td>NEUTRAL</td>\n",
       "      <td>FEMALE</td>\n",
       "      <td>NaN</td>\n",
       "      <td>2016-02-01T11:54:39Z</td>\n",
       "    </tr>\n",
       "    <tr>\n",
       "      <th>5</th>\n",
       "      <td>“Meditation can help us embrace our worries, o...</td>\n",
       "      <td>NEGATIVE</td>\n",
       "      <td>UNKNOWN</td>\n",
       "      <td>NaN</td>\n",
       "      <td>2016-02-01T08:10:37Z</td>\n",
       "    </tr>\n",
       "  </tbody>\n",
       "</table>\n",
       "</div>"
      ],
      "text/plain": [
       "                                                main sentiment author_gender  \\\n",
       "0  Mandala - #Zeichnen als #Meditation https://ww...   NEUTRAL        FEMALE   \n",
       "1  Can Meditation Gadgets Reduce Your Stress in 2...   NEUTRAL          MALE   \n",
       "2  Meditation & Trading combined http://bit.ly/tt...   NEUTRAL       UNKNOWN   \n",
       "3  Can We End the Meditation Madness? http://nyti...  NEGATIVE       UNKNOWN   \n",
       "4  Y a-t-il eu préméditation et coordination à #C...   NEUTRAL        FEMALE   \n",
       "5  “Meditation can help us embrace our worries, o...  NEGATIVE       UNKNOWN   \n",
       "\n",
       "   likes             published  \n",
       "0    NaN  2016-01-01T13:46:32Z  \n",
       "1    NaN  2016-01-01T01:27:16Z  \n",
       "2    NaN  2016-01-01T18:00:53Z  \n",
       "3    NaN  2016-02-01T14:59:12Z  \n",
       "4    NaN  2016-02-01T11:54:39Z  \n",
       "5    NaN  2016-02-01T08:10:37Z  "
      ]
     },
     "execution_count": 274,
     "metadata": {},
     "output_type": "execute_result"
    }
   ],
   "source": [
    "data_paleo_swiss = pd.DataFrame(paleo_swiss)[['main','sentiment','author_gender','likes','published']]\n",
    "data_vegan_swiss = pd.DataFrame(vegan_swiss)[['main','sentiment','author_gender','likes','published']]\n",
    "data_medit_swiss = pd.DataFrame(meditation_swiss)[['main','sentiment','author_gender','likes','published']]\n",
    "\n",
    "#Showing dataframes structure.\n",
    "data_medit_swiss.head(6)"
   ]
  },
  {
   "cell_type": "markdown",
   "metadata": {},
   "source": [
    "### 1.2 Preparing leon dataframe: "
   ]
  },
  {
   "cell_type": "markdown",
   "metadata": {},
   "source": [
    "For the dataframes loaded from tweets leon, we will add columns containing language, tweet id, date and username."
   ]
  },
  {
   "cell_type": "code",
   "execution_count": 300,
   "metadata": {
    "collapsed": true
   },
   "outputs": [],
   "source": [
    "def create_columns(row,n):\n",
    "    \"\"\"\n",
    "    Split field by character \\t and gives nth element \n",
    "    :param row: string\n",
    "    :param n: int\n",
    "    :return: string\n",
    "    \"\"\"\n",
    "    try :\n",
    "        row.split('\\t')[1]\n",
    "        \n",
    "    except IndexError : return np.nan\n",
    "    return row.split('\\t')[n]"
   ]
  },
  {
   "cell_type": "code",
   "execution_count": 301,
   "metadata": {
    "collapsed": true
   },
   "outputs": [],
   "source": [
    "def process_dataframes(df):\n",
    "    \"\"\"\n",
    "    returns dataframe with columns language, id, date and user\n",
    "    :param df: dataframe\n",
    "    :return: dataframe\n",
    "    \"\"\"\n",
    "    df['lang'] = df['tweet'].apply(lambda x : create_columns(x,0))\n",
    "    df['id']   = df['tweet'].apply(lambda x : create_columns(x,1))\n",
    "    df['date'] = df['tweet'].apply(lambda x : create_columns(x,2))\n",
    "    df['user'] = df['tweet'].apply(lambda x : create_columns(x,3))\n",
    "    del df['tweet']\n",
    "    return df"
   ]
  },
  {
   "cell_type": "code",
   "execution_count": 302,
   "metadata": {
    "collapsed": false
   },
   "outputs": [
    {
     "data": {
      "text/html": [
       "<div>\n",
       "<table border=\"1\" class=\"dataframe\">\n",
       "  <thead>\n",
       "    <tr style=\"text-align: right;\">\n",
       "      <th></th>\n",
       "      <th>main</th>\n",
       "      <th>sentiment</th>\n",
       "      <th>lang</th>\n",
       "      <th>id</th>\n",
       "      <th>date</th>\n",
       "      <th>user</th>\n",
       "    </tr>\n",
       "  </thead>\n",
       "  <tbody>\n",
       "    <tr>\n",
       "      <th>0</th>\n",
       "      <td>Yoga meditation.  breakfast exercising in that...</td>\n",
       "      <td>NEUTRAL</td>\n",
       "      <td>en</td>\n",
       "      <td>193462347791216640</td>\n",
       "      <td>Fri Apr 20 22:13:12 +0000 2012</td>\n",
       "      <td>aaronjleighton</td>\n",
       "    </tr>\n",
       "    <tr>\n",
       "      <th>1</th>\n",
       "      <td>“@BelloyHugo: Une fille n'est jamais trop bien...</td>\n",
       "      <td>NEGATIVE</td>\n",
       "      <td>fr</td>\n",
       "      <td>193462376975183872</td>\n",
       "      <td>Fri Apr 20 22:13:19 +0000 2012</td>\n",
       "      <td>ClairementHype</td>\n",
       "    </tr>\n",
       "    <tr>\n",
       "      <th>2</th>\n",
       "      <td>alright, time to dabble in the DARK ARTS known...</td>\n",
       "      <td>NEUTRAL</td>\n",
       "      <td>en</td>\n",
       "      <td>193462893063319552</td>\n",
       "      <td>Fri Apr 20 22:15:22 +0000 2012</td>\n",
       "      <td>Vicky_Bit</td>\n",
       "    </tr>\n",
       "    <tr>\n",
       "      <th>3</th>\n",
       "      <td>RT @DharmaApple: @MondoSamu @againststream YES...</td>\n",
       "      <td>POSITIVE</td>\n",
       "      <td>en</td>\n",
       "      <td>193463136223903744</td>\n",
       "      <td>Fri Apr 20 22:16:20 +0000 2012</td>\n",
       "      <td>MondoSamu</td>\n",
       "    </tr>\n",
       "    <tr>\n",
       "      <th>4</th>\n",
       "      <td>Downloaded 4 of the most amazing apps today by...</td>\n",
       "      <td>NEUTRAL</td>\n",
       "      <td>en</td>\n",
       "      <td>193464499439808514</td>\n",
       "      <td>Fri Apr 20 22:21:45 +0000 2012</td>\n",
       "      <td>nclmllr</td>\n",
       "    </tr>\n",
       "    <tr>\n",
       "      <th>5</th>\n",
       "      <td>RT @brainwavetweets: #Meditation is not just r...</td>\n",
       "      <td>POSITIVE</td>\n",
       "      <td>en</td>\n",
       "      <td>193465753679314945</td>\n",
       "      <td>Fri Apr 20 22:26:44 +0000 2012</td>\n",
       "      <td>TheAshleyAlexis</td>\n",
       "    </tr>\n",
       "  </tbody>\n",
       "</table>\n",
       "</div>"
      ],
      "text/plain": [
       "                                                main sentiment lang  \\\n",
       "0  Yoga meditation.  breakfast exercising in that...   NEUTRAL   en   \n",
       "1  “@BelloyHugo: Une fille n'est jamais trop bien...  NEGATIVE   fr   \n",
       "2  alright, time to dabble in the DARK ARTS known...   NEUTRAL   en   \n",
       "3  RT @DharmaApple: @MondoSamu @againststream YES...  POSITIVE   en   \n",
       "4  Downloaded 4 of the most amazing apps today by...   NEUTRAL   en   \n",
       "5  RT @brainwavetweets: #Meditation is not just r...  POSITIVE   en   \n",
       "\n",
       "                   id                            date             user  \n",
       "0  193462347791216640  Fri Apr 20 22:13:12 +0000 2012   aaronjleighton  \n",
       "1  193462376975183872  Fri Apr 20 22:13:19 +0000 2012   ClairementHype  \n",
       "2  193462893063319552  Fri Apr 20 22:15:22 +0000 2012        Vicky_Bit  \n",
       "3  193463136223903744  Fri Apr 20 22:16:20 +0000 2012        MondoSamu  \n",
       "4  193464499439808514  Fri Apr 20 22:21:45 +0000 2012          nclmllr  \n",
       "5  193465753679314945  Fri Apr 20 22:26:44 +0000 2012  TheAshleyAlexis  "
      ]
     },
     "execution_count": 302,
     "metadata": {},
     "output_type": "execute_result"
    }
   ],
   "source": [
    "#Processing dataframes.\n",
    "data_paleo = process_dataframes(data_paleo)\n",
    "data_medit = process_dataframes(data_medit)\n",
    "data_fast  = process_dataframes(data_fast )\n",
    "data_vegan = process_dataframes(data_vegan)\n",
    "\n",
    "data_medit.head(6)"
   ]
  },
  {
   "cell_type": "markdown",
   "metadata": {},
   "source": [
    "### 1.3 Plots : "
   ]
  },
  {
   "cell_type": "markdown",
   "metadata": {},
   "source": [
    "Then, we will group by sentiments."
   ]
  },
  {
   "cell_type": "code",
   "execution_count": 357,
   "metadata": {
    "collapsed": false
   },
   "outputs": [],
   "source": [
    "def groupAndPlot(frames,columns,practices ,ax,title) : \n",
    "    \"\"\"\n",
    "    Groups each dataframes in list of dataframes passed as parameter by sentiments and plots the results.\n",
    "    :param frames: list of dataframes\n",
    "    :param columns: list of strings\n",
    "    :param practices : list of strings\n",
    "    :param title : String\n",
    "    \"\"\"\n",
    "    new_frames=frames.copy()\n",
    "    for i in range(len(frames)):\n",
    "        new_frames[i]=frames[i][columns].groupby(['sentiment']).count()/len(frames[i])\n",
    "        new_frames[i]=new_frames[i].transpose()\n",
    "        new_frames[i]['Practice']=practices[i]\n",
    "    concatenated = pd.concat(new_frames).set_index('Practice',drop=True)\n",
    "    concatenated.drop('NEUTRAL',axis=1).plot.barh(ax=ax)\n",
    "    plt.xlabel('Percentage')\n",
    "    plt.ylabel('Practice')\n",
    "    ax.set_title(title)"
   ]
  },
  {
   "cell_type": "code",
   "execution_count": 382,
   "metadata": {
    "collapsed": false
   },
   "outputs": [
    {
     "data": {
      "image/png": "[encoded data removed]",
      "text/plain": [
       "<matplotlib.figure.Figure at 0x12b3a3400>"
      ]
     },
     "metadata": {},
     "output_type": "display_data"
    }
   ],
   "source": [
    "frames_leon=[data_paleo,data_medit,data_fast,data_vegan]\n",
    "cols_leon=['sentiment','user']\n",
    "titles_leon=['PaleoDiet','Meditation','Fasting','Veganism']\n",
    "\n",
    "frames_swiss=[data_paleo_swiss,data_medit_swiss,data_vegan_swiss]\n",
    "cols_swiss=['sentiment','published']\n",
    "titles_swiss=['PaleoDiet','Meditation','Veganism']\n",
    "\n",
    "fig , ax = plt.subplots(1,2,figsize=(15,7),sharex=True)\n",
    "\n",
    "groupAndPlot(frames_leon,cols_leon,titles_leon,ax[0],'Sentiment by practice in the world')\n",
    "groupAndPlot(frames_swiss,cols_swiss,titles_swiss,ax[1],'Sentiment by practice in Switzerland')\n",
    "ax[0].legend(loc='center left', bbox_to_anchor=(0.6, 0.7))\n",
    "ax[1].legend(loc='center left', bbox_to_anchor=(0.6, 0.7))\n",
    "plt.style.use('seaborn-deep')\n",
    "\n",
    "plt.show()"
   ]
  },
  {
   "cell_type": "markdown",
   "metadata": {},
   "source": [
    "The sentiments in Switzerland compared to those in the world are very comparable. \n",
    "- The paleo diet is not very liked in general both in Switzerland and the world. \n",
    "- Veganism is popular both in Switzerland and in the world.\n",
    "- Sentiments about meditation are close to twice as positive in Switzerland. Not to mention, the negativity is way less in Switzerland.\n",
    "- As for Intermittent fasting, it is quite popular globally, but unfortunately, it is inexistant in Swiss tweets."
   ]
  },
  {
   "cell_type": "markdown",
   "metadata": {},
   "source": [
    "## 2. Grouping by year : "
   ]
  },
  {
   "cell_type": "markdown",
   "metadata": {},
   "source": [
    "For this section, we will be grouping tweets by year and looking at the sentiments evolution through the years. \n",
    "\n",
    "Unfortunately, for this analysis, we will only be using tweets leon, because, the tweets for Swiss tweets are all in 2016."
   ]
  },
  {
   "cell_type": "code",
   "execution_count": 370,
   "metadata": {
    "collapsed": true
   },
   "outputs": [],
   "source": [
    "def get_year(date) : \n",
    "    \"\"\"\n",
    "    Return year from string\n",
    "    :param date: string\n",
    "    :return :sting\n",
    "    \"\"\"\n",
    "    try :\n",
    "        year = date.split(' ')[-1]\n",
    "    except  AttributeError : return np.nan\n",
    "    return year"
   ]
  },
  {
   "cell_type": "code",
   "execution_count": 371,
   "metadata": {
    "collapsed": false
   },
   "outputs": [],
   "source": [
    "def groupByYear(df):\n",
    "    \"\"\"\n",
    "    Groups dataframe by year.\n",
    "    :param df: dataframe\n",
    "    :return :dataframe\n",
    "    \"\"\"\n",
    "    df['year'] = df['date'].apply(get_year)\n",
    "    df['count']= np.ones(len(df))\n",
    "    grouped_year_data = df[['sentiment','count','year']].groupby(['year','sentiment']).count()\n",
    "    return grouped_year_data"
   ]
  },
  {
   "cell_type": "code",
   "execution_count": 372,
   "metadata": {
    "collapsed": false
   },
   "outputs": [],
   "source": [
    "def give_fractions(df) :     \n",
    "    \"\"\"\n",
    "    Returns a dataframe with number sentiments per tweet (calculates mean sentiments).\n",
    "    :param df: dataframe\n",
    "    :return :dataframe\n",
    "    \"\"\"\n",
    "    grouped_df=groupByYear(df).unstack(1).dropna()\n",
    "    grouped_df.columns = grouped_df.columns.droplevel()\n",
    "    grouped_df['sum'] = grouped_df['POSITIVE'] + grouped_df['NEGATIVE'] + grouped_df['NEUTRAL']\n",
    "    grouped_df=grouped_df.apply(lambda x : x/grouped_df['sum'])\n",
    "    del grouped_df['sum']\n",
    "    return grouped_df"
   ]
  },
  {
   "cell_type": "code",
   "execution_count": 373,
   "metadata": {
    "collapsed": false
   },
   "outputs": [],
   "source": [
    "#Grouping dataframes by year.\n",
    "grouped_paleo=give_fractions(data_paleo)\n",
    "grouped_medit=give_fractions(data_medit)\n",
    "grouped_vegan=give_fractions(data_vegan)\n",
    "grouped_fast=give_fractions(data_fast)"
   ]
  },
  {
   "cell_type": "code",
   "execution_count": 374,
   "metadata": {
    "collapsed": false
   },
   "outputs": [],
   "source": [
    "def barplots(dataframes, titles,figsize):\n",
    "    \"\"\"\n",
    "    plots dataframes in grids.\n",
    "    :param titles: string\n",
    "    :param figsize: tuple\n",
    "    \"\"\"\n",
    "    rows=2\n",
    "    cols=int(len(dataframes))\n",
    "    fig, axes = plt.subplots(nrows=2, ncols=int(len(dataframes)), figsize=figsize)\n",
    "    plt.subplots_adjust(wspace=0.5, hspace=0.5)\n",
    "    for i in range(cols) :\n",
    "        for j in range(rows):\n",
    "            dataframes[i][j].drop('NEUTRAL',axis=1).plot.bar(sharey=True,ax=axes[i,j],title=titles[i][j])\n",
    "            axes[i,j].legend(loc='center left', bbox_to_anchor=(.5, .9))  \n",
    "    axes[1,1].legend(loc='center left', bbox_to_anchor=(.1, .9))  \n",
    "    \n",
    "      \n",
    "    plt.show()"
   ]
  },
  {
   "cell_type": "code",
   "execution_count": 380,
   "metadata": {
    "collapsed": false
   },
   "outputs": [
    {
     "data": {
      "image/png": "[encoded data removed]",
      "text/plain": [
       "<matplotlib.figure.Figure at 0x148347cc0>"
      ]
     },
     "metadata": {},
     "output_type": "display_data"
    }
   ],
   "source": [
    "#Plotting sentiments by year.\n",
    "dataframes=[[grouped_vegan,grouped_medit],[grouped_paleo,grouped_fast]]\n",
    "titles=[['Sentiments by year for veganism','Sentiments by year for meditation'],['Sentiments by year for paleo diet','Sentiments by year for intermittent fasting']]\n",
    "barplots(dataframes,titles,(15,10))\n",
    "plt.style.use('seaborn-deep')\n",
    "plt.show()"
   ]
  },
  {
   "cell_type": "markdown",
   "metadata": {},
   "source": [
    "These graphs show that there aren't significant jumps or falls in popularity of the practices, except in the case of the paleo diet.\n",
    "- The paleo diet seems to have been talked about a lot in 2011, and hated on a lot. As for the rest of the years, the difference between sentiments is very small. This means most of the sentiments were neutral.\n",
    "- Veganism, meditation and intermittent fasting have had very small differences through the years, and their sentiments are mostly positive."
   ]
  },
  {
   "cell_type": "markdown",
   "metadata": {},
   "source": [
    "**Sections IV.3 and IV.4 :** In these two section we will be grouping the sentiments by likes and by gender. <br>\n",
    "It is worth noting that there are some genders labeled as UNKNOWN and missing number of likes in the dataset. <br>\n",
    "Also, as mentioned after the extraction of Swiss tweets, there is a very little number of tweets for the paleo diet, so we won't be including it."
   ]
  },
  {
   "cell_type": "markdown",
   "metadata": {},
   "source": [
    "## 3. Grouping by likes : "
   ]
  },
  {
   "cell_type": "code",
   "execution_count": 267,
   "metadata": {
    "collapsed": false
   },
   "outputs": [],
   "source": [
    "#Grouping by likes.\n",
    "grouped_vegan_likes=data_vegan_swiss[['sentiment','likes']].groupby(['sentiment']).mean()\n",
    "grouped_medit_likes=data_medit_swiss[['sentiment','likes']].groupby(['sentiment']).mean()"
   ]
  },
  {
   "cell_type": "code",
   "execution_count": 381,
   "metadata": {
    "collapsed": false,
    "scrolled": true
   },
   "outputs": [
    {
     "data": {
      "image/png": "[encoded data removed]",
      "text/plain": [
       "<matplotlib.figure.Figure at 0x140339278>"
      ]
     },
     "metadata": {},
     "output_type": "display_data"
    }
   ],
   "source": [
    "#Plots.\n",
    "fig, axes = plt.subplots(1,2, figsize=(15,3),sharey=True)\n",
    "\n",
    "titles=['likes by sentiment for tweets on veganism in Switzerland','likes by sentiment for tweets about meditation in Switzerland']\n",
    "grouped_vegan_likes.plot.bar(ax=axes[0],title=titles[0],fontsize=10,color=['purple'])\n",
    "grouped_medit_likes.plot.bar(ax=axes[1],title=titles[1],fontsize=10,color=['purple'])\n",
    "axes[0].title.set_size(15)\n",
    "\n",
    "axes[1].title.set_size(15)\n",
    "plt.style.use('seaborn-deep')\n",
    "plt.show()"
   ]
  },
  {
   "cell_type": "markdown",
   "metadata": {},
   "source": [
    "- We see that veganism gets , in general, significantly more likes. Which may suggest that this topic gets more reactions from users. \n",
    "- For both cases, the negative tweets get more likes than neutral and positive tweets. This shows that people love to hate on perfectly good practices (as concluded from sentiments graphs). "
   ]
  },
  {
   "cell_type": "markdown",
   "metadata": {},
   "source": [
    "## 4. Grouping by gender : "
   ]
  },
  {
   "cell_type": "code",
   "execution_count": 335,
   "metadata": {
    "collapsed": true
   },
   "outputs": [],
   "source": [
    "def groupByGender(dataframes):\n",
    "    \"\"\"\n",
    "    groups dataframes by gender and returns them.\n",
    "    :param dataframes: list of dataframes\n",
    "    :return: list of dataframes\n",
    "    \"\"\"\n",
    "    grouped_frames = dataframes.copy()\n",
    "    for i in range(len(dataframes)) : \n",
    "        dataframes[i]['count']=np.ones(len(dataframes[i]))\n",
    "        grouped_frames[i]=dataframes[i][['sentiment','author_gender','count']].groupby(['sentiment','author_gender']).count().unstack(1)\n",
    "        grouped_frames[i].columns = grouped_frames[i].columns.droplevel()\n",
    "        grouped_frames[i]=grouped_frames[i].apply(lambda x : x/(x['MALE']+x['FEMALE']+x['UNKNOWN']),axis=1)\n",
    "        grouped_frames[i]=grouped_frames[i].drop('UNKNOWN', axis=1)\n",
    "        \n",
    "    return grouped_frames"
   ]
  },
  {
   "cell_type": "code",
   "execution_count": 376,
   "metadata": {
    "collapsed": false
   },
   "outputs": [
    {
     "data": {
      "image/png": "[encoded data removed]",
      "text/plain": [
       "<matplotlib.figure.Figure at 0x12a8684e0>"
      ]
     },
     "metadata": {},
     "output_type": "display_data"
    }
   ],
   "source": [
    "#Grouping by gender\n",
    "grouped_vegan_gender,grouped_medit_gender = groupByGender([data_vegan_swiss,data_medit_swiss])\n",
    "\n",
    "#Plotting Sentiments by gender.\n",
    "fig, axes = plt.subplots(1,2, figsize=(15,3),sharey=True)\n",
    "\n",
    "titles=['Sentiments by gender for veganism','Sentiments by gender for meditation']\n",
    "grouped_vegan_gender.drop('NEUTRAL',axis=0).plot.bar(ax=axes[0],title=titles[0],fontsize=10,color=['salmon','darkblue'])\n",
    "grouped_medit_gender.drop('NEUTRAL',axis=0).plot.bar(ax=axes[1],title=titles[1],fontsize=10,color=['salmon','darkblue'])\n",
    "axes[0].title.set_size(15)\n",
    "\n",
    "axes[1].title.set_size(15)\n",
    "plt.style.use('seaborn')\n",
    "axes[0].legend(loc='center left', bbox_to_anchor=(.8, .9))  \n",
    "axes[1].legend(loc='center left', bbox_to_anchor=(.7, .7))  \n",
    "\n",
    "plt.show()"
   ]
  },
  {
   "cell_type": "markdown",
   "metadata": {},
   "source": [
    "- Veganism, is more talked about amongst female users in general as they are more numbered both in positive and negative tweets.\n",
    "- As for meditation the ratio is much closer."
   ]
  },
  {
   "cell_type": "markdown",
   "metadata": {},
   "source": [
    "# V. Conclusions : "
   ]
  },
  {
   "cell_type": "markdown",
   "metadata": {},
   "source": [
    "- The Paleo diet is not very popular in Switzerland or in the rest of the world. Although, it is presumed to work well for humans because it consists of eating as we evolved to eat. This assumption doesn't seem to be true after all.\n",
    "- All of veganism, intermittent fasting and meditation get fairly positive sentiments. You couldn't go wrong with doing any of the three. \n",
    " They are all associated with increased energy, euphoria according to some tweets we found. This backs up the general results we found.\n",
    "- In terms of evolution by year, it looks like the paleo diet was talked about in 2011 more so than other years. However, the difference in popularity in the other three trends between years is negligeable."
   ]
  }
 ],
 "metadata": {
  "kernelspec": {
   "display_name": "Python 3",
   "language": "python",
   "name": "python3"
  },
  "language_info": {
   "codemirror_mode": {
    "name": "ipython",
    "version": 3
   },
   "file_extension": ".py",
   "mimetype": "text/x-python",
   "name": "python",
   "nbconvert_exporter": "python",
   "pygments_lexer": "ipython3",
   "version": "3.6.0"
  }
 },
 "nbformat": 4,
 "nbformat_minor": 2
}
