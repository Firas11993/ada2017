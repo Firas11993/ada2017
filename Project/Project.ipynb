{
 "cells": [
  {
   "cell_type": "code",
   "execution_count": 1,
   "metadata": {
    "collapsed": false
   },
   "outputs": [],
   "source": [
    "import json\n",
    "import matplotlib.pyplot as plt\n",
    "import numpy as np\n",
    "import pandas as pd\n",
    "import os\n",
    "import pickle as pkl\n",
    "from tqdm import tqdm"
   ]
  },
  {
   "cell_type": "markdown",
   "metadata": {},
   "source": [
    "# 1. Listing Keywords : "
   ]
  },
  {
   "cell_type": "markdown",
   "metadata": {
    "collapsed": true
   },
   "source": [
    "First we made a list of topics we want to tackle in the tweets."
   ]
  },
  {
   "cell_type": "markdown",
   "metadata": {},
   "source": [
    "Topics : \n",
    "- Intermittent fasting.\n",
    "- Veganism. \n",
    "- Minimalist life. \n",
    "- Paleo diet.\n",
    "- Meditation. "
   ]
  },
  {
   "cell_type": "markdown",
   "metadata": {},
   "source": [
    "Then we made a few keywords for the topics listed above in all languages in switzerland to use when extracting our tweets of interest. "
   ]
  },
  {
   "cell_type": "code",
   "execution_count": 2,
   "metadata": {
    "collapsed": true
   },
   "outputs": [],
   "source": [
    "#Keywords for our tweets of interest. \n",
    "Intermittent_fasting ={'intermittentfasting','intermittierendefasten','jeuneintermittent','digiunointermittente'}\n",
    "Veganism={'plantbased','vegan','veganism','vegane','veganisme'}\n",
    "Minimalism={'minimalistlife','minimalism','minimalist','minimalistischer','minimalista'}\n",
    "Meditation={'meditation','meditazione'}\n",
    "Paleo={'regimepaleo','paleo','paleodiet','palaodiat','palao','dietapaleo','ketogenic','ketogenicdiet','ketogenediat','ketogene','dietachetogenica','chetogenica','regimecetogene','cetogene'}"
   ]
  },
  {
   "cell_type": "markdown",
   "metadata": {},
   "source": [
    "# 2. Loading the Dataset : "
   ]
  },
  {
   "cell_type": "markdown",
   "metadata": {},
   "source": [
    "As a first attempt, we took 10 files of the swiss-tweet dataset to take a look at what the files contain and how they are organized. \n",
    "\n",
    "Also, we wanted to see how well the tweets extraction with keywords works on a smaller set to avoid running it on the entire dataset and wait for hours to get bad results."
   ]
  },
  {
   "cell_type": "code",
   "execution_count": 5,
   "metadata": {
    "collapsed": false
   },
   "outputs": [],
   "source": [
    "#This function iterates over all files in the dataset folder and puts them in the pandas dataframe that we will call tweets.\n",
    "def load_tweets(path):\n",
    "    tweets=pd.DataFrame([])\n",
    "    directory = os.fsencode(path)\n",
    "    for file in tqdm(os.listdir(directory)):\n",
    "        filename = os.fsdecode(file)\n",
    "        new_tweet=pd.read_json(path+filename)\n",
    "        tweets=tweets.append(new_tweet,ignore_index=True)\n",
    "    tweets=tweets.reset_index(drop=True)\n",
    "    return tweets"
   ]
  },
  {
   "cell_type": "code",
   "execution_count": 6,
   "metadata": {
    "collapsed": false
   },
   "outputs": [
    {
     "name": "stderr",
     "output_type": "stream",
     "text": [
      "100%|██████████| 10/10 [52:21<00:00, 314.17s/it]\n"
     ]
    }
   ],
   "source": [
    "#Loading tweets contained in the folder swiss-tweet in the Datasets folder.\n",
    "tweets=load_tweets('./Datasets/swiss-tweet/')"
   ]
  },
  {
   "cell_type": "markdown",
   "metadata": {},
   "source": [
    "# 3. Extracting target tweets : "
   ]
  },
  {
   "cell_type": "markdown",
   "metadata": {},
   "source": [
    "The function below was written to delete all spaces and to turn all letters to lower case and replace all letters such as é with e and ä with a and so on. \n",
    "\n",
    "The goal of using this function is to increase matching with keywords chances and also to make the keyword lists shorter and not have to exhaustively list all possible combinations of target keywords in the list above.\n"
   ]
  },
  {
   "cell_type": "code",
   "execution_count": 8,
   "metadata": {
    "collapsed": false
   },
   "outputs": [],
   "source": [
    "#This function preprocesses the tweets (read the text above for more details)\n",
    "def replace_characters(text) : \n",
    "    text=text.lower()\n",
    "    text=text.replace(' ','')\n",
    "    text=text.replace('é','e')\n",
    "    text=text.replace('è','e')\n",
    "    text=text.replace('ê','e')\n",
    "    text=text.replace('ë','e')\n",
    "    text=text.replace('ä','a')\n",
    "    text=text.replace('û','u')\n",
    "    text=text.replace('ü','u')\n",
    "    \n",
    "    return text"
   ]
  },
  {
   "cell_type": "code",
   "execution_count": 9,
   "metadata": {
    "collapsed": false
   },
   "outputs": [],
   "source": [
    "#This function looks for the tweets that contain the keywords passed as parameter and returns their indices. \n",
    "def extract_target_tweets(tweets,keywords):\n",
    "    #Initializing the indices array.\n",
    "    target_indices=[]\n",
    "    \n",
    "    #Iterate over all tweets\n",
    "    for i in tqdm(range(len(tweets['_source']))) : \n",
    "        \n",
    "        #Preprocess the tweets text.\n",
    "        tweet=replace_characters(tweets['_source'][i]['main'])\n",
    "        \n",
    "        for j in keywords : \n",
    "            #If tweet contains a keyword save its index in target_indices list.\n",
    "            if(j in tweet) : target_indices.append(i)\n",
    "    return target_indices"
   ]
  },
  {
   "cell_type": "markdown",
   "metadata": {},
   "source": [
    "Below, we look for indices of tweets that contain keywords of topics listed in Listing Keywords section using the two functions defined above."
   ]
  },
  {
   "cell_type": "code",
   "execution_count": 10,
   "metadata": {
    "collapsed": false
   },
   "outputs": [
    {
     "name": "stderr",
     "output_type": "stream",
     "text": [
      "100%|██████████| 329681/329681 [11:20<00:00, 484.38it/s]\n",
      "100%|██████████| 329681/329681 [03:20<00:00, 1641.16it/s]\n",
      "100%|██████████| 329681/329681 [00:32<00:00, 10000.38it/s]\n",
      "100%|██████████| 329681/329681 [00:22<00:00, 14731.34it/s]\n",
      "100%|██████████| 329681/329681 [00:23<00:00, 13914.67it/s]\n"
     ]
    }
   ],
   "source": [
    "#Running the function extract_target_tweets on each topic.\n",
    "\n",
    "intermittent_fasting_tweets=extract_target_tweets(tweets,Intermittent_fasting)\n",
    "veganism_tweets=extract_target_tweets(tweets,Veganism)\n",
    "minimalism_tweets=extract_target_tweets(tweets,Minimalism)\n",
    "meditation_tweets=extract_target_tweets(tweets,Meditation)\n",
    "paleo_tweets=extract_target_tweets(tweets,Paleo)"
   ]
  },
  {
   "cell_type": "code",
   "execution_count": 62,
   "metadata": {
    "collapsed": true
   },
   "outputs": [],
   "source": [
    "#Keeping a list of all indices for later use.\n",
    "tweets_of_interest_indices=np.unique(intermittent_fasting_tweets+veganism_tweets+minimalism_tweets+meditation_tweets+paleo_tweets)"
   ]
  },
  {
   "cell_type": "markdown",
   "metadata": {},
   "source": [
    "## Results : "
   ]
  },
  {
   "cell_type": "code",
   "execution_count": 85,
   "metadata": {
    "collapsed": false
   },
   "outputs": [
    {
     "data": {
      "text/plain": [
       "('Number of tweets about Intermittent fasting : 0',\n",
       " 'Number of tweets about veganism : 225',\n",
       " 'Number of tweets about Minimalism :24',\n",
       " 'Number of tweets about Meditation: 216',\n",
       " 'Number of tweets about paleo diet : 39')"
      ]
     },
     "execution_count": 85,
     "metadata": {},
     "output_type": "execute_result"
    }
   ],
   "source": [
    "'Number of tweets about Intermittent fasting : ' +str(len(intermittent_fasting_tweets)),'Number of tweets about veganism : '+str(len(veganism_tweets)),'Number of tweets about Minimalism :' + str(len(minimalism_tweets)),'Number of tweets about Meditation: ' +str(len(meditation_tweets)),'Number of tweets about paleo diet : '+ str(len(paleo_tweets))"
   ]
  },
  {
   "cell_type": "markdown",
   "metadata": {},
   "source": [
    "The topics that got the most results are veganism and meditation. Intermittent fasting had no results whatsoever with the keywords provided. Minimalism and the paleo diet got very little results. "
   ]
  },
  {
   "cell_type": "markdown",
   "metadata": {},
   "source": [
    "# 4. Exploring resulting tweets : "
   ]
  },
  {
   "cell_type": "markdown",
   "metadata": {},
   "source": [
    "## 4.1 Results for Paleo Diet : "
   ]
  },
  {
   "cell_type": "markdown",
   "metadata": {},
   "source": [
    "After looking at some of the Paleo diet resulting tweets, we see that most of them were not tweets about the paleo diet at all. \n",
    "\n",
    "We see that most of them talk about the paleo festival, exactly like the example tweet shown below."
   ]
  },
  {
   "cell_type": "code",
   "execution_count": 87,
   "metadata": {
    "collapsed": false
   },
   "outputs": [
    {
     "data": {
      "text/plain": [
       "'@louiseattaqueofficiel at @paleofestival http://www.sigfredoharo.com/paleo-16\\xa0 © Sigfredo Haro photography pour le... http://fb.me/6bvdTws5u\\xa0'"
      ]
     },
     "execution_count": 87,
     "metadata": {},
     "output_type": "execute_result"
    }
   ],
   "source": [
    "tweets['_source'][208582]['main']"
   ]
  },
  {
   "cell_type": "markdown",
   "metadata": {},
   "source": [
    "### Next step : "
   ]
  },
  {
   "cell_type": "markdown",
   "metadata": {},
   "source": [
    "The bad results actually look like they were caused by bad choice of keywords. So we may try to fix the keywords for the paleo diet or better yet use another more sophisticated technique (Latent Dirichlet Allocation).\n",
    "\n",
    "If the results are still small, we might drop this topic. "
   ]
  },
  {
   "cell_type": "markdown",
   "metadata": {},
   "source": [
    "## 4.2 Results for Veganism : "
   ]
  },
  {
   "cell_type": "markdown",
   "metadata": {},
   "source": [
    "The results for veganism are good, in terms of number and accuracy. But it won't hurt to use a more sophisticated tool to extract tweets even more accurately."
   ]
  },
  {
   "cell_type": "code",
   "execution_count": 91,
   "metadata": {
    "collapsed": false
   },
   "outputs": [
    {
     "data": {
      "text/plain": [
       "('The #simplelife . Freshly made #coffeemorning & Spanish #oliveoil #toast #vegan #simplicity #mylifestyle #MomentOfTruth #awe #love #life',\n",
       " 'POSITIVE')"
      ]
     },
     "execution_count": 91,
     "metadata": {},
     "output_type": "execute_result"
    }
   ],
   "source": [
    "#Example of tweet about veganism and its corresponding sentiment as provided in the dataset.\n",
    "\n",
    "tweets['_source'][327460]['main'] , tweets['_source'][327460]['sentiment']"
   ]
  },
  {
   "cell_type": "markdown",
   "metadata": {},
   "source": [
    "## 4.3 Results for meditation : "
   ]
  },
  {
   "cell_type": "markdown",
   "metadata": {},
   "source": [
    "It is not surprising that we found many results about meditation, as it is already popular in the western world and more specifically in Switzerland. \n",
    "\n",
    "However, some results we got are ads for guided meditation sessions."
   ]
  },
  {
   "cell_type": "code",
   "execution_count": 92,
   "metadata": {
    "collapsed": false
   },
   "outputs": [
    {
     "data": {
      "text/plain": [
       "'This school replaced detention with meditation. The results are stunning.'"
      ]
     },
     "execution_count": 92,
     "metadata": {},
     "output_type": "execute_result"
    }
   ],
   "source": [
    "#Example of tweet about meditation. \n",
    "tweets['_source'][294749]['main']"
   ]
  },
  {
   "cell_type": "markdown",
   "metadata": {},
   "source": [
    "### Next step :"
   ]
  },
  {
   "cell_type": "markdown",
   "metadata": {},
   "source": [
    "Filter out all the tweets that contain ads about meditation."
   ]
  },
  {
   "cell_type": "markdown",
   "metadata": {},
   "source": [
    "## 4.4 Results for Minimalism : "
   ]
  },
  {
   "cell_type": "markdown",
   "metadata": {},
   "source": [
    "The resulting tweets for minimalism are completely off. We may get rid of the topic altogether, but we may try another technique for extracting tweets about minimalism."
   ]
  },
  {
   "cell_type": "code",
   "execution_count": 96,
   "metadata": {
    "collapsed": false
   },
   "outputs": [
    {
     "data": {
      "text/plain": [
       "'Minimalist Porcelain Clocks Like a Scale http://v.virg0.org/2bLigJl\\xa0 #design'"
      ]
     },
     "execution_count": 96,
     "metadata": {},
     "output_type": "execute_result"
    }
   ],
   "source": [
    "#Example of bad result of tweet about minimalism.\n",
    "tweets['_source'][242242]['main']"
   ]
  },
  {
   "cell_type": "markdown",
   "metadata": {},
   "source": [
    "# 5. What comes next : "
   ]
  },
  {
   "cell_type": "markdown",
   "metadata": {},
   "source": [
    "1. Find a better way to extract tweets about each topic instead of the tentative approach done above. <br>\n",
    "2. Run it on all the tweets in the dataset. <br>\n",
    "3. Show graphs about the sentiments of each topic.<br>\n",
    " - 3.1. Go more in details in graphs of sentiments (sentiment per gender ,per time period ,per region of Switzerland and so on...)<br>\n",
    " - 3.2. Compare between graphs of topics.\n",
    " \n",
    "4. We might add new topics for more results about trending lifestyles in Switzerland (e.g Gluten free)\n",
    "5. Present all results with conclusions about what trends seem to get the most love.\n",
    "6. The report will contain all the steps taken up to milestone 3 to get our results, as well as a discussion of the rsults.\n",
    "7. The presentation will contain a short description of steps taken to get our results, as well as a presentation the results with graphs. And finally, draw some conclusions.<br>\n",
    "\n",
    "(Optional) : We would also like to see what kind of results we get from the bigger twitter dataset."
   ]
  }
 ],
 "metadata": {
  "kernelspec": {
   "display_name": "Python 3",
   "language": "python",
   "name": "python3"
  },
  "language_info": {
   "codemirror_mode": {
    "name": "ipython",
    "version": 3
   },
   "file_extension": ".py",
   "mimetype": "text/x-python",
   "name": "python",
   "nbconvert_exporter": "python",
   "pygments_lexer": "ipython3",
   "version": "3.6.0"
  }
 },
 "nbformat": 4,
 "nbformat_minor": 2
}
