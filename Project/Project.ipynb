{
 "cells": [
  {
   "cell_type": "code",
   "execution_count": 167,
   "metadata": {
    "collapsed": false
   },
   "outputs": [],
   "source": [
    "import json\n",
    "import matplotlib\n",
    "import matplotlib.pyplot as plt\n",
    "import numpy as np\n",
    "import pandas as pd\n",
    "import os\n",
    "from tqdm import tqdm\n",
    "import ast\n",
    "import re\n",
    "import pickle \n",
    "import warnings\n",
    "matplotlib.style.use('ggplot')\n",
    "warnings.filterwarnings(\"ignore\")"
   ]
  },
  {
   "cell_type": "markdown",
   "metadata": {},
   "source": [
    "**Comment for TAs : Milestone 3 start from section II**"
   ]
  },
  {
   "cell_type": "markdown",
   "metadata": {},
   "source": [
    "#  Listing Keywords : "
   ]
  },
  {
   "cell_type": "markdown",
   "metadata": {
    "collapsed": true
   },
   "source": [
    "First we made a list of topics we want to tackle in the tweets."
   ]
  },
  {
   "cell_type": "markdown",
   "metadata": {},
   "source": [
    "Topics : \n",
    "- Intermittent fasting.\n",
    "- Veganism. \n",
    "- Minimalist life. \n",
    "- Paleo diet.\n",
    "- Meditation. "
   ]
  },
  {
   "cell_type": "markdown",
   "metadata": {},
   "source": [
    "Then we made a few keywords for the topics listed above in all languages in switzerland to use when extracting our tweets of interest. "
   ]
  },
  {
   "cell_type": "code",
   "execution_count": 2,
   "metadata": {
    "collapsed": true
   },
   "outputs": [],
   "source": [
    "#Keywords for our tweets of interest. \n",
    "Intermittent_fasting ={'intermittentfasting','intermittierendefasten','jeuneintermittent','digiunointermittente'}\n",
    "Veganism={'plantbased','vegan','veganism','vegane','veganisme'}\n",
    "Minimalism={'minimalistlife','minimalism','minimalist','minimalistischer','minimalista'}\n",
    "Meditation={'meditation','meditazione'}\n",
    "Paleo={'regimepaleo','paleodiet','palaodiat','palao','dietapaleo','ketogenic','ketogenicdiet','ketogenediat','ketogene','dietachetogenica','chetogenica','regimecetogene','cetogene'}"
   ]
  },
  {
   "cell_type": "markdown",
   "metadata": {},
   "source": [
    "# I. Working on 10 files : "
   ]
  },
  {
   "cell_type": "markdown",
   "metadata": {},
   "source": [
    "## 1. Loading the Dataset : "
   ]
  },
  {
   "cell_type": "markdown",
   "metadata": {},
   "source": [
    "As a first attempt, we took 10 files of the swiss-tweet dataset to take a look at what the files contain and how they are organized. \n",
    "\n",
    "Also, we wanted to see how well the tweets extraction with keywords works on a smaller set to avoid running it on the entire dataset and wait for hours to get bad results.\n",
    "\n",
    "The 10 files used are : harvest3r_twitter_data_01-01_0.json, harvest3r_twitter_data_01-02_0.json, harvest3r_twitter_data_01-03_0.json, harvest3r_twitter_data_01-04_0.json, harvest3r_twitter_data_01-05_0.json, harvest3r_twitter_data_01-06_0.json, harvest3r_twitter_data_01-07_0.json, harvest3r_twitter_data_01-08_0.json, harvest3r_twitter_data_01-09_0.json, harvest3r_twitter_data_01-10_0.json"
   ]
  },
  {
   "cell_type": "code",
   "execution_count": 3,
   "metadata": {
    "collapsed": false
   },
   "outputs": [],
   "source": [
    "#This function iterates over all files in the dataset folder and puts them in the pandas dataframe that we will call tweets.\n",
    "def load_tweets(path):\n",
    "    \"\"\"\n",
    "    Returns list of tweets extracted by keyword.\n",
    "    :param path: String  \n",
    "    :return: list\n",
    "    \"\"\"\n",
    "    tweets=pd.DataFrame([])\n",
    "    directory = os.fsencode(path)\n",
    "    for file in tqdm(os.listdir(directory)):\n",
    "        filename = os.fsdecode(file)\n",
    "        new_tweet=pd.read_json(path+filename)\n",
    "        \n",
    "        tweets=tweets.append(new_tweet,ignore_index=True)\n",
    "    tweets=tweets.reset_index(drop=True)\n",
    "    return tweets"
   ]
  },
  {
   "cell_type": "code",
   "execution_count": 8,
   "metadata": {
    "collapsed": false
   },
   "outputs": [],
   "source": [
    "#Loading tweets contained in the folder swiss-tweet in the Datasets folder.\n",
    "tweets=load_tweets('./Datasets/swiss-tweet/')"
   ]
  },
  {
   "cell_type": "markdown",
   "metadata": {},
   "source": [
    "## 2. Extracting target tweets : "
   ]
  },
  {
   "cell_type": "markdown",
   "metadata": {},
   "source": [
    "The function below was written to delete all spaces and to turn all letters to lower case and replace all letters such as é with e and ä with a and so on. \n",
    "\n",
    "The goal of using this function is to increase matching with keywords chances and also to make the keyword lists shorter and not have to exhaustively list all possible combinations of target keywords in the list above.\n"
   ]
  },
  {
   "cell_type": "code",
   "execution_count": 4,
   "metadata": {
    "collapsed": false
   },
   "outputs": [],
   "source": [
    "def replace_characters(text) : \n",
    "    \"\"\"\n",
    "    Returns the text without spaces and special language letters (i.e é for French, ä for German)\n",
    "    :param text: String\n",
    "    :return: string\n",
    "    \"\"\"\n",
    "    text=text.lower()\n",
    "    text=text.replace(' ','')\n",
    "    text=text.replace('é','e')\n",
    "    text=text.replace('è','e')\n",
    "    text=text.replace('ê','e')\n",
    "    text=text.replace('ë','e')\n",
    "    text=text.replace('ä','a')\n",
    "    text=text.replace('û','u')\n",
    "    text=text.replace('ü','u')\n",
    "    \n",
    "    return text"
   ]
  },
  {
   "cell_type": "code",
   "execution_count": 5,
   "metadata": {
    "collapsed": false
   },
   "outputs": [],
   "source": [
    "def extract_target_tweets(tweets,keywords):\n",
    "    \"\"\"\n",
    "    Gives the tweets that contain one or many of the keywords in the parameter keywords.\n",
    "    :param tweets: list of dict\n",
    "    :param keywords: dict\n",
    "    :return: graph\n",
    "    \"\"\"\n",
    "    #Initializing the indices array.\n",
    "    target_indices=[]\n",
    "    \n",
    "    #Iterate over all tweets\n",
    "    for i in tqdm(range(len(tweets['_source']))) : \n",
    "        \n",
    "        #Preprocess the tweets text.\n",
    "        tweet=replace_characters(tweets['_source'][i]['main'])\n",
    "        \n",
    "        for j in keywords : \n",
    "            #If tweet contains a keyword save its index in target_indices list.\n",
    "            if(j in tweet) : target_indices.append(i)\n",
    "    return target_indices"
   ]
  },
  {
   "cell_type": "markdown",
   "metadata": {},
   "source": [
    "Below, we look for indices of tweets that contain keywords of topics listed in Listing Keywords section using the two functions defined above."
   ]
  },
  {
   "cell_type": "code",
   "execution_count": 9,
   "metadata": {
    "collapsed": false
   },
   "outputs": [],
   "source": [
    "#Running the function extract_target_tweets on each topic.\n",
    "\n",
    "intermittent_fasting_tweets=extract_target_tweets(tweets,Intermittent_fasting)\n",
    "veganism_tweets=extract_target_tweets(tweets,Veganism)\n",
    "minimalism_tweets=extract_target_tweets(tweets,Minimalism)\n",
    "meditation_tweets=extract_target_tweets(tweets,Meditation)\n",
    "paleo_tweets=extract_target_tweets(tweets,Paleo)"
   ]
  },
  {
   "cell_type": "code",
   "execution_count": 10,
   "metadata": {
    "collapsed": true
   },
   "outputs": [],
   "source": [
    "#Keeping a list of all indices for later use.\n",
    "tweets_of_interest_indices=np.unique(intermittent_fasting_tweets+veganism_tweets+minimalism_tweets+meditation_tweets+paleo_tweets)"
   ]
  },
  {
   "cell_type": "markdown",
   "metadata": {},
   "source": [
    "## Results : "
   ]
  },
  {
   "cell_type": "code",
   "execution_count": 11,
   "metadata": {
    "collapsed": false
   },
   "outputs": [
    {
     "data": {
      "text/plain": [
       "('Number of tweets about Intermittent fasting : 0',\n",
       " 'Number of tweets about veganism : 252',\n",
       " 'Number of tweets about Minimalism :24',\n",
       " 'Number of tweets about Meditation: 216',\n",
       " 'Number of tweets about paleo diet : 40')"
      ]
     },
     "execution_count": 11,
     "metadata": {},
     "output_type": "execute_result"
    }
   ],
   "source": [
    "'Number of tweets about Intermittent fasting : ' +str(len(intermittent_fasting_tweets)),'Number of tweets about veganism : '+str(len(veganism_tweets)),'Number of tweets about Minimalism :' + str(len(minimalism_tweets)),'Number of tweets about Meditation: ' +str(len(meditation_tweets)),'Number of tweets about paleo diet : '+ str(len(paleo_tweets))"
   ]
  },
  {
   "cell_type": "markdown",
   "metadata": {},
   "source": [
    "The topics that got the most results are veganism and meditation. Intermittent fasting had no results whatsoever with the keywords provided. Minimalism and the paleo diet got very little results. "
   ]
  },
  {
   "cell_type": "markdown",
   "metadata": {},
   "source": [
    "## 3. Exploring resulting tweets : "
   ]
  },
  {
   "cell_type": "markdown",
   "metadata": {},
   "source": [
    "To explore the resulting extracted tweets, we get the indices from the lists constructed above (intermittent_fasting_tweets, veganism_tweets, minimalism_tweets, meditation_tweets, paleo_tweets) and explore its content. "
   ]
  },
  {
   "cell_type": "markdown",
   "metadata": {},
   "source": [
    "### 3.1 Results for Paleo Diet : "
   ]
  },
  {
   "cell_type": "markdown",
   "metadata": {},
   "source": [
    "After looking at some of the Paleo diet resulting tweets, we see that most of them were not tweets about the paleo diet at all. \n",
    "\n",
    "We see that most of them talk about the paleo festival, exactly like the example tweet shown below."
   ]
  },
  {
   "cell_type": "code",
   "execution_count": 12,
   "metadata": {
    "collapsed": false
   },
   "outputs": [
    {
     "data": {
      "text/plain": [
       "'@louiseattaqueofficiel at @paleofestival http://www.sigfredoharo.com/paleo-16\\xa0 © Sigfredo Haro photography pour le... http://fb.me/6bvdTws5u\\xa0'"
      ]
     },
     "execution_count": 12,
     "metadata": {},
     "output_type": "execute_result"
    }
   ],
   "source": [
    "tweets['_source'][208582]['main']"
   ]
  },
  {
   "cell_type": "markdown",
   "metadata": {},
   "source": [
    "### Next step : "
   ]
  },
  {
   "cell_type": "markdown",
   "metadata": {},
   "source": [
    "The bad results actually look like they were caused by bad choice of keywords. So we may try to fix the keywords for the paleo diet or better yet use another more sophisticated technique (Latent Dirichlet Allocation).\n",
    "\n",
    "If the results are still small, we might drop this topic. "
   ]
  },
  {
   "cell_type": "markdown",
   "metadata": {},
   "source": [
    "### 3.2 Results for Veganism : "
   ]
  },
  {
   "cell_type": "markdown",
   "metadata": {},
   "source": [
    "The results for veganism are good, in terms of number and accuracy. But it won't hurt to use a more sophisticated tool to extract tweets even more accurately."
   ]
  },
  {
   "cell_type": "code",
   "execution_count": 13,
   "metadata": {
    "collapsed": false
   },
   "outputs": [
    {
     "data": {
      "text/plain": [
       "('The #simplelife . Freshly made #coffeemorning & Spanish #oliveoil #toast #vegan #simplicity #mylifestyle #MomentOfTruth #awe #love #life',\n",
       " 'POSITIVE')"
      ]
     },
     "execution_count": 13,
     "metadata": {},
     "output_type": "execute_result"
    }
   ],
   "source": [
    "#Example of tweet about veganism and its corresponding sentiment as provided in the dataset.\n",
    "\n",
    "tweets['_source'][327460]['main'] , tweets['_source'][327460]['sentiment']"
   ]
  },
  {
   "cell_type": "markdown",
   "metadata": {},
   "source": [
    "### 3.3 Results for meditation : "
   ]
  },
  {
   "cell_type": "markdown",
   "metadata": {},
   "source": [
    "It is not surprising that we found many results about meditation, as it is already popular in the western world and more specifically in Switzerland. \n",
    "\n",
    "However, some results we got are ads for guided meditation sessions."
   ]
  },
  {
   "cell_type": "code",
   "execution_count": 14,
   "metadata": {
    "collapsed": false
   },
   "outputs": [
    {
     "data": {
      "text/plain": [
       "'This school replaced detention with meditation. The results are stunning.'"
      ]
     },
     "execution_count": 14,
     "metadata": {},
     "output_type": "execute_result"
    }
   ],
   "source": [
    "#Example of tweet about meditation.\n",
    "tweets['_source'][294749]['main']"
   ]
  },
  {
   "cell_type": "markdown",
   "metadata": {},
   "source": [
    "### Next step :"
   ]
  },
  {
   "cell_type": "markdown",
   "metadata": {},
   "source": [
    "Filter out all the tweets that contain ads about meditation."
   ]
  },
  {
   "cell_type": "markdown",
   "metadata": {},
   "source": [
    "### 3.4 Results for Minimalism : "
   ]
  },
  {
   "cell_type": "markdown",
   "metadata": {},
   "source": [
    "The resulting tweets for minimalism are completely off. We may get rid of the topic altogether, but we will give it another try with a new technique for extracting tweets about minimalism before deciding that."
   ]
  },
  {
   "cell_type": "code",
   "execution_count": 15,
   "metadata": {
    "collapsed": false
   },
   "outputs": [
    {
     "data": {
      "text/plain": [
       "'Minimalist Porcelain Clocks Like a Scale http://v.virg0.org/2bLigJl\\xa0 #design'"
      ]
     },
     "execution_count": 15,
     "metadata": {},
     "output_type": "execute_result"
    }
   ],
   "source": [
    "#Example of bad result of tweet about minimalism.\n",
    "tweets['_source'][242242]['main']"
   ]
  },
  {
   "cell_type": "markdown",
   "metadata": {},
   "source": [
    "### 3.5 Results for Intermittent Fasting : "
   ]
  },
  {
   "cell_type": "markdown",
   "metadata": {},
   "source": [
    "The intermittent fasting trend is almost inexistant in the tweets we selected. So, we could drop it for the rest of the project if the extraction for the full dataset gives the same result."
   ]
  },
  {
   "cell_type": "markdown",
   "metadata": {},
   "source": [
    "## 4. Sentiment Graphs : "
   ]
  },
  {
   "cell_type": "markdown",
   "metadata": {},
   "source": [
    "Fortunately, most of the sentiments were provided with the dataset. So, in this section we will have a look at how they were distributed."
   ]
  },
  {
   "cell_type": "code",
   "execution_count": 10,
   "metadata": {
    "collapsed": false
   },
   "outputs": [],
   "source": [
    "def get_list_of_sentiments(indices): \n",
    "    \"\"\"\n",
    "    Returns list of sentiment at indices passed as parameter.\n",
    "    :param indices: list\n",
    "    :return: list\n",
    "    \"\"\"\n",
    "    sentiments=[]\n",
    "    for i in indices : \n",
    "        try: \n",
    "            sentiment=tweets['_source'][i]['sentiment']\n",
    "            sentiments.append(sentiment)\n",
    "        #In case there isn't a sentiment field just ignore and keep going.\n",
    "        except KeyError : continue\n",
    "    return sentiments"
   ]
  },
  {
   "cell_type": "code",
   "execution_count": 209,
   "metadata": {
    "collapsed": false
   },
   "outputs": [],
   "source": [
    "def plot_sentiments(sentiments,title) : \n",
    "    \"\"\"\n",
    "   Plots in a pie plot the sentiments proportions in list sentiments passed as parameter\n",
    "    :param sentiments: list\n",
    "    :param title: string\n",
    "    \"\"\"\n",
    "    labels=np.unique(sentiments)\n",
    "    values=[sentiments.count(i) for i in labels]\n",
    "    explode = (0.1, 0.1, 0)\n",
    "    colors = ['maroon', 'purple','darkblue' ]\n",
    "    plt.title(title)\n",
    "    plt.pie(values,explode=explode,colors=colors,labels=labels,shadow=True)\n",
    "    fig = plt.gcf()\n",
    "    fig.set_size_inches(3,3)\n",
    "    plt.show()"
   ]
  },
  {
   "cell_type": "markdown",
   "metadata": {},
   "source": [
    "Below, we will see the sentiments about the trends that had good results (veganism and meditation) as they were provided in the dataset sample."
   ]
  },
  {
   "cell_type": "markdown",
   "metadata": {},
   "source": [
    "### 4.1 Pie plot of veganism sentiments : "
   ]
  },
  {
   "cell_type": "code",
   "execution_count": 399,
   "metadata": {
    "collapsed": false
   },
   "outputs": [
    {
     "data": {
      "image/png": "[encoded data removed]",
      "text/plain": [
       "<matplotlib.figure.Figure at 0x12a50c198>"
      ]
     },
     "metadata": {},
     "output_type": "display_data"
    }
   ],
   "source": [
    "#Getting a list of sentiments of veganism \n",
    "veganism_sentiments=get_list_of_sentiments(veganism_tweets)\n",
    "\n",
    "#Drawing a pie plot of the sentiments.\n",
    "plot_sentiments(veganism_sentiments,'Sentiments about veganism')\n"
   ]
  },
  {
   "cell_type": "markdown",
   "metadata": {},
   "source": [
    "### 4.2 Pie plot of meditation sentiments : "
   ]
  },
  {
   "cell_type": "code",
   "execution_count": 22,
   "metadata": {
    "collapsed": false
   },
   "outputs": [
    {
     "data": {
      "image/png": "[encoded data removed]",
      "text/plain": [
       "<matplotlib.figure.Figure at 0x1aba29390>"
      ]
     },
     "metadata": {},
     "output_type": "display_data"
    }
   ],
   "source": [
    "#Getting a list of sentiments of meditation. \n",
    "meditation_sentiments=get_list_of_sentiments(meditation_tweets)\n",
    "\n",
    "#Drawing a pie plot of the sentiments.\n",
    "plot_sentiments(meditation_sentiments,'Sentiments about meditation')"
   ]
  },
  {
   "cell_type": "markdown",
   "metadata": {},
   "source": [
    "### 4.3 Discussion :"
   ]
  },
  {
   "cell_type": "markdown",
   "metadata": {},
   "source": [
    "From the two pie plots, we notice that most of the sentiments are neutral. By exploring the dataset a little we can see that many tweets that should have been positive or negative are labeled as neutral. \n",
    "\n",
    "Which is why we will try to determine sentiments of tweets on our own for the next milestone and see if we get better results."
   ]
  },
  {
   "cell_type": "markdown",
   "metadata": {},
   "source": [
    "## 5. What comes next : "
   ]
  },
  {
   "cell_type": "markdown",
   "metadata": {},
   "source": [
    "1. Find a better way to extract tweets about each topic instead of the tentative approach done above. <br>\n",
    "2. Run it on all the tweets in the dataset. <br>\n",
    "3. Show graphs about the sentiments of each topic.<br>\n",
    " - 3.1. Go more in details in graphs of sentiments (sentiment per gender ,per time period ,per region of Switzerland and so on...)<br>\n",
    " - 3.2. Compare between graphs of topics.\n",
    " \n",
    "4. We might add new topics for more results about trending lifestyles in Switzerland (e.g Gluten free)\n",
    "5. Present all results with conclusions about what trends seem to get the most love.\n",
    "6. The report will contain all the steps taken up to milestone 3 to get our results, as well as a discussion of the results.\n",
    "7. The presentation will contain a short description of steps taken to get our results, as well as a presentation of the results with graphs. And finally, draw some conclusions.<br>\n",
    "\n",
    "(Optional) : We would also like to see what kind of results we get from the bigger twitter dataset."
   ]
  },
  {
   "cell_type": "markdown",
   "metadata": {},
   "source": [
    "# II. Running previous steps on entire swiss tweet dataset : "
   ]
  },
  {
   "cell_type": "markdown",
   "metadata": {},
   "source": [
    "We ran a spark script on the entire dataset using the cluster and we filtered the tweets we wanted using keywords extraction, the same method described in the previous section."
   ]
  },
  {
   "cell_type": "markdown",
   "metadata": {},
   "source": [
    "The resulting dataset is a group of json files containing a variety of keys referring to information of tweets, including : tweet text, sentiment, location, gender, language of the tweet and so on... "
   ]
  },
  {
   "cell_type": "code",
   "execution_count": 12,
   "metadata": {
    "collapsed": true
   },
   "outputs": [],
   "source": [
    "path = './Datasets'"
   ]
  },
  {
   "cell_type": "markdown",
   "metadata": {},
   "source": [
    "We had to adapt some function described above to the new form of our resulting files.\n",
    "\n",
    "So we changed the function load_tweets into load_cluster_results."
   ]
  },
  {
   "cell_type": "code",
   "execution_count": 13,
   "metadata": {
    "collapsed": true
   },
   "outputs": [],
   "source": [
    "def load_cluster_results(path):\n",
    "    \"\"\"\n",
    "    Loads tweets resulted from the extraction using a cluster at path passed as parameter.\n",
    "    :param path: string\n",
    "    :return: list\n",
    "    \"\"\"\n",
    "    tweets=[]\n",
    "    directory = os.fsencode(path)\n",
    "    for file in tqdm(os.listdir(directory)):\n",
    "        \n",
    "        filename = os.fsdecode(file)\n",
    "        if(filename=='.DS_Store' or '_SUCCESS' in filename) : continue\n",
    "\n",
    "        lines=[line.rstrip('\\n') for line in open(path + filename)]\n",
    "        for line in lines : \n",
    "            data = json.dumps(ast.literal_eval(line))\n",
    "            line = json.loads(data)\n",
    "            tweets.append(line)\n",
    "            \n",
    "    return tweets"
   ]
  },
  {
   "cell_type": "markdown",
   "metadata": {},
   "source": [
    "## 1. Loading tweets :"
   ]
  },
  {
   "cell_type": "markdown",
   "metadata": {},
   "source": [
    "Here we run load_cluster_results on each trend."
   ]
  },
  {
   "cell_type": "code",
   "execution_count": 38,
   "metadata": {
    "collapsed": false,
    "scrolled": true
   },
   "outputs": [
    {
     "name": "stderr",
     "output_type": "stream",
     "text": [
      "100%|██████████| 281/281 [00:05<00:00, 55.95it/s]\n",
      "100%|██████████| 391/391 [00:04<00:00, 78.28it/s]\n",
      "100%|██████████| 35/35 [00:00<00:00, 368.25it/s]\n",
      "100%|██████████| 87/87 [00:00<00:00, 9734.68it/s]\n",
      "100%|██████████| 240/240 [00:00<00:00, 501.36it/s]\n"
     ]
    }
   ],
   "source": [
    "veganism_tweets = load_cluster_results(path + '/veganism_semi_final/')\n",
    "meditation_tweets = load_cluster_results(path + '/meditation/')\n",
    "paleo_tweets = load_cluster_results(path + '/paleo/')\n",
    "intermittent_tweets = load_cluster_results(path + '/fasting/')\n",
    "minimalism_tweets = load_cluster_results(path + '/minimalism/')"
   ]
  },
  {
   "cell_type": "code",
   "execution_count": 39,
   "metadata": {
    "collapsed": false
   },
   "outputs": [
    {
     "data": {
      "text/plain": [
       "('Number of tweets about Intermittent fasting : 3',\n",
       " 'Number of tweets about veganism : 5908',\n",
       " 'Number of tweets about Minimalism :423',\n",
       " 'Number of tweets about Meditation: 6490',\n",
       " 'Number of tweets about paleo diet : 91')"
      ]
     },
     "execution_count": 39,
     "metadata": {},
     "output_type": "execute_result"
    }
   ],
   "source": [
    "'Number of tweets about Intermittent fasting : ' +str(len(intermittent_tweets)),'Number of tweets about veganism : '+str(len(veganism_tweets)),'Number of tweets about Minimalism :' + str(len(minimalism_tweets)),'Number of tweets about Meditation: ' +str(len(meditation_tweets)),'Number of tweets about paleo diet : '+ str(len(paleo_tweets))"
   ]
  },
  {
   "cell_type": "markdown",
   "metadata": {},
   "source": [
    "We see that the results of intermittent fasting and paleo diet are still very small compared to the other two results.<br> The number results for veganism and meditation are both above 5000 tweets, which is way bigger than the other two."
   ]
  },
  {
   "cell_type": "markdown",
   "metadata": {},
   "source": [
    "## 2. Filtering of the results : "
   ]
  },
  {
   "cell_type": "markdown",
   "metadata": {},
   "source": [
    "There are still bad results for paleo diet so we made a list of negative keywords which will indicate that a tweet is not what we are looking for.\n",
    "\n",
    "And by using filter_tweets defined below we will filter out tweets that are out of context.\n",
    "\n",
    "\n",
    "Also, for meditation tweets, we see that there are many tweets that are guided meditation ads or a radio station name. So we filtered those out as well to get a better set for our sentiment analysis."
   ]
  },
  {
   "cell_type": "code",
   "execution_count": 47,
   "metadata": {
    "collapsed": true
   },
   "outputs": [],
   "source": [
    "#Negative keywords.\n",
    "paleo_neg_keywords = {'festival','paleontology','fossil','paleolite','archeologie','archeology','paleovert','johnftpayne','kevadams','nicipaleo','palaontologie','palaotros'}\n",
    "meditation_neg_keywords = {'studios','♫','nowplaying','meditationartby','osho','heal#release#love','myhealingshop'}"
   ]
  },
  {
   "cell_type": "code",
   "execution_count": 48,
   "metadata": {
    "collapsed": false
   },
   "outputs": [],
   "source": [
    "def filter_tweets(tweets,neg_keywords) : \n",
    "    \"\"\"\n",
    "    Filters out tweets that contain one or many of negative keywords passed as parameter neg_keywords and return it.\n",
    "    :param tweets: list\n",
    "    :param neg_keywords: dict\n",
    "    :return: list\n",
    "    \"\"\"\n",
    "    toremove=[]\n",
    "    for tweet in tweets : \n",
    "        for keyword in neg_keywords : \n",
    "            if (keyword in replace_characters(tweet['main'])) :\n",
    "                \n",
    "                toremove.append(tweet)\n",
    "                    \n",
    "    tweets = [tweet for tweet in tweets if tweet not in toremove]    \n",
    "    return tweets"
   ]
  },
  {
   "cell_type": "code",
   "execution_count": 49,
   "metadata": {
    "collapsed": false
   },
   "outputs": [],
   "source": [
    "#Filtering the tweets.\n",
    "filtered_paleo= filter_tweets(paleo_tweets,paleo_neg_keywords)\n",
    "filtered_meditation = filter_tweets(meditation_tweets,meditation_neg_keywords)"
   ]
  },
  {
   "cell_type": "markdown",
   "metadata": {},
   "source": [
    "## 3. Sentiments : "
   ]
  },
  {
   "cell_type": "code",
   "execution_count": 19,
   "metadata": {
    "collapsed": true
   },
   "outputs": [],
   "source": [
    "def get_list_of_sentiments(tweets):\n",
    "    \"\"\"\n",
    "    Return the list of sentiments of the tweets resulted from the extraction on the cluster.\n",
    "    :param tweets: list of dicts \n",
    "    :return: list of strings\n",
    "    \"\"\"\n",
    "    \n",
    "    sentiments=[]\n",
    "    for tweet in range(len(tweets)) : \n",
    "        try: \n",
    "            sentiment=tweets[tweet]['sentiment']\n",
    "            sentiments.append(sentiment)\n",
    "        #In case there isn't a sentiment field just ignore and keep going.\n",
    "        except KeyError : continue\n",
    "    return sentiments"
   ]
  },
  {
   "cell_type": "code",
   "execution_count": 20,
   "metadata": {
    "collapsed": false
   },
   "outputs": [
    {
     "data": {
      "image/png": "[encoded data removed]",
      "text/plain": [
       "<matplotlib.figure.Figure at 0x11c64bb00>"
      ]
     },
     "metadata": {},
     "output_type": "display_data"
    }
   ],
   "source": [
    "#Getting a list of sentiments of veganism \n",
    "veganism_sentiments=get_list_of_sentiments(veganism_tweets)\n",
    "\n",
    "#Drawing a pie plot of the sentiments.\n",
    "plot_sentiments(veganism_sentiments,'Sentiments about veganism')\n"
   ]
  },
  {
   "cell_type": "code",
   "execution_count": 21,
   "metadata": {
    "collapsed": false
   },
   "outputs": [
    {
     "data": {
      "image/png": "[encoded data removed]",
      "text/plain": [
       "<matplotlib.figure.Figure at 0x11c64ba90>"
      ]
     },
     "metadata": {},
     "output_type": "display_data"
    }
   ],
   "source": [
    "#Getting a list of sentiments of veganism \n",
    "meditation_sentiments=get_list_of_sentiments(filtered_meditation)\n",
    "\n",
    "#Drawing a pie plot of the sentiments.\n",
    "plot_sentiments(meditation_sentiments,'Sentiments about meditation')\n"
   ]
  },
  {
   "cell_type": "code",
   "execution_count": 22,
   "metadata": {
    "collapsed": false
   },
   "outputs": [
    {
     "data": {
      "image/png": "[encoded data removed]",
      "text/plain": [
       "<matplotlib.figure.Figure at 0x11c6d79e8>"
      ]
     },
     "metadata": {},
     "output_type": "display_data"
    }
   ],
   "source": [
    "#Getting a list of sentiments of veganism \n",
    "paleo_sentiments=get_list_of_sentiments(filtered_paleo)\n",
    "\n",
    "#Drawing a pie plot of the sentiments.\n",
    "plot_sentiments(paleo_sentiments,'Sentiments about ketogenic diet')\n"
   ]
  },
  {
   "cell_type": "markdown",
   "metadata": {},
   "source": [
    "## Problems :"
   ]
  },
  {
   "cell_type": "markdown",
   "metadata": {},
   "source": [
    "- We can see that there are not enough tweets for paleo diet (ketogenic diet), we will have to resort to the full twitter dataset to see better results.\n",
    "- For minimalism the results are completely off. It is better to just drop the trend , at least for now."
   ]
  },
  {
   "cell_type": "markdown",
   "metadata": {},
   "source": [
    "# III. Running on global twitter dataset : "
   ]
  },
  {
   "cell_type": "markdown",
   "metadata": {},
   "source": [
    "- For our sentiment analysis we will use the class SentimentIntensityAnalyzer from the package nltk.sentiment.vader.<br> This library is known to work well for social media texts, which is why, we chose it.<br>\n",
    "- However, this library only works well for texts in English. Therefore, to adapt our dataset to our sentiment analysis, we will have to translate all tweets that are not in English before analyzing their sentiments.<br>\n",
    "- For the translation we chose the library googletrans which is a free google translate python api."
   ]
  },
  {
   "cell_type": "markdown",
   "metadata": {},
   "source": [
    "## Imports for our sentiment analysis :"
   ]
  },
  {
   "cell_type": "code",
   "execution_count": 24,
   "metadata": {
    "collapsed": false
   },
   "outputs": [],
   "source": [
    "from nltk.sentiment.vader import SentimentIntensityAnalyzer\n",
    "from googletrans import Translator"
   ]
  },
  {
   "cell_type": "code",
   "execution_count": 97,
   "metadata": {
    "collapsed": false
   },
   "outputs": [],
   "source": [
    "#Initializing objects for sentiment analysis and translation.\n",
    "sentiment_analyzer = SentimentIntensityAnalyzer()\n",
    "translator=Translator()"
   ]
  },
  {
   "cell_type": "markdown",
   "metadata": {},
   "source": [
    "## Helper functions : "
   ]
  },
  {
   "cell_type": "code",
   "execution_count": 65,
   "metadata": {
    "collapsed": false
   },
   "outputs": [],
   "source": [
    "def return_sentiments_full(tweets) : \n",
    "    \"\"\"\n",
    "    Add the key sentiment for each tweet from tweets-leon dataset and give it its sentiment and then return the tweets.\n",
    "    :param tweets: list\n",
    "    :return: list\n",
    "    \"\"\"\n",
    "    counter = 0\n",
    "    for tweet in tqdm(tweets) : \n",
    "        counter+=1\n",
    "        main=tweet['clean']\n",
    "        \n",
    "        language=tweet['tweet'].split('\\t')[0]\n",
    "        translation=''\n",
    "        #If the language is not english, then translate it.\n",
    "        if(language!='en'):\n",
    "            \n",
    "            \n",
    "            try:\n",
    "\n",
    "                translation=translator.translate(main,dest=\"en\").text\n",
    "\n",
    "            except Exception :\n",
    "                continue\n",
    "        else : translation = main       \n",
    "        sentiment=sentiment_analyzer.polarity_scores(translation)\n",
    "        pos, neg, neutral = sentiment['pos'],sentiment['neg'],sentiment['neu']\n",
    "        if(neutral >= 0.7) :tweet['sentiment'] = 'NEUTRAL'\n",
    "        else : \n",
    "            if( max(pos, neg)==pos) : tweet['sentiment'] = 'POSITIVE'\n",
    "            else :  tweet['sentiment'] = 'NEGATIVE'\n",
    "    return tweets"
   ]
  },
  {
   "cell_type": "code",
   "execution_count": 66,
   "metadata": {
    "collapsed": true
   },
   "outputs": [],
   "source": [
    "def return_sentiments_swiss(tweets) : \n",
    "    \"\"\"\n",
    "    Modify the sentiments of tweets into the sentiments returned by our chosen function.\n",
    "    :param tweets: list\n",
    "    :return: list\n",
    "    \"\"\"\n",
    "    for tweet in tqdm(tweets) : \n",
    "        counter+=1\n",
    "        main=tweet['clean']\n",
    "        \n",
    "        language=tweet['lang']\n",
    "        translation=''\n",
    "        #If the language is not english, then translate it.\n",
    "        if(language!='en'):\n",
    "            \n",
    "            \n",
    "            try:\n",
    "\n",
    "                translation=translator.translate(main,dest=\"en\").text\n",
    "\n",
    "            except Exception :\n",
    "                continue\n",
    "        else : translation = main       \n",
    "        sentiment=sentiment_analyzer.polarity_scores(translation)\n",
    "        pos, neg, neutral = sentiment['pos'],sentiment['neg'],sentiment['neu']\n",
    "        if(neutral >= 0.7) :tweet['sentiment'] = 'NEUTRAL'\n",
    "        else : \n",
    "            if( max(pos, neg)==pos) : tweet['sentiment'] = 'POSITIVE'\n",
    "            else :  tweet['sentiment'] = 'NEGATIVE'\n",
    "    return tweets"
   ]
  },
  {
   "cell_type": "code",
   "execution_count": 28,
   "metadata": {
    "collapsed": true
   },
   "outputs": [],
   "source": [
    "def clean(text):\n",
    "    \"\"\"\n",
    "    Preprocesses the tweets for translation by removing special characters, @users and web links from tweets.\n",
    "    :param text: string\n",
    "    :return: string\n",
    "    \"\"\"\n",
    "    \n",
    "    #Remove characters that are not letters\n",
    "    cleanedmain =  ''.join([i for i in text if (i.isalpha() or i==' ')])\n",
    "    #Split text by spaces.\n",
    "    splitted = cleanedmain.split(' ')\n",
    "    link = ''\n",
    "    #If there's @user of a web link, remove it.\n",
    "    for i in splitted : \n",
    "        if(i[:4]=='http') : cleanedmain=cleanedmain.strip(i)\n",
    "        if(i[:1]=='@') : cleanedmain=cleanedmain.strip(i)\n",
    "                \n",
    "    return cleanedmain    "
   ]
  },
  {
   "cell_type": "code",
   "execution_count": 53,
   "metadata": {
    "collapsed": true
   },
   "outputs": [],
   "source": [
    "def add_cleaned_tweet(tweets) : \n",
    "    \"\"\"\n",
    "    Adds preprocessed version of the tweet to each tweet as a new dict element.\n",
    "    :param tweets: list\n",
    "    :return: list\n",
    "    \"\"\"\n",
    "    for tweet in tweets : \n",
    "        cleaned = clean(tweet['main'])\n",
    "        tweet['clean'] = cleaned"
   ]
  },
  {
   "cell_type": "code",
   "execution_count": 71,
   "metadata": {
    "collapsed": true
   },
   "outputs": [],
   "source": [
    "def load_tweets_leon(path):\n",
    "    \"\"\"\n",
    "    Loads tweets extracted from tweets-leon using the cluster.\n",
    "    :param path: string\n",
    "    :return: list\n",
    "    \"\"\"\n",
    "    directory = os.fsencode(path)\n",
    "    lines= []\n",
    "    for file in tqdm(os.listdir(directory)):\n",
    "        \n",
    "        filename = os.fsdecode(file)\n",
    "        #No need for files name .DS_Store and _SUCCESS that were generated by the cluster.\n",
    "        if(filename=='.DS_Store' or '_SUCCESS' in filename) : continue\n",
    "\n",
    "        lines.extend([line.rstrip('\\n') for line in open(path + filename)])\n",
    "            \n",
    "    return lines"
   ]
  },
  {
   "cell_type": "code",
   "execution_count": 72,
   "metadata": {
    "collapsed": true
   },
   "outputs": [],
   "source": [
    "def load_corrupted_files_leon(path):\n",
    "    \"\"\"\n",
    "    Loads tweets extracted from tweets-leon using the cluster.\n",
    "    :param path: seting\n",
    "    :return: list\n",
    "    \"\"\"\n",
    "    lines=[]\n",
    "    for dirpath,_,filenames in os.walk(path):\n",
    "        for f in filenames:\n",
    "            \n",
    "            #No need for files name .DS_Store and _SUCCESS that were generated by the cluster.\n",
    "            if(f=='.DS_Store' or f=='_SUCCESS') : continue\n",
    "            \n",
    "            lines.extend([line.rstrip('\\n') for line in open(dirpath+'/' + f)])\n",
    "            \n",
    "\n",
    "    return lines"
   ]
  },
  {
   "cell_type": "markdown",
   "metadata": {},
   "source": [
    "## 1. Swiss tweets : "
   ]
  },
  {
   "cell_type": "markdown",
   "metadata": {},
   "source": [
    "### 1.1 Running sentiment analysis on swiss tweets : "
   ]
  },
  {
   "cell_type": "markdown",
   "metadata": {},
   "source": [
    "First, for the sake of fairness we will run the sentiment analyzer on the swiss-tweets dataset. <br>\n",
    "To do that, we will first add a preprocessed version of the tweets as a new dict element. Then, we will run sentiment analysis on these tweets."
   ]
  },
  {
   "cell_type": "code",
   "execution_count": 54,
   "metadata": {
    "collapsed": true
   },
   "outputs": [],
   "source": [
    "#Adding preprocessed version of tweets as new dict elements to our tweets. \n",
    "add_cleaned_tweet(filtered_meditation)\n",
    "add_cleaned_tweet(veganism_tweets)\n",
    "add_cleaned_tweet(filtered_paleo)"
   ]
  },
  {
   "cell_type": "code",
   "execution_count": null,
   "metadata": {
    "collapsed": false
   },
   "outputs": [
    {
     "name": "stderr",
     "output_type": "stream",
     "text": [
      " 24%|██▍       | 951/3929 [00:36<01:54, 25.91it/s]"
     ]
    }
   ],
   "source": [
    "#Performing sentiment analysis on tweets.\n",
    "filtered_meditation= return_sentiments_swiss(filtered_meditation)\n",
    "veganism_tweets=return_sentiments_swiss(veganism_tweets)\n",
    "filtered_paleo=return_sentiments_swiss(filtered_paleo)"
   ]
  },
  {
   "cell_type": "markdown",
   "metadata": {},
   "source": [
    "### 1.2 Plots for swiss tweets sentiments :"
   ]
  },
  {
   "cell_type": "code",
   "execution_count": 351,
   "metadata": {
    "collapsed": false
   },
   "outputs": [
    {
     "data": {
      "image/png": "[encoded data removed]",
      "text/plain": [
       "<matplotlib.figure.Figure at 0x12d42ceb8>"
      ]
     },
     "metadata": {},
     "output_type": "display_data"
    }
   ],
   "source": [
    "paleo_sentiments=get_list_of_sentiments(filtered_paleo)\n",
    "\n",
    "#Drawing a pie plot of the sentiments.\n",
    "plot_sentiments(paleo_sentiments,'Sentiments about ketogenic diet')\n"
   ]
  },
  {
   "cell_type": "code",
   "execution_count": 70,
   "metadata": {
    "collapsed": false
   },
   "outputs": [
    {
     "data": {
      "image/png": "[encoded data removed]",
      "text/plain": [
       "<matplotlib.figure.Figure at 0x123799dd8>"
      ]
     },
     "metadata": {},
     "output_type": "display_data"
    }
   ],
   "source": [
    "meditation_sentiments=get_list_of_sentiments(filtered_meditation)\n",
    "\n",
    "#Drawing a pie plot of the sentiments.\n",
    "plot_sentiments(meditation_sentiments,'Sentiments about meditation')\n"
   ]
  },
  {
   "cell_type": "code",
   "execution_count": 353,
   "metadata": {
    "collapsed": false
   },
   "outputs": [
    {
     "data": {
      "image/png": "[encoded data removed]",
      "text/plain": [
       "<matplotlib.figure.Figure at 0x1194cffd0>"
      ]
     },
     "metadata": {},
     "output_type": "display_data"
    }
   ],
   "source": [
    "#Getting a list of sentiments of veganism \n",
    "veganism_sentiments=get_list_of_sentiments(veganism_tweets)\n",
    "\n",
    "#Drawing a pie plot of the sentiments.\n",
    "plot_sentiments(veganism_sentiments,'Sentiments about veganism')\n"
   ]
  },
  {
   "cell_type": "markdown",
   "metadata": {
    "collapsed": true
   },
   "source": [
    "## 2. Tweets leon :"
   ]
  },
  {
   "cell_type": "markdown",
   "metadata": {},
   "source": [
    "### 2.1 Loading results : "
   ]
  },
  {
   "cell_type": "code",
   "execution_count": 77,
   "metadata": {
    "collapsed": false
   },
   "outputs": [
    {
     "name": "stderr",
     "output_type": "stream",
     "text": [
      "100%|██████████| 279/279 [00:00<00:00, 1826.05it/s]\n"
     ]
    }
   ],
   "source": [
    "tweets_leon_meditation = load_tweets_leon(path + '/meditation_full/')   "
   ]
  },
  {
   "cell_type": "code",
   "execution_count": 78,
   "metadata": {
    "collapsed": false
   },
   "outputs": [
    {
     "name": "stderr",
     "output_type": "stream",
     "text": [
      "100%|██████████| 18358/18358 [00:04<00:00, 4522.07it/s]\n"
     ]
    }
   ],
   "source": [
    "tweets_leon_minimalism = load_tweets_leon(path + '/minimalism_full/')   "
   ]
  },
  {
   "cell_type": "code",
   "execution_count": 79,
   "metadata": {
    "collapsed": false
   },
   "outputs": [],
   "source": [
    "tweet_leon_fasting=load_corrupted_files_leon(path + '/fasting_full/_temporary/0/')"
   ]
  },
  {
   "cell_type": "code",
   "execution_count": 80,
   "metadata": {
    "collapsed": true
   },
   "outputs": [],
   "source": [
    "tweet_leon_veganism=load_corrupted_files_leon(path + '/veganism_semi_final_full_3/_temporary/0/')"
   ]
  },
  {
   "cell_type": "markdown",
   "metadata": {},
   "source": [
    "#### Time to decide to drop minimalism : "
   ]
  },
  {
   "cell_type": "markdown",
   "metadata": {},
   "source": [
    "As we can see from the results shown below, the results for minimalism are unfortunately completely off for the tweets-leon dataset too. So, it is better to just drop this trend rather than work with bad tweets set."
   ]
  },
  {
   "cell_type": "code",
   "execution_count": 57,
   "metadata": {
    "collapsed": false
   },
   "outputs": [
    {
     "data": {
      "text/plain": [
       "[\"en\\t345965387281727488\\tSat Jun 15 18:05:50 +0000 2013\\tShay_Z_\\tJessie don't get stay is an emotional and minimalistic song. Your runs do add a damn thing baldy\",\n",
       " 'en\\t345970856469606400\\tSat Jun 15 18:27:34 +0000 2013\\tkfreshandrews\\t@Cam_Is_Like @BigGhostFASE actually I think this was perfected by Primo too. Minimalism and negative space = Gang Starr',\n",
       " 'en\\t345974996474146816\\tSat Jun 15 18:44:01 +0000 2013\\tRohanMusic\\tOn Sight was kinda whatever... Black Skinhead and I am a god are crazy production wise tho, minimalist lyricism',\n",
       " \"en\\t319376448320311296\\tWed Apr 03 09:10:53 +0000 2013\\tSalvadorRudy\\t@_BiGsAm_ or maybe they're ashamed of the ugly minimalistic design\",\n",
       " 'es\\t319376473872027648\\tWed Apr 03 09:10:59 +0000 2013\\tMINIMALISTA34\\t@Sobrelleve oleeeee abrazos compadre',\n",
       " 'en\\t257258873520549888\\tSat Oct 13 23:17:49 +0000 2012\\tgyakoo\\tJust added cannons ala Donkey Kong in my minimalist game and things get interesting in design level questions',\n",
       " \"en\\t257258928033894400\\tSat Oct 13 23:18:02 +0000 2012\\tTheMinimalist__\\tI haven't accomplished shit today. I hate being unproductive.\",\n",
       " 'en\\t257262987776229376\\tSat Oct 13 23:34:10 +0000 2012\\tphotok8R\\tGetting Rid of Just In Case: 20 Dollars, 20 Minutes http://t.co/WIzukRYH via @TheMinimalists',\n",
       " \"en\\t257263788972204033\\tSat Oct 13 23:37:21 +0000 2012\\tDave_Carr90\\t@jacob_rafferty Just started minimalist episode of #GrandDesigns They're annoying me already, previous work looks like B&amp;Q #TooMuchChipboard\",\n",
       " 'en\\t257265777386876928\\tSat Oct 13 23:45:15 +0000 2012\\tminimalism7\\tHad the best night at Ivy! #sydney #yeow']"
      ]
     },
     "execution_count": 57,
     "metadata": {},
     "output_type": "execute_result"
    }
   ],
   "source": [
    "tweets_leon_minimalism[0:10]"
   ]
  },
  {
   "cell_type": "markdown",
   "metadata": {},
   "source": [
    "#### But on a positive note : "
   ]
  },
  {
   "cell_type": "markdown",
   "metadata": {},
   "source": [
    "The results for the paleo diet and for intermittent fasting are great ! "
   ]
  },
  {
   "cell_type": "code",
   "execution_count": 81,
   "metadata": {
    "collapsed": false
   },
   "outputs": [
    {
     "name": "stderr",
     "output_type": "stream",
     "text": [
      "100%|██████████| 9797/9797 [00:06<00:00, 1526.65it/s]\n"
     ]
    }
   ],
   "source": [
    "tweets_leon_paleo = load_tweets_leon(path+\"/paleo_full/\")   "
   ]
  },
  {
   "cell_type": "code",
   "execution_count": 59,
   "metadata": {
    "collapsed": false
   },
   "outputs": [
    {
     "data": {
      "text/plain": [
       "['en\\t260572050358411265\\tTue Oct 23 02:43:12 +0000 2012\\tCGaye2\\tmust get now!! Practical Paleo Customized Whole Foods Lifestyle http://t.co/9ZFrEqi9: Nice price Practical Paleo Customized Whole Fo...',\n",
       " 'es\\t260572931539734529\\tTue Oct 23 02:46:42 +0000 2012\\tFAlO42\\tpelonchas pa la otra baja el fronte que te voy hacer crecer el pelo de nuevo 😠👎 #rudo',\n",
       " \"en\\t260573355067969537\\tTue Oct 23 02:48:23 +0000 2012\\tpaleofuture\\tjk guys jk if you live anywhere outside of ohio your vote doesn't count either\",\n",
       " 'es\\t260573367663464449\\tTue Oct 23 02:48:26 +0000 2012\\tcamiitovar96\\tMI papa le ofrece deportes a mi hermano y el le pide guitarrajajajajaj(._.)/',\n",
       " 'es\\t260573484877500417\\tTue Oct 23 02:48:54 +0000 2012\\tCamilaGorrini\\t@LulyPapaleo jajaja como hacemos nosotras, amén. Bueeeno, despues hablamos entonces, no me quiero imaginar jajaja',\n",
       " \"es\\t260574604752478209\\tTue Oct 23 02:53:21 +0000 2012\\tSarahPapaleoE\\tTu Comportamiento es el Resultado de tus Pensamientos', No De tu Compañero irritante #PsicologiaLove\",\n",
       " 'es\\t260575036740603906\\tTue Oct 23 02:55:04 +0000 2012\\tVechazarreta\\tRT @juulygarcia_: @VickyPaleo y si el pasado es lo que se quiere en vez del presente? Pensalo...',\n",
       " 'es\\t260575611704197120\\tTue Oct 23 02:57:21 +0000 2012\\tjuanurburupipi\\t@CaroPapaleo sos mi idola abrazo te escucho todos los dia jenia',\n",
       " 'en\\t260575892521230336\\tTue Oct 23 02:58:28 +0000 2012\\tMaraApo\\tcraving sweetsssss day 4 of #paleo sooo NOT going give in!',\n",
       " 'it\\t275736908921966592\\tMon Dec 03 23:02:56 +0000 2012\\tHollystarPR\\tPaleoAmore: Costa Rican-Style Ceviche http://t.co/So885lEV #paleo']"
      ]
     },
     "execution_count": 59,
     "metadata": {},
     "output_type": "execute_result"
    }
   ],
   "source": [
    "tweets_leon_paleo[30:40]"
   ]
  },
  {
   "cell_type": "markdown",
   "metadata": {},
   "source": [
    "### 2.2 Adapting datasets to our functions : "
   ]
  },
  {
   "cell_type": "markdown",
   "metadata": {},
   "source": [
    "First, we will transform our tweets into dicts containing two keys : <br>\n",
    "- \"main\" which contains only the tweet\n",
    "- \"tweet\" which contains all of the tweet as it was before.\n",
    "\n",
    "Then, we will filter out tweets that contain the negative keywords.<br>\n",
    "And finally, we will add another key to all our tweets called \"clean\" which contains the preprocessed tweet."
   ]
  },
  {
   "cell_type": "code",
   "execution_count": 82,
   "metadata": {
    "collapsed": false
   },
   "outputs": [],
   "source": [
    "#Transforming tweets into dicts.\n",
    "tweets_leon_paleo=[{'tweet' : tweet,'main': tweet.split('\\t')[-1]} for tweet in tweets_leon_paleo]\n",
    "tweets_leon_meditation=[{'tweet' : tweet,'main': tweet.split('\\t')[-1]} for tweet in tweets_leon_meditation]\n",
    "tweet_leon_fasting =[{'tweet' : tweet,'main': tweet.split('\\t')[-1]} for tweet in tweet_leon_fasting]\n",
    "tweet_leon_veganism =[{'tweet' : tweet,'main': tweet.split('\\t')[-1]} for tweet in tweet_leon_veganism]\n",
    "\n",
    "#Filter tweets with negative keywords\n",
    "filtered_tweets_leon_paleo=filter_tweets(tweets_leon_paleo,paleo_neg_keywords)\n",
    "filtered_tweets_leon_meditation=filter_tweets(tweets_leon_meditation,meditation_neg_keywords)\n",
    "\n",
    "#Adding preprocessed version of tweet to tweets.\n",
    "filtered_tweets_leon_paleo = [{'tweet' : tweet['tweet'],'main': tweet['main'],'clean':clean(tweet['main'])}  for tweet in filtered_tweets_leon_paleo]\n",
    "filtered_tweets_leon_meditation = [{'tweet' : tweet['tweet'],'main': tweet['main'],'clean':clean(tweet['main'])}  for tweet in filtered_tweets_leon_meditation]\n",
    "tweet_leon_fasting = [{'tweet' : tweet['tweet'],'main': tweet['main'],'clean':clean(tweet['main'])}  for tweet in tweet_leon_fasting]\n",
    "tweet_leon_veganism = [{'tweet' : tweet['tweet'],'main': tweet['main'],'clean':clean(tweet['main'])}  for tweet in tweet_leon_veganism]"
   ]
  },
  {
   "cell_type": "markdown",
   "metadata": {},
   "source": [
    "### 2.3 Running sentiment analysis on tweets leon : "
   ]
  },
  {
   "cell_type": "code",
   "execution_count": 99,
   "metadata": {
    "collapsed": false,
    "scrolled": false
   },
   "outputs": [],
   "source": [
    "#Running sentiment analysis on four datasets.\n",
    "sentiment_leon_paleo = return_sentiments_full(filtered_tweets_leon_paleo)\n",
    "sentiment_leon_meditation = return_sentiments_full(filtered_tweets_leon_meditation)\n",
    "sentiment_leon_fasting = return_sentiments_full(tweet_leon_fasting)\n",
    "sentiment_leon_veganism = return_sentiments_full(tweet_leon_veganism)"
   ]
  },
  {
   "cell_type": "markdown",
   "metadata": {},
   "source": [
    "### 2.4 Saving results : "
   ]
  },
  {
   "cell_type": "markdown",
   "metadata": {},
   "source": [
    "In order to avoid running the time consuming sentiment analysis everytime, we saved the results in pickle files."
   ]
  },
  {
   "cell_type": "code",
   "execution_count": 100,
   "metadata": {
    "collapsed": true
   },
   "outputs": [],
   "source": [
    "#Saving the results.\n",
    "pickle.dump( sentiment_leon_paleo, open( \"paleo_full.p\", \"wb\" ) )\n",
    "pickle.dump( sentiment_leon_meditation, open( \"meditation_full.p\", \"wb\" ) )\n",
    "pickle.dump( tweet_leon_fasting, open( \"fasting_full.p\", \"wb\" ) )\n",
    "pickle.dump( tweet_leon_veganism, open( \"veganism_full.p\", \"wb\" ) )"
   ]
  },
  {
   "cell_type": "code",
   "execution_count": 101,
   "metadata": {
    "collapsed": true
   },
   "outputs": [],
   "source": [
    "paleo = pickle.load(open( \"paleo_full.p\", \"rb\" ))\n",
    "meditation=pickle.load(open( \"meditation_full.p\", \"rb\" ))\n",
    "fast =pickle.load(open( \"fasting_full.p\", \"rb\" ))\n",
    "vegan =pickle.load(open( \"veganism_full.p\", \"rb\" ))"
   ]
  },
  {
   "cell_type": "markdown",
   "metadata": {},
   "source": [
    "## 2.5 Plots of sentiments: "
   ]
  },
  {
   "cell_type": "code",
   "execution_count": 261,
   "metadata": {
    "collapsed": false
   },
   "outputs": [
    {
     "data": {
      "image/png": "[encoded data removed]",
      "text/plain": [
       "<matplotlib.figure.Figure at 0x115aaaa58>"
      ]
     },
     "metadata": {},
     "output_type": "display_data"
    }
   ],
   "source": [
    "meditation_sentiments=get_list_of_sentiments(meditation)\n",
    "veganism_sentiments=get_list_of_sentiments(vegan)\n",
    "paleo_sentiments=get_list_of_sentiments(paleo)\n",
    "fasting_sentiments=get_list_of_sentiments(fast)\n",
    "\n",
    "sentiments=[meditation_sentiments,veganism_sentiments,paleo_sentiments,fasting_sentiments]\n",
    "\n",
    "fig, axes = plt.subplots(nrows=1, ncols=4, figsize=(15, 3))\n",
    "labels=['POSITIVE','NEGATIVE','NEUTRAL']\n",
    "values=[]\n",
    "for sentiment in sentiments : \n",
    "    values.append([sentiment.count(i) for i in labels])\n",
    "\n",
    "explode = (0.1, 0.1, 0)\n",
    "colors = [ 'darkblue','maroon','purple' ]\n",
    "titles=['Sentiments for meditation','Sentiments for veganism','Sentiments for paleo diet','Sentiments for intemittent fasting']\n",
    "for i in range(len(axes)):\n",
    "    \n",
    "    axes[i].pie(x=values[i],explode=explode,colors=colors,labels=labels,shadow=True)\n",
    "    axes[i].set_xlabel(titles[i],fontsize=12)\n",
    "\n",
    "fig = plt.gcf()\n",
    "plt.show()"
   ]
  },
  {
   "cell_type": "code",
   "execution_count": 229,
   "metadata": {
    "collapsed": false
   },
   "outputs": [
    {
     "data": {
      "text/plain": [
       "'Sentiments for meditation'"
      ]
     },
     "execution_count": 229,
     "metadata": {},
     "output_type": "execute_result"
    }
   ],
   "source": [
    "titles=['Sentiments for meditation','Sentiments for vaganism','Sentiments for paleo diet','Sentiments for intemittent fasting']\n",
    "titles[i]"
   ]
  },
  {
   "cell_type": "markdown",
   "metadata": {},
   "source": [
    "## 3. Exploring the results : "
   ]
  },
  {
   "cell_type": "code",
   "execution_count": 115,
   "metadata": {
    "collapsed": false
   },
   "outputs": [
    {
     "data": {
      "text/html": [
       "<div>\n",
       "<table border=\"1\" class=\"dataframe\">\n",
       "  <thead>\n",
       "    <tr style=\"text-align: right;\">\n",
       "      <th></th>\n",
       "      <th>main</th>\n",
       "      <th>sentiment</th>\n",
       "      <th>tweet</th>\n",
       "    </tr>\n",
       "  </thead>\n",
       "  <tbody>\n",
       "    <tr>\n",
       "      <th>0</th>\n",
       "      <td>Ayelén Paleo no entra en #famososconelcomedorh...</td>\n",
       "      <td>NEUTRAL</td>\n",
       "      <td>es\\t223643607373058049\\tFri Jul 13 05:02:45 +0...</td>\n",
       "    </tr>\n",
       "    <tr>\n",
       "      <th>1</th>\n",
       "      <td>RT @monilistortiFC: #RT si bancas  a AYELEN PALEO</td>\n",
       "      <td>NEUTRAL</td>\n",
       "      <td>fr\\t223645054059806721\\tFri Jul 13 05:08:30 +0...</td>\n",
       "    </tr>\n",
       "    <tr>\n",
       "      <th>2</th>\n",
       "      <td>@Lucerogama bueno mejor pa la otro q haya una ...</td>\n",
       "      <td>NEUTRAL</td>\n",
       "      <td>es\\t223645444490792960\\tFri Jul 13 05:10:03 +0...</td>\n",
       "    </tr>\n",
       "    <tr>\n",
       "      <th>3</th>\n",
       "      <td>@tsnotoole &amp;amp; @JayOnrait you guys look extr...</td>\n",
       "      <td>NEUTRAL</td>\n",
       "      <td>en\\t223645632936681472\\tFri Jul 13 05:10:48 +0...</td>\n",
       "    </tr>\n",
       "    <tr>\n",
       "      <th>4</th>\n",
       "      <td>Quick &amp;amp; easy! Celeriac remoulade &amp;amp; smo...</td>\n",
       "      <td>NEUTRAL</td>\n",
       "      <td>en\\t223646283188011008\\tFri Jul 13 05:13:23 +0...</td>\n",
       "    </tr>\n",
       "  </tbody>\n",
       "</table>\n",
       "</div>"
      ],
      "text/plain": [
       "                                                main sentiment  \\\n",
       "0  Ayelén Paleo no entra en #famososconelcomedorh...   NEUTRAL   \n",
       "1  RT @monilistortiFC: #RT si bancas  a AYELEN PALEO   NEUTRAL   \n",
       "2  @Lucerogama bueno mejor pa la otro q haya una ...   NEUTRAL   \n",
       "3  @tsnotoole &amp; @JayOnrait you guys look extr...   NEUTRAL   \n",
       "4  Quick &amp; easy! Celeriac remoulade &amp; smo...   NEUTRAL   \n",
       "\n",
       "                                               tweet  \n",
       "0  es\\t223643607373058049\\tFri Jul 13 05:02:45 +0...  \n",
       "1  fr\\t223645054059806721\\tFri Jul 13 05:08:30 +0...  \n",
       "2  es\\t223645444490792960\\tFri Jul 13 05:10:03 +0...  \n",
       "3  en\\t223645632936681472\\tFri Jul 13 05:10:48 +0...  \n",
       "4  en\\t223646283188011008\\tFri Jul 13 05:13:23 +0...  "
      ]
     },
     "execution_count": 115,
     "metadata": {},
     "output_type": "execute_result"
    }
   ],
   "source": [
    "dataPaleo = pd.DataFrame(paleo)\n",
    "dataMedit = pd.DataFrame(meditation)\n",
    "dataFast  = pd.DataFrame(fast)\n",
    "dataVegan = pd.DataFrame(vegan)\n",
    "\n",
    "dataPaleo = dataPaleo.drop('clean', axis=1)\n",
    "dataMedit = dataMedit.drop('clean', axis=1)\n",
    "dataFast = dataFast.drop('clean', axis=1)\n",
    "dataVegan = dataVegan.drop('clean', axis=1)\n",
    "\n",
    "dataPaleo.head()"
   ]
  },
  {
   "cell_type": "code",
   "execution_count": 116,
   "metadata": {
    "collapsed": true
   },
   "outputs": [],
   "source": [
    "def create_columns(row,n):\n",
    "    \n",
    "    try :\n",
    "        row.split('\\t')[1]\n",
    "        \n",
    "    except IndexError : return np.nan\n",
    "    return row.split('\\t')[n]"
   ]
  },
  {
   "cell_type": "code",
   "execution_count": 117,
   "metadata": {
    "collapsed": true
   },
   "outputs": [],
   "source": [
    "def process_dataframes(df):\n",
    "    df['lang'] = df['tweet'].apply(lambda x : create_columns(x,0))\n",
    "    df['id']   = df['tweet'].apply(lambda x : create_columns(x,1))\n",
    "    df['date'] = df['tweet'].apply(lambda x : create_columns(x,2))\n",
    "    df['user'] = df['tweet'].apply(lambda x : create_columns(x,3))\n",
    "    del df['tweet']\n",
    "    return df"
   ]
  },
  {
   "cell_type": "code",
   "execution_count": 118,
   "metadata": {
    "collapsed": false
   },
   "outputs": [
    {
     "data": {
      "text/html": [
       "<div>\n",
       "<table border=\"1\" class=\"dataframe\">\n",
       "  <thead>\n",
       "    <tr style=\"text-align: right;\">\n",
       "      <th></th>\n",
       "      <th>main</th>\n",
       "      <th>sentiment</th>\n",
       "      <th>lang</th>\n",
       "      <th>id</th>\n",
       "      <th>date</th>\n",
       "      <th>user</th>\n",
       "    </tr>\n",
       "  </thead>\n",
       "  <tbody>\n",
       "    <tr>\n",
       "      <th>0</th>\n",
       "      <td>Yoga meditation.  breakfast exercising in that...</td>\n",
       "      <td>NEUTRAL</td>\n",
       "      <td>en</td>\n",
       "      <td>193462347791216640</td>\n",
       "      <td>Fri Apr 20 22:13:12 +0000 2012</td>\n",
       "      <td>aaronjleighton</td>\n",
       "    </tr>\n",
       "    <tr>\n",
       "      <th>1</th>\n",
       "      <td>“@BelloyHugo: Une fille n'est jamais trop bien...</td>\n",
       "      <td>NEGATIVE</td>\n",
       "      <td>fr</td>\n",
       "      <td>193462376975183872</td>\n",
       "      <td>Fri Apr 20 22:13:19 +0000 2012</td>\n",
       "      <td>ClairementHype</td>\n",
       "    </tr>\n",
       "    <tr>\n",
       "      <th>2</th>\n",
       "      <td>alright, time to dabble in the DARK ARTS known...</td>\n",
       "      <td>NEUTRAL</td>\n",
       "      <td>en</td>\n",
       "      <td>193462893063319552</td>\n",
       "      <td>Fri Apr 20 22:15:22 +0000 2012</td>\n",
       "      <td>Vicky_Bit</td>\n",
       "    </tr>\n",
       "    <tr>\n",
       "      <th>3</th>\n",
       "      <td>RT @DharmaApple: @MondoSamu @againststream YES...</td>\n",
       "      <td>POSITIVE</td>\n",
       "      <td>en</td>\n",
       "      <td>193463136223903744</td>\n",
       "      <td>Fri Apr 20 22:16:20 +0000 2012</td>\n",
       "      <td>MondoSamu</td>\n",
       "    </tr>\n",
       "    <tr>\n",
       "      <th>4</th>\n",
       "      <td>Downloaded 4 of the most amazing apps today by...</td>\n",
       "      <td>NEUTRAL</td>\n",
       "      <td>en</td>\n",
       "      <td>193464499439808514</td>\n",
       "      <td>Fri Apr 20 22:21:45 +0000 2012</td>\n",
       "      <td>nclmllr</td>\n",
       "    </tr>\n",
       "    <tr>\n",
       "      <th>5</th>\n",
       "      <td>RT @brainwavetweets: #Meditation is not just r...</td>\n",
       "      <td>POSITIVE</td>\n",
       "      <td>en</td>\n",
       "      <td>193465753679314945</td>\n",
       "      <td>Fri Apr 20 22:26:44 +0000 2012</td>\n",
       "      <td>TheAshleyAlexis</td>\n",
       "    </tr>\n",
       "  </tbody>\n",
       "</table>\n",
       "</div>"
      ],
      "text/plain": [
       "                                                main sentiment lang  \\\n",
       "0  Yoga meditation.  breakfast exercising in that...   NEUTRAL   en   \n",
       "1  “@BelloyHugo: Une fille n'est jamais trop bien...  NEGATIVE   fr   \n",
       "2  alright, time to dabble in the DARK ARTS known...   NEUTRAL   en   \n",
       "3  RT @DharmaApple: @MondoSamu @againststream YES...  POSITIVE   en   \n",
       "4  Downloaded 4 of the most amazing apps today by...   NEUTRAL   en   \n",
       "5  RT @brainwavetweets: #Meditation is not just r...  POSITIVE   en   \n",
       "\n",
       "                   id                            date             user  \n",
       "0  193462347791216640  Fri Apr 20 22:13:12 +0000 2012   aaronjleighton  \n",
       "1  193462376975183872  Fri Apr 20 22:13:19 +0000 2012   ClairementHype  \n",
       "2  193462893063319552  Fri Apr 20 22:15:22 +0000 2012        Vicky_Bit  \n",
       "3  193463136223903744  Fri Apr 20 22:16:20 +0000 2012        MondoSamu  \n",
       "4  193464499439808514  Fri Apr 20 22:21:45 +0000 2012          nclmllr  \n",
       "5  193465753679314945  Fri Apr 20 22:26:44 +0000 2012  TheAshleyAlexis  "
      ]
     },
     "execution_count": 118,
     "metadata": {},
     "output_type": "execute_result"
    }
   ],
   "source": [
    "dataPaleo = process_dataframes(dataPaleo)\n",
    "dataMedit = process_dataframes(dataMedit)\n",
    "dataFast  = process_dataframes(dataFast )\n",
    "dataVegan = process_dataframes(dataVegan)\n",
    "\n",
    "dataMedit.head(6)"
   ]
  },
  {
   "cell_type": "code",
   "execution_count": 144,
   "metadata": {
    "collapsed": true
   },
   "outputs": [],
   "source": [
    "sentiments_paleo = dataPaleo[['sentiment','user']].groupby(['sentiment']).count()/len(dataPaleo)\n",
    "sentiments_medit = dataMedit[['sentiment','user']].groupby(['sentiment']).count()/len(dataMedit)\n",
    "sentiments_fast = dataFast[['sentiment','user']].groupby(['sentiment']).count()/len(dataFast)\n",
    "sentiments_vegan = dataVegan[['sentiment','user']].groupby(['sentiment']).count()/len(dataVegan)"
   ]
  },
  {
   "cell_type": "code",
   "execution_count": 145,
   "metadata": {
    "collapsed": false
   },
   "outputs": [],
   "source": [
    "sentiments_paleo = sentiments_paleo.transpose()\n",
    "sentiments_paleo['LifeStyle'] = 'PaleoDiet'\n",
    "\n",
    "sentiments_medit = sentiments_medit.transpose()\n",
    "sentiments_medit['LifeStyle'] = 'Meditation'\n",
    "\n",
    "sentiments_fast = sentiments_fast.transpose()\n",
    "sentiments_fast['LifeStyle'] = 'Fasting'\n",
    "\n",
    "sentiments_vegan = sentiments_vegan.transpose()\n",
    "sentiments_vegan['LifeStyle'] = 'Veganism'"
   ]
  },
  {
   "cell_type": "code",
   "execution_count": 170,
   "metadata": {
    "collapsed": false
   },
   "outputs": [
    {
     "data": {
      "image/png": "[encoded data removed]",
      "text/plain": [
       "<matplotlib.figure.Figure at 0x155a12780>"
      ]
     },
     "metadata": {},
     "output_type": "display_data"
    }
   ],
   "source": [
    "frames = [sentiments_medit,sentiments_paleo,sentiments_fast,sentiments_vegan]\n",
    "result = pd.concat(frames).set_index('LifeStyle',drop=True)\n",
    "result.drop('NEUTRAL',axis=1).plot.barh()\n",
    "plt.style.use('seaborn-deep')\n",
    "plt.xlabel('Pourcentage')\n",
    "plt.ylabel('Practice')\n",
    "plt.show()"
   ]
  },
  {
   "cell_type": "code",
   "execution_count": 139,
   "metadata": {
    "collapsed": true
   },
   "outputs": [],
   "source": [
    "import datetime as dt\n",
    "\n",
    "months={'Jan' : 1,'Feb' : 2, 'Mar' : 3,'Apr' : 4, 'May' : 5, 'Jun':6,'Jul':7, 'Aug':8, 'Sep':9, 'Oct':10, 'Nov':11, 'Dec':12} \n",
    "\n",
    "def process_date(x):\n",
    "    try :\n",
    "        tab = x.split(' ')\n",
    "        y = int(tab[5])\n",
    "        m = months[tab[1]]\n",
    "        d = int(tab[2])\n",
    "    except  AttributeError : return np.nan\n",
    "    return dt.date(y,m,d)"
   ]
  },
  {
   "cell_type": "code",
   "execution_count": 140,
   "metadata": {
    "collapsed": false
   },
   "outputs": [
    {
     "data": {
      "text/html": [
       "<div>\n",
       "<table border=\"1\" class=\"dataframe\">\n",
       "  <thead>\n",
       "    <tr style=\"text-align: right;\">\n",
       "      <th></th>\n",
       "      <th>main</th>\n",
       "      <th>sentiment</th>\n",
       "      <th>lang</th>\n",
       "      <th>id</th>\n",
       "      <th>user</th>\n",
       "      <th>Date</th>\n",
       "    </tr>\n",
       "  </thead>\n",
       "  <tbody>\n",
       "    <tr>\n",
       "      <th>225401</th>\n",
       "      <td>@S_U_A_R if killing others not abuse and is pe...</td>\n",
       "      <td>NEGATIVE</td>\n",
       "      <td>en</td>\n",
       "      <td>693929301247397888</td>\n",
       "      <td>VeganVenturer</td>\n",
       "      <td>2016-01-31</td>\n",
       "    </tr>\n",
       "    <tr>\n",
       "      <th>225373</th>\n",
       "      <td>RT https://t.co/8Qi0zgIX8x Ketogenic Diet and ...</td>\n",
       "      <td>NEUTRAL</td>\n",
       "      <td>en</td>\n",
       "      <td>693725709764825088</td>\n",
       "      <td>reamol665</td>\n",
       "      <td>2016-01-31</td>\n",
       "    </tr>\n",
       "    <tr>\n",
       "      <th>225381</th>\n",
       "      <td>@robbwolf I need some help...I know you get th...</td>\n",
       "      <td>NEUTRAL</td>\n",
       "      <td>en</td>\n",
       "      <td>693788439746088960</td>\n",
       "      <td>DrudownT1</td>\n",
       "      <td>2016-01-31</td>\n",
       "    </tr>\n",
       "    <tr>\n",
       "      <th>225380</th>\n",
       "      <td>agreed! RT @PeachyPalate: Sunday meal prep sho...</td>\n",
       "      <td>NEUTRAL</td>\n",
       "      <td>en</td>\n",
       "      <td>693783716989112320</td>\n",
       "      <td>CotterCrunch</td>\n",
       "      <td>2016-01-31</td>\n",
       "    </tr>\n",
       "    <tr>\n",
       "      <th>225379</th>\n",
       "      <td>RT @lfernandezar: @marisolazuaga @PSOE manda n...</td>\n",
       "      <td>NEUTRAL</td>\n",
       "      <td>es</td>\n",
       "      <td>693779791120580608</td>\n",
       "      <td>andres_domenech</td>\n",
       "      <td>2016-01-31</td>\n",
       "    </tr>\n",
       "    <tr>\n",
       "      <th>225378</th>\n",
       "      <td>@PaleoSteno I would subscribe to them just to ...</td>\n",
       "      <td>NEUTRAL</td>\n",
       "      <td>en</td>\n",
       "      <td>693778792867876864</td>\n",
       "      <td>DjLoneless</td>\n",
       "      <td>2016-01-31</td>\n",
       "    </tr>\n",
       "    <tr>\n",
       "      <th>225377</th>\n",
       "      <td>RT @KoalaCalvo: @Aiatar demasiado pronto dices...</td>\n",
       "      <td>NEUTRAL</td>\n",
       "      <td>es</td>\n",
       "      <td>693769481496166400</td>\n",
       "      <td>Aiatar</td>\n",
       "      <td>2016-01-31</td>\n",
       "    </tr>\n",
       "    <tr>\n",
       "      <th>225376</th>\n",
       "      <td>Recette cookie paléo - Cookie Time https://t.c...</td>\n",
       "      <td>NEUTRAL</td>\n",
       "      <td>fr</td>\n",
       "      <td>693759859767001088</td>\n",
       "      <td>modsapiens</td>\n",
       "      <td>2016-01-31</td>\n",
       "    </tr>\n",
       "    <tr>\n",
       "      <th>225375</th>\n",
       "      <td>What if we told you that those #lowfat food op...</td>\n",
       "      <td>NEUTRAL</td>\n",
       "      <td>en</td>\n",
       "      <td>693758341416402944</td>\n",
       "      <td>IntellHealth</td>\n",
       "      <td>2016-01-31</td>\n",
       "    </tr>\n",
       "    <tr>\n",
       "      <th>225372</th>\n",
       "      <td>RT https://t.co/Cao24dliul RT https://t.co/9zW...</td>\n",
       "      <td>NEUTRAL</td>\n",
       "      <td>en</td>\n",
       "      <td>693691656202231809</td>\n",
       "      <td>reamol665</td>\n",
       "      <td>2016-01-31</td>\n",
       "    </tr>\n",
       "    <tr>\n",
       "      <th>225383</th>\n",
       "      <td>Y agarrado a la botella viendo como sale el So...</td>\n",
       "      <td>NEUTRAL</td>\n",
       "      <td>es</td>\n",
       "      <td>693806546552250369</td>\n",
       "      <td>Paleo_98</td>\n",
       "      <td>2016-01-31</td>\n",
       "    </tr>\n",
       "    <tr>\n",
       "      <th>225371</th>\n",
       "      <td>The Ketogenic Diet and Peter Attia's War on In...</td>\n",
       "      <td>NEUTRAL</td>\n",
       "      <td>en</td>\n",
       "      <td>693686274889220097</td>\n",
       "      <td>ketodietnews</td>\n",
       "      <td>2016-01-31</td>\n",
       "    </tr>\n",
       "    <tr>\n",
       "      <th>225370</th>\n",
       "      <td>RT @brostoevsky: we use 6000 year old paleoind...</td>\n",
       "      <td>NEUTRAL</td>\n",
       "      <td>en</td>\n",
       "      <td>693640380827471872</td>\n",
       "      <td>funkyjams</td>\n",
       "      <td>2016-01-31</td>\n",
       "    </tr>\n",
       "    <tr>\n",
       "      <th>225369</th>\n",
       "      <td>@LDrogosPhD I want some of this @PaleoGould</td>\n",
       "      <td>NEUTRAL</td>\n",
       "      <td>en</td>\n",
       "      <td>693628401911877633</td>\n",
       "      <td>BrainyMicrobes</td>\n",
       "      <td>2016-01-31</td>\n",
       "    </tr>\n",
       "    <tr>\n",
       "      <th>225368</th>\n",
       "      <td>@MMAFighting aww damn</td>\n",
       "      <td>NEGATIVE</td>\n",
       "      <td>en</td>\n",
       "      <td>693628355778846720</td>\n",
       "      <td>PaleoJiuJitsu</td>\n",
       "      <td>2016-01-31</td>\n",
       "    </tr>\n",
       "    <tr>\n",
       "      <th>225367</th>\n",
       "      <td>Desde noviembre que no nos vemos, me mato chabon</td>\n",
       "      <td>NEGATIVE</td>\n",
       "      <td>es</td>\n",
       "      <td>693627932120629248</td>\n",
       "      <td>LuPapaleo</td>\n",
       "      <td>2016-01-31</td>\n",
       "    </tr>\n",
       "    <tr>\n",
       "      <th>225366</th>\n",
       "      <td>@neuromusic @PaleoGould How about the headline...</td>\n",
       "      <td>NEUTRAL</td>\n",
       "      <td>en</td>\n",
       "      <td>693618012612460547</td>\n",
       "      <td>hormiga</td>\n",
       "      <td>2016-01-31</td>\n",
       "    </tr>\n",
       "    <tr>\n",
       "      <th>225365</th>\n",
       "      <td>I'm downstairs baking Paleo cookies, Wyatt's u...</td>\n",
       "      <td>NEUTRAL</td>\n",
       "      <td>en</td>\n",
       "      <td>693604238497320960</td>\n",
       "      <td>annelisebaer</td>\n",
       "      <td>2016-01-31</td>\n",
       "    </tr>\n",
       "    <tr>\n",
       "      <th>225382</th>\n",
       "      <td>RT @GtrMcrCricket: A hard working team &amp;amp; a...</td>\n",
       "      <td>NEUTRAL</td>\n",
       "      <td>en</td>\n",
       "      <td>693805950977863680</td>\n",
       "      <td>PeterHamer4</td>\n",
       "      <td>2016-01-31</td>\n",
       "    </tr>\n",
       "    <tr>\n",
       "      <th>225374</th>\n",
       "      <td>pusing pala opa</td>\n",
       "      <td>NEUTRAL</td>\n",
       "      <td>es</td>\n",
       "      <td>693748732269977600</td>\n",
       "      <td>elahkdh</td>\n",
       "      <td>2016-01-31</td>\n",
       "    </tr>\n",
       "    <tr>\n",
       "      <th>225384</th>\n",
       "      <td>@primalretreat thank you for the retweet!</td>\n",
       "      <td>POSITIVE</td>\n",
       "      <td>en</td>\n",
       "      <td>693819850913873920</td>\n",
       "      <td>ukpaleosociety</td>\n",
       "      <td>2016-01-31</td>\n",
       "    </tr>\n",
       "    <tr>\n",
       "      <th>225393</th>\n",
       "      <td>@DaniAmbrosino aguante @SabriRavelli ls demás ...</td>\n",
       "      <td>NEUTRAL</td>\n",
       "      <td>es</td>\n",
       "      <td>693876423669518336</td>\n",
       "      <td>claugonza3407</td>\n",
       "      <td>2016-01-31</td>\n",
       "    </tr>\n",
       "    <tr>\n",
       "      <th>225385</th>\n",
       "      <td>RT @smokindicks: Top 5 THOT jobs:\\n\\n1. Water ...</td>\n",
       "      <td>NEUTRAL</td>\n",
       "      <td>en</td>\n",
       "      <td>693835852154281986</td>\n",
       "      <td>mike_1198</td>\n",
       "      <td>2016-01-31</td>\n",
       "    </tr>\n",
       "    <tr>\n",
       "      <th>225400</th>\n",
       "      <td>@julieta994 @PaleoAye Buenisimas las dos!!! 😀😀😀</td>\n",
       "      <td>NEUTRAL</td>\n",
       "      <td>es</td>\n",
       "      <td>693920665183895553</td>\n",
       "      <td>pjavierpoch</td>\n",
       "      <td>2016-01-31</td>\n",
       "    </tr>\n",
       "    <tr>\n",
       "      <th>225399</th>\n",
       "      <td>@Barrett_Jackson is must-see-TV.  It makes my ...</td>\n",
       "      <td>NEUTRAL</td>\n",
       "      <td>en</td>\n",
       "      <td>693918656137412609</td>\n",
       "      <td>nopainpaleo</td>\n",
       "      <td>2016-01-31</td>\n",
       "    </tr>\n",
       "    <tr>\n",
       "      <th>225398</th>\n",
       "      <td>RT @Luske_Wolf: @Merypalao26 Soy Luiss xd</td>\n",
       "      <td>POSITIVE</td>\n",
       "      <td>en</td>\n",
       "      <td>693890751411929090</td>\n",
       "      <td>Merypalao26</td>\n",
       "      <td>2016-01-31</td>\n",
       "    </tr>\n",
       "    <tr>\n",
       "      <th>225397</th>\n",
       "      <td>RT ThePaleoMom I started https://t.co/z1t6fHuo...</td>\n",
       "      <td>NEUTRAL</td>\n",
       "      <td>en</td>\n",
       "      <td>693889442814246912</td>\n",
       "      <td>photorele</td>\n",
       "      <td>2016-01-31</td>\n",
       "    </tr>\n",
       "    <tr>\n",
       "      <th>225395</th>\n",
       "      <td>@qmph_es @gaznapiro711 @paleofreak La homeopat...</td>\n",
       "      <td>NEUTRAL</td>\n",
       "      <td>es</td>\n",
       "      <td>693887622452744192</td>\n",
       "      <td>Mihaildom</td>\n",
       "      <td>2016-01-31</td>\n",
       "    </tr>\n",
       "    <tr>\n",
       "      <th>225394</th>\n",
       "      <td>Best Paleo Cookbook is out! https://t.co/4S5jN...</td>\n",
       "      <td>NEUTRAL</td>\n",
       "      <td>en</td>\n",
       "      <td>693886313863516161</td>\n",
       "      <td>shannonstone7</td>\n",
       "      <td>2016-01-31</td>\n",
       "    </tr>\n",
       "    <tr>\n",
       "      <th>225396</th>\n",
       "      <td>RT @Chlougouf: La paléontologie ou la science ...</td>\n",
       "      <td>NEUTRAL</td>\n",
       "      <td>fr</td>\n",
       "      <td>693889375684419585</td>\n",
       "      <td>Delphineas_</td>\n",
       "      <td>2016-01-31</td>\n",
       "    </tr>\n",
       "    <tr>\n",
       "      <th>...</th>\n",
       "      <td>...</td>\n",
       "      <td>...</td>\n",
       "      <td>...</td>\n",
       "      <td>...</td>\n",
       "      <td>...</td>\n",
       "      <td>...</td>\n",
       "    </tr>\n",
       "    <tr>\n",
       "      <th>55504</th>\n",
       "      <td>#paleo #yum</td>\n",
       "      <td>NEUTRAL</td>\n",
       "      <td>NaN</td>\n",
       "      <td>NaN</td>\n",
       "      <td>NaN</td>\n",
       "      <td>NaN</td>\n",
       "    </tr>\n",
       "    <tr>\n",
       "      <th>56154</th>\n",
       "      <td>2. Si tienes dos, toma una y a la primera opor...</td>\n",
       "      <td>NEUTRAL</td>\n",
       "      <td>NaN</td>\n",
       "      <td>NaN</td>\n",
       "      <td>NaN</td>\n",
       "      <td>NaN</td>\n",
       "    </tr>\n",
       "    <tr>\n",
       "      <th>57879</th>\n",
       "      <td>#Failio or #faileo #definitelynotpaleo</td>\n",
       "      <td>NEUTRAL</td>\n",
       "      <td>NaN</td>\n",
       "      <td>NaN</td>\n",
       "      <td>NaN</td>\n",
       "      <td>NaN</td>\n",
       "    </tr>\n",
       "    <tr>\n",
       "      <th>95720</th>\n",
       "      <td>@Palaeocast @SVP_vertpaleo  @BlueLionPhotos @b...</td>\n",
       "      <td>NEUTRAL</td>\n",
       "      <td>NaN</td>\n",
       "      <td>NaN</td>\n",
       "      <td>NaN</td>\n",
       "      <td>NaN</td>\n",
       "    </tr>\n",
       "    <tr>\n",
       "      <th>112737</th>\n",
       "      <td>Per l'epoca paleocristiana ne devo sapere altr...</td>\n",
       "      <td>NEUTRAL</td>\n",
       "      <td>NaN</td>\n",
       "      <td>NaN</td>\n",
       "      <td>NaN</td>\n",
       "      <td>NaN</td>\n",
       "    </tr>\n",
       "    <tr>\n",
       "      <th>113153</th>\n",
       "      <td>Pomeriggio: Direzione Palaolimpico Torino</td>\n",
       "      <td>NEUTRAL</td>\n",
       "      <td>NaN</td>\n",
       "      <td>NaN</td>\n",
       "      <td>NaN</td>\n",
       "      <td>NaN</td>\n",
       "    </tr>\n",
       "    <tr>\n",
       "      <th>115949</th>\n",
       "      <td>Paleodieta</td>\n",
       "      <td>NEUTRAL</td>\n",
       "      <td>NaN</td>\n",
       "      <td>NaN</td>\n",
       "      <td>NaN</td>\n",
       "      <td>NaN</td>\n",
       "    </tr>\n",
       "    <tr>\n",
       "      <th>162769</th>\n",
       "      <td>7)que sa reconstitution appuyé sur des travaux...</td>\n",
       "      <td>NEUTRAL</td>\n",
       "      <td>NaN</td>\n",
       "      <td>NaN</td>\n",
       "      <td>NaN</td>\n",
       "      <td>NaN</td>\n",
       "    </tr>\n",
       "    <tr>\n",
       "      <th>164076</th>\n",
       "      <td>Me: They had TVs in the Paleozoic Era?</td>\n",
       "      <td>NEUTRAL</td>\n",
       "      <td>NaN</td>\n",
       "      <td>NaN</td>\n",
       "      <td>NaN</td>\n",
       "      <td>NaN</td>\n",
       "    </tr>\n",
       "    <tr>\n",
       "      <th>169241</th>\n",
       "      <td>-santapaleon?? 😒</td>\n",
       "      <td>NEUTRAL</td>\n",
       "      <td>NaN</td>\n",
       "      <td>NaN</td>\n",
       "      <td>NaN</td>\n",
       "      <td>NaN</td>\n",
       "    </tr>\n",
       "    <tr>\n",
       "      <th>169804</th>\n",
       "      <td>#PalaoyPachecoLaMismaMierda</td>\n",
       "      <td>NEUTRAL</td>\n",
       "      <td>NaN</td>\n",
       "      <td>NaN</td>\n",
       "      <td>NaN</td>\n",
       "      <td>NaN</td>\n",
       "    </tr>\n",
       "    <tr>\n",
       "      <th>169805</th>\n",
       "      <td>#PalaoyPacheco…</td>\n",
       "      <td>NEUTRAL</td>\n",
       "      <td>NaN</td>\n",
       "      <td>NaN</td>\n",
       "      <td>NaN</td>\n",
       "      <td>NaN</td>\n",
       "    </tr>\n",
       "    <tr>\n",
       "      <th>171008</th>\n",
       "      <td>Is that Paleo?</td>\n",
       "      <td>NEUTRAL</td>\n",
       "      <td>NaN</td>\n",
       "      <td>NaN</td>\n",
       "      <td>NaN</td>\n",
       "      <td>NaN</td>\n",
       "    </tr>\n",
       "    <tr>\n",
       "      <th>171043</th>\n",
       "      <td>.. Pos ay pa la otra mexico♥</td>\n",
       "      <td>NEUTRAL</td>\n",
       "      <td>NaN</td>\n",
       "      <td>NaN</td>\n",
       "      <td>NaN</td>\n",
       "      <td>NaN</td>\n",
       "    </tr>\n",
       "    <tr>\n",
       "      <th>171563</th>\n",
       "      <td>Énorme show des casseursflowters ce soir au #p...</td>\n",
       "      <td>NEUTRAL</td>\n",
       "      <td>NaN</td>\n",
       "      <td>NaN</td>\n",
       "      <td>NaN</td>\n",
       "      <td>NaN</td>\n",
       "    </tr>\n",
       "    <tr>\n",
       "      <th>183060</th>\n",
       "      <td>Me: *in my head* FUCK YOUR PALEO AND HAVE A ME...</td>\n",
       "      <td>POSITIVE</td>\n",
       "      <td>NaN</td>\n",
       "      <td>NaN</td>\n",
       "      <td>NaN</td>\n",
       "      <td>NaN</td>\n",
       "    </tr>\n",
       "    <tr>\n",
       "      <th>187959</th>\n",
       "      <td>Temo seriamente che mio fratello viva nel pale...</td>\n",
       "      <td>NEGATIVE</td>\n",
       "      <td>NaN</td>\n",
       "      <td>NaN</td>\n",
       "      <td>NaN</td>\n",
       "      <td>NaN</td>\n",
       "    </tr>\n",
       "    <tr>\n",
       "      <th>188612</th>\n",
       "      <td>#GopalaGopala on Jan9</td>\n",
       "      <td>NEUTRAL</td>\n",
       "      <td>NaN</td>\n",
       "      <td>NaN</td>\n",
       "      <td>NaN</td>\n",
       "      <td>NaN</td>\n",
       "    </tr>\n",
       "    <tr>\n",
       "      <th>188744</th>\n",
       "      <td>#GopalaGopala on Jan9</td>\n",
       "      <td>NEUTRAL</td>\n",
       "      <td>NaN</td>\n",
       "      <td>NaN</td>\n",
       "      <td>NaN</td>\n",
       "      <td>NaN</td>\n",
       "    </tr>\n",
       "    <tr>\n",
       "      <th>189695</th>\n",
       "      <td>É DALL'ERA PALEOLITICA CHE NON PRENDO DUE LINE...</td>\n",
       "      <td>NEUTRAL</td>\n",
       "      <td>NaN</td>\n",
       "      <td>NaN</td>\n",
       "      <td>NaN</td>\n",
       "      <td>NaN</td>\n",
       "    </tr>\n",
       "    <tr>\n",
       "      <th>189696</th>\n",
       "      <td>É DALL'ERA PALEOLITICA CHE NON PRENDO DUE LINE...</td>\n",
       "      <td>NEUTRAL</td>\n",
       "      <td>NaN</td>\n",
       "      <td>NaN</td>\n",
       "      <td>NaN</td>\n",
       "      <td>NaN</td>\n",
       "    </tr>\n",
       "    <tr>\n",
       "      <th>190949</th>\n",
       "      <td>#GopalaGopalaOnJan10th</td>\n",
       "      <td>NEUTRAL</td>\n",
       "      <td>NaN</td>\n",
       "      <td>NaN</td>\n",
       "      <td>NaN</td>\n",
       "      <td>NaN</td>\n",
       "    </tr>\n",
       "    <tr>\n",
       "      <th>191879</th>\n",
       "      <td>#GopalaGopalao</td>\n",
       "      <td>NEUTRAL</td>\n",
       "      <td>NaN</td>\n",
       "      <td>NaN</td>\n",
       "      <td>NaN</td>\n",
       "      <td>NaN</td>\n",
       "    </tr>\n",
       "    <tr>\n",
       "      <th>201779</th>\n",
       "      <td>KAPALAOSKAPALAPALSPALSOSKA</td>\n",
       "      <td>NEUTRAL</td>\n",
       "      <td>NaN</td>\n",
       "      <td>NaN</td>\n",
       "      <td>NaN</td>\n",
       "      <td>NaN</td>\n",
       "    </tr>\n",
       "    <tr>\n",
       "      <th>202024</th>\n",
       "      <td>Sure, they existed, probably in more fantastic...</td>\n",
       "      <td>POSITIVE</td>\n",
       "      <td>NaN</td>\n",
       "      <td>NaN</td>\n",
       "      <td>NaN</td>\n",
       "      <td>NaN</td>\n",
       "    </tr>\n",
       "    <tr>\n",
       "      <th>206919</th>\n",
       "      <td>@Paleoturkey #SNL really doesn't have that muc...</td>\n",
       "      <td>NEUTRAL</td>\n",
       "      <td>NaN</td>\n",
       "      <td>NaN</td>\n",
       "      <td>NaN</td>\n",
       "      <td>NaN</td>\n",
       "    </tr>\n",
       "    <tr>\n",
       "      <th>214859</th>\n",
       "      <td>its pale oval fruits lie like</td>\n",
       "      <td>POSITIVE</td>\n",
       "      <td>NaN</td>\n",
       "      <td>NaN</td>\n",
       "      <td>NaN</td>\n",
       "      <td>NaN</td>\n",
       "    </tr>\n",
       "    <tr>\n",
       "      <th>219845</th>\n",
       "      <td>La cappella Sistina del paleolitico #Wikipedia</td>\n",
       "      <td>NEUTRAL</td>\n",
       "      <td>NaN</td>\n",
       "      <td>NaN</td>\n",
       "      <td>NaN</td>\n",
       "      <td>NaN</td>\n",
       "    </tr>\n",
       "    <tr>\n",
       "      <th>221634</th>\n",
       "      <td>Que se muevan pa la orilla cuando yo aterricee🎵</td>\n",
       "      <td>NEUTRAL</td>\n",
       "      <td>NaN</td>\n",
       "      <td>NaN</td>\n",
       "      <td>NaN</td>\n",
       "      <td>NaN</td>\n",
       "    </tr>\n",
       "    <tr>\n",
       "      <th>223400</th>\n",
       "      <td>Paleo Diet Recipes</td>\n",
       "      <td>NEUTRAL</td>\n",
       "      <td>NaN</td>\n",
       "      <td>NaN</td>\n",
       "      <td>NaN</td>\n",
       "      <td>NaN</td>\n",
       "    </tr>\n",
       "  </tbody>\n",
       "</table>\n",
       "<p>225402 rows × 6 columns</p>\n",
       "</div>"
      ],
      "text/plain": [
       "                                                     main sentiment lang  \\\n",
       "225401  @S_U_A_R if killing others not abuse and is pe...  NEGATIVE   en   \n",
       "225373  RT https://t.co/8Qi0zgIX8x Ketogenic Diet and ...   NEUTRAL   en   \n",
       "225381  @robbwolf I need some help...I know you get th...   NEUTRAL   en   \n",
       "225380  agreed! RT @PeachyPalate: Sunday meal prep sho...   NEUTRAL   en   \n",
       "225379  RT @lfernandezar: @marisolazuaga @PSOE manda n...   NEUTRAL   es   \n",
       "225378  @PaleoSteno I would subscribe to them just to ...   NEUTRAL   en   \n",
       "225377  RT @KoalaCalvo: @Aiatar demasiado pronto dices...   NEUTRAL   es   \n",
       "225376  Recette cookie paléo - Cookie Time https://t.c...   NEUTRAL   fr   \n",
       "225375  What if we told you that those #lowfat food op...   NEUTRAL   en   \n",
       "225372  RT https://t.co/Cao24dliul RT https://t.co/9zW...   NEUTRAL   en   \n",
       "225383  Y agarrado a la botella viendo como sale el So...   NEUTRAL   es   \n",
       "225371  The Ketogenic Diet and Peter Attia's War on In...   NEUTRAL   en   \n",
       "225370  RT @brostoevsky: we use 6000 year old paleoind...   NEUTRAL   en   \n",
       "225369        @LDrogosPhD I want some of this @PaleoGould   NEUTRAL   en   \n",
       "225368                              @MMAFighting aww damn  NEGATIVE   en   \n",
       "225367   Desde noviembre que no nos vemos, me mato chabon  NEGATIVE   es   \n",
       "225366  @neuromusic @PaleoGould How about the headline...   NEUTRAL   en   \n",
       "225365  I'm downstairs baking Paleo cookies, Wyatt's u...   NEUTRAL   en   \n",
       "225382  RT @GtrMcrCricket: A hard working team &amp; a...   NEUTRAL   en   \n",
       "225374                                    pusing pala opa   NEUTRAL   es   \n",
       "225384          @primalretreat thank you for the retweet!  POSITIVE   en   \n",
       "225393  @DaniAmbrosino aguante @SabriRavelli ls demás ...   NEUTRAL   es   \n",
       "225385  RT @smokindicks: Top 5 THOT jobs:\\n\\n1. Water ...   NEUTRAL   en   \n",
       "225400    @julieta994 @PaleoAye Buenisimas las dos!!! 😀😀😀   NEUTRAL   es   \n",
       "225399  @Barrett_Jackson is must-see-TV.  It makes my ...   NEUTRAL   en   \n",
       "225398          RT @Luske_Wolf: @Merypalao26 Soy Luiss xd  POSITIVE   en   \n",
       "225397  RT ThePaleoMom I started https://t.co/z1t6fHuo...   NEUTRAL   en   \n",
       "225395  @qmph_es @gaznapiro711 @paleofreak La homeopat...   NEUTRAL   es   \n",
       "225394  Best Paleo Cookbook is out! https://t.co/4S5jN...   NEUTRAL   en   \n",
       "225396  RT @Chlougouf: La paléontologie ou la science ...   NEUTRAL   fr   \n",
       "...                                                   ...       ...  ...   \n",
       "55504                                         #paleo #yum   NEUTRAL  NaN   \n",
       "56154   2. Si tienes dos, toma una y a la primera opor...   NEUTRAL  NaN   \n",
       "57879              #Failio or #faileo #definitelynotpaleo   NEUTRAL  NaN   \n",
       "95720   @Palaeocast @SVP_vertpaleo  @BlueLionPhotos @b...   NEUTRAL  NaN   \n",
       "112737  Per l'epoca paleocristiana ne devo sapere altr...   NEUTRAL  NaN   \n",
       "113153          Pomeriggio: Direzione Palaolimpico Torino   NEUTRAL  NaN   \n",
       "115949                                         Paleodieta   NEUTRAL  NaN   \n",
       "162769  7)que sa reconstitution appuyé sur des travaux...   NEUTRAL  NaN   \n",
       "164076            Me: They had TVs in the Paleozoic Era?    NEUTRAL  NaN   \n",
       "169241                                   -santapaleon?? 😒   NEUTRAL  NaN   \n",
       "169804                        #PalaoyPachecoLaMismaMierda   NEUTRAL  NaN   \n",
       "169805                                    #PalaoyPacheco…   NEUTRAL  NaN   \n",
       "171008                                     Is that Paleo?   NEUTRAL  NaN   \n",
       "171043                       .. Pos ay pa la otra mexico♥   NEUTRAL  NaN   \n",
       "171563  Énorme show des casseursflowters ce soir au #p...   NEUTRAL  NaN   \n",
       "183060  Me: *in my head* FUCK YOUR PALEO AND HAVE A ME...  POSITIVE  NaN   \n",
       "187959  Temo seriamente che mio fratello viva nel pale...  NEGATIVE  NaN   \n",
       "188612                              #GopalaGopala on Jan9   NEUTRAL  NaN   \n",
       "188744                              #GopalaGopala on Jan9   NEUTRAL  NaN   \n",
       "189695  É DALL'ERA PALEOLITICA CHE NON PRENDO DUE LINE...   NEUTRAL  NaN   \n",
       "189696  É DALL'ERA PALEOLITICA CHE NON PRENDO DUE LINE...   NEUTRAL  NaN   \n",
       "190949                             #GopalaGopalaOnJan10th   NEUTRAL  NaN   \n",
       "191879                                     #GopalaGopalao   NEUTRAL  NaN   \n",
       "201779                         KAPALAOSKAPALAPALSPALSOSKA   NEUTRAL  NaN   \n",
       "202024  Sure, they existed, probably in more fantastic...  POSITIVE  NaN   \n",
       "206919  @Paleoturkey #SNL really doesn't have that muc...   NEUTRAL  NaN   \n",
       "214859                      its pale oval fruits lie like  POSITIVE  NaN   \n",
       "219845     La cappella Sistina del paleolitico #Wikipedia   NEUTRAL  NaN   \n",
       "221634    Que se muevan pa la orilla cuando yo aterricee🎵   NEUTRAL  NaN   \n",
       "223400                                 Paleo Diet Recipes   NEUTRAL  NaN   \n",
       "\n",
       "                        id             user        Date  \n",
       "225401  693929301247397888    VeganVenturer  2016-01-31  \n",
       "225373  693725709764825088        reamol665  2016-01-31  \n",
       "225381  693788439746088960        DrudownT1  2016-01-31  \n",
       "225380  693783716989112320     CotterCrunch  2016-01-31  \n",
       "225379  693779791120580608  andres_domenech  2016-01-31  \n",
       "225378  693778792867876864       DjLoneless  2016-01-31  \n",
       "225377  693769481496166400           Aiatar  2016-01-31  \n",
       "225376  693759859767001088       modsapiens  2016-01-31  \n",
       "225375  693758341416402944     IntellHealth  2016-01-31  \n",
       "225372  693691656202231809        reamol665  2016-01-31  \n",
       "225383  693806546552250369         Paleo_98  2016-01-31  \n",
       "225371  693686274889220097     ketodietnews  2016-01-31  \n",
       "225370  693640380827471872        funkyjams  2016-01-31  \n",
       "225369  693628401911877633   BrainyMicrobes  2016-01-31  \n",
       "225368  693628355778846720    PaleoJiuJitsu  2016-01-31  \n",
       "225367  693627932120629248        LuPapaleo  2016-01-31  \n",
       "225366  693618012612460547          hormiga  2016-01-31  \n",
       "225365  693604238497320960     annelisebaer  2016-01-31  \n",
       "225382  693805950977863680      PeterHamer4  2016-01-31  \n",
       "225374  693748732269977600          elahkdh  2016-01-31  \n",
       "225384  693819850913873920   ukpaleosociety  2016-01-31  \n",
       "225393  693876423669518336    claugonza3407  2016-01-31  \n",
       "225385  693835852154281986        mike_1198  2016-01-31  \n",
       "225400  693920665183895553      pjavierpoch  2016-01-31  \n",
       "225399  693918656137412609      nopainpaleo  2016-01-31  \n",
       "225398  693890751411929090      Merypalao26  2016-01-31  \n",
       "225397  693889442814246912        photorele  2016-01-31  \n",
       "225395  693887622452744192        Mihaildom  2016-01-31  \n",
       "225394  693886313863516161    shannonstone7  2016-01-31  \n",
       "225396  693889375684419585      Delphineas_  2016-01-31  \n",
       "...                    ...              ...         ...  \n",
       "55504                  NaN              NaN         NaN  \n",
       "56154                  NaN              NaN         NaN  \n",
       "57879                  NaN              NaN         NaN  \n",
       "95720                  NaN              NaN         NaN  \n",
       "112737                 NaN              NaN         NaN  \n",
       "113153                 NaN              NaN         NaN  \n",
       "115949                 NaN              NaN         NaN  \n",
       "162769                 NaN              NaN         NaN  \n",
       "164076                 NaN              NaN         NaN  \n",
       "169241                 NaN              NaN         NaN  \n",
       "169804                 NaN              NaN         NaN  \n",
       "169805                 NaN              NaN         NaN  \n",
       "171008                 NaN              NaN         NaN  \n",
       "171043                 NaN              NaN         NaN  \n",
       "171563                 NaN              NaN         NaN  \n",
       "183060                 NaN              NaN         NaN  \n",
       "187959                 NaN              NaN         NaN  \n",
       "188612                 NaN              NaN         NaN  \n",
       "188744                 NaN              NaN         NaN  \n",
       "189695                 NaN              NaN         NaN  \n",
       "189696                 NaN              NaN         NaN  \n",
       "190949                 NaN              NaN         NaN  \n",
       "191879                 NaN              NaN         NaN  \n",
       "201779                 NaN              NaN         NaN  \n",
       "202024                 NaN              NaN         NaN  \n",
       "206919                 NaN              NaN         NaN  \n",
       "214859                 NaN              NaN         NaN  \n",
       "219845                 NaN              NaN         NaN  \n",
       "221634                 NaN              NaN         NaN  \n",
       "223400                 NaN              NaN         NaN  \n",
       "\n",
       "[225402 rows x 6 columns]"
      ]
     },
     "execution_count": 140,
     "metadata": {},
     "output_type": "execute_result"
    }
   ],
   "source": [
    "dataPaleo['Date'] = dataPaleo['date'].apply(lambda x : process_date(x))\n",
    "dataPaleo = dataPaleo.drop('date', axis=1)\n",
    "dataPaleo.sort_values(by='Date', ascending=False)#, na_position='first')"
   ]
  },
  {
   "cell_type": "code",
   "execution_count": null,
   "metadata": {
    "collapsed": true
   },
   "outputs": [],
   "source": []
  }
 ],
 "metadata": {
  "kernelspec": {
   "display_name": "Python 3",
   "language": "python",
   "name": "python3"
  },
  "language_info": {
   "codemirror_mode": {
    "name": "ipython",
    "version": 3
   },
   "file_extension": ".py",
   "mimetype": "text/x-python",
   "name": "python",
   "nbconvert_exporter": "python",
   "pygments_lexer": "ipython3",
   "version": "3.6.0"
  }
 },
 "nbformat": 4,
 "nbformat_minor": 2
}
